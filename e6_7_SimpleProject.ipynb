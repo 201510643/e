{
 "cells": [
  {
   "cell_type": "markdown",
   "metadata": {
    "slideshow": {
     "slide_type": "slide"
    }
   },
   "source": [
    "# 6 Simple Project\n",
    "\n",
    "Last Updated 20190410WEB1530 20180717TUE1700 201801231MON1800 20160207\n",
    "\n",
    "## 학습내용\n",
    "\n",
    "### 목표\n",
    "\n",
    "첫 프로젝트를 구현해 보자.\n",
    "Solidity로 스마트컨트랙을 만들고, nodejs로 앞 단을 구현한다.\n"
   ]
  },
  {
   "cell_type": "markdown",
   "metadata": {
    "collapsed": true,
    "slideshow": {
     "slide_type": "subslide"
    }
   },
   "source": [
    "### 목차\n",
    "\n",
    "* E.6 A Simple Project\n",
    "* E.6.1 절차\n",
    "* E.6.2 Greeter\n",
    "\t* 컨트랙 개발\n",
    "\t* 컴파일\n",
    "\t* 컨트랙 배포\n",
    "\t* 사용\n",
    "* E.6.3 간단한 계수기\n",
    "* LAB Example.sol -> Timer\n",
    "* LAB multiply7\n",
    "\n",
    "### 문제\n",
    "\n",
    "* 문제 e-6: [solidity 프로그램을 컴파일하기 (solc)](#e-6)\n"
   ]
  },
  {
   "cell_type": "markdown",
   "metadata": {
    "slideshow": {
     "slide_type": "subslide"
    }
   },
   "source": [
    "## 6.1 절차\n",
    "\n",
    "블록체인 애플리케이션은 컨트랙을 개발해서 블록체인에 배포한후 API를 사용한다.\n",
    "\n",
    "단계 | 구분 | 설명 | 결과\n",
    "-----|-----|-----|-----\n",
    "1 | 개발 | 언어로 contract 구현 | 소스\n",
    "2 | 컴파일 | 소스를 evm 바이너리코드가 생성 | abi, bin (code)\n",
    "3 | 컨트랙 배포 | abi, bin으로 객체생성, 배포요청, 마이닝, blockchain의 주소 획득 | transaction hash, contractAddress\n",
    "4 | 컨트랙 생성 | abi, contractAddress로 contract api 호출 | contract api 결과\n",
    "5 | 사용 | 거래를 생성하고 마이닝, 거래 기록 |  transactionHash"
   ]
  },
  {
   "cell_type": "markdown",
   "metadata": {
    "slideshow": {
     "slide_type": "slide"
    }
   },
   "source": [
    "## E.6.2 Hello World\n",
    "\n",
    "프로그래밍을 배우면서 보통 \"Hello World\"를 만들게 된다.\n",
    "간단한 프로그램이지만 코딩, 컴파일, 실행, 테스트를 해보면서 그 언어의 특징을 이해하게 된다.\n"
   ]
  },
  {
   "cell_type": "markdown",
   "metadata": {
    "slideshow": {
     "slide_type": "subslide"
    }
   },
   "source": [
    "### 단계 1: 컨트랙 개발\n",
    "\n",
    "\n",
    "줄 | 설명\n",
    "-----|-----\n",
    "1 | 0.5이상의 최신 버전으로 컴파일\n",
    "2 | 컨트랙 명칭을 Hello로 정함\n",
    "3 | sayHello() 함수, string으로 지역변수 값을 반환하는 단순한 조회\n",
    "4 | \"Hello World\" 반환"
   ]
  },
  {
   "cell_type": "code",
   "execution_count": 2,
   "metadata": {
    "collapsed": false,
    "slideshow": {
     "slide_type": "subslide"
    }
   },
   "outputs": [
    {
     "name": "stdout",
     "output_type": "stream",
     "text": [
      "Overwriting src/Hello.sol\n"
     ]
    }
   ],
   "source": [
    "%%writefile src/Hello.sol\n",
    "pragma solidity ^0.5.0;\n",
    "contract Hello {\n",
    "    function sayHello() pure public returns(string memory) {\n",
    "        return \"Hello World\";\n",
    "    }\n",
    "}"
   ]
  },
  {
   "cell_type": "markdown",
   "metadata": {
    "slideshow": {
     "slide_type": "subslide"
    }
   },
   "source": [
    "## 단계 2: 컴파일\n",
    "\n",
    "REMIX web3 deploy\n",
    "0.5.0으로 컴파일\n",
    "\n",
    "![alt text](figures/sol_helloWeb3Remix.png \"geth download page\")"
   ]
  },
  {
   "cell_type": "markdown",
   "metadata": {
    "slideshow": {
     "slide_type": "subslide"
    }
   },
   "source": [
    "* REMIX로 컴파일해보기\n",
    "    * Hello.sol을 코딩한 후,\n",
    "    * compile TAB에서 \"Start to compile\"을 누른다.\n",
    "    * `Details` 버튼을 누르고 뜨는 화면에서 'WEB3DEPLOY'를 복사"
   ]
  },
  {
   "cell_type": "markdown",
   "metadata": {
    "slideshow": {
     "slide_type": "subslide"
    }
   },
   "source": [
    "```javascript\n",
    "var helloContract = web3.eth.contract([{\"constant\":true,\"inputs\":[],\"name\":\"sayHello\",\"outputs\":[{\"name\":\"\",\"type\":\"string\"}],\"payable\":false,\"stateMutability\":\"pure\",\"type\":\"function\"}]);\n",
    "var hello = helloContract.new(\n",
    "   {\n",
    "     from: web3.eth.accounts[0], \n",
    "     data: '0x608060405234801561001057600080fd5b50610139806100206000396000f3fe608060405234801561001057600080fd5b5060043610610048576000357c010000000000000000000000000000000000000000000000000000000090048063ef5fb05b1461004d575b600080fd5b6100556100d0565b6040518080602001828103825283818151815260200191508051906020019080838360005b8381101561009557808201518184015260208101905061007a565b50505050905090810190601f1680156100c25780820380516001836020036101000a031916815260200191505b509250505060405180910390f35b60606040805190810160405280600b81526020017f48656c6c6f20576f726c6400000000000000000000000000000000000000000081525090509056fea165627a7a72305820992c2f4c73a27b9eb53c6aa7b52ba8a5eddba258089eb7d1a3710711703459950029', \n",
    "     gas: '4700000'\n",
    "   }, function (e, contract){\n",
    "    console.log(e, contract);\n",
    "    if (typeof contract.address !== 'undefined') {\n",
    "         console.log('Contract mined! address: ' + contract.address + ' transactionHash: ' + contract.transactionHash);\n",
    "    }\n",
    " })\n",
    "```"
   ]
  },
  {
   "cell_type": "markdown",
   "metadata": {
    "slideshow": {
     "slide_type": "subslide"
    }
   },
   "source": [
    "### 단계 3: 배포\n",
    "\n",
    "* 객체는 컨트랙 외부 (web3)에서 생성\n",
    "\n",
    "```python\n",
    "var _MyContract = web3.eth.contract(source);\n",
    "MyContract = web3.eth.contract(_MyContract.CONTRACT_NAME.info.abiDefinition);\n",
    "var contractInstance = MyContract.new({from: myAccount, gas: 1000000});\n",
    "```\n",
    "\n",
    "* 컨트랙A에서 다른 컨트랙B의 객체를 생성할 수 있다\n",
    "    * A는 B의 주소를 알아야 한다 (아래 상술)"
   ]
  },
  {
   "cell_type": "code",
   "execution_count": 9,
   "metadata": {
    "collapsed": false,
    "slideshow": {
     "slide_type": "subslide"
    }
   },
   "outputs": [
    {
     "name": "stdout",
     "output_type": "stream",
     "text": [
      "Overwriting src/HelloDeploy.js\n"
     ]
    }
   ],
   "source": [
    "%%writefile src/HelloDeploy.js\n",
    "var Web3=require('web3');\n",
    "var web3 = new Web3(new Web3.providers.HttpProvider(\"http://117.16.44.45:8445\"));\n",
    "var shelloContract = web3.eth.contract([{\"constant\":true,\"inputs\":[],\"name\":\"sayHello\",\"outputs\":[{\"name\":\"\",\"type\":\"string\"}],\"payable\":false,\"stateMutability\":\"pure\",\"type\":\"function\"}]);\n",
    "var shello = shelloContract.new(\n",
    "   {\n",
    "     from: web3.eth.accounts[0],\n",
    "     data: '0x608060405234801561001057600080fd5b50610139806100206000396000f3fe608060405234801561001057600080fd5b5060043610610048576000357c010000000000000000000000000000000000000000000000000000000090048063ef5fb05b1461004d575b600080fd5b6100556100d0565b6040518080602001828103825283818151815260200191508051906020019080838360005b8381101561009557808201518184015260208101905061007a565b50505050905090810190601f1680156100c25780820380516001836020036101000a031916815260200191505b509250505060405180910390f35b60606040805190810160405280600b81526020017f48656c6c6f20576f726c6400000000000000000000000000000000000000000081525090509056fea165627a7a72305820992c2f4c73a27b9eb53c6aa7b52ba8a5eddba258089eb7d1a3710711703459950029', \n",
    "     gas: '4700000'\n",
    "   }, function (e, contract){\n",
    "    //console.log(e, contract);\n",
    "    if (typeof contract.address !== 'undefined') {\n",
    "         console.log('Contract mined! address: ' + contract.address + ' transactionHash: ' + contract.transactionHash);\n",
    "    }\n",
    " })"
   ]
  },
  {
   "cell_type": "code",
   "execution_count": 4,
   "metadata": {
    "collapsed": false,
    "slideshow": {
     "slide_type": "-"
    }
   },
   "outputs": [
    {
     "name": "stdout",
     "output_type": "stream",
     "text": [
      "Contract mined! address: 0xdab9fd314a75277797fc2b5013265f0db1ef9322 transactionHash: 0xd2aa5a88271b61aaba638712b1feeebdde95248218222ce4c586229e03d26708\r\n"
     ]
    }
   ],
   "source": [
    "!node src/HelloDeploy.js"
   ]
  },
  {
   "cell_type": "markdown",
   "metadata": {
    "slideshow": {
     "slide_type": "subslide"
    }
   },
   "source": [
    "* node로 HelloDeploy.js를 실행하면 화면좌측에 보이듯이 transaction이 생성되고 그 hash값 이 주어진다.\n",
    "\n",
    "우측 geth 단말에서 보듯이 대기중 transaction hash 값이 서로 일치한다.\n",
    "마이닝을 하고 나면 contract 주소가 주어진다.\n",
    "\n",
    "```python\n",
    "INFO [01-07|10:34:47.871] Submitted contract creation\n",
    "fullhash=0x851d565882f9758d03ef232a5badb6f23629a1f5768db2f3ca2c13e22a1ef40b\n",
    "contract=0xd29b9e81388F91658a2120587A0e123c29eC6c36\n",
    "```\n",
    "\n",
    "![alt text](figures/sol_helloWeb3DeployMining.png \"deploy hello.sol using web3 with mining\")"
   ]
  },
  {
   "cell_type": "markdown",
   "metadata": {
    "collapsed": true,
    "slideshow": {
     "slide_type": "subslide"
    }
   },
   "source": [
    "위에서 얻은 contract address를 넣어 방금 만든 contract을 사용할 수 있게 된다.\n",
    "\n",
    "* 객체를 생성할 경우 abi, bin을 사용한다.\n",
    "* 함수를 호출할 경우 로컬, 블록체인을 사용할지 판단한다.\n",
    "    * 값을 읽는 경우 call(). view, pure, constant 함수를 호출하는 경우. 블록체인에 기록되지 않는다. gas비용이 발생하지 않는다.\n",
    "    * 값을 변경하는 경우, 함수를 직접 호출하거나 sendTransaction()을 사용한다. gas비용이 발생한다."
   ]
  },
  {
   "cell_type": "code",
   "execution_count": 5,
   "metadata": {
    "collapsed": false,
    "slideshow": {
     "slide_type": "subslide"
    }
   },
   "outputs": [
    {
     "name": "stdout",
     "output_type": "stream",
     "text": [
      "Overwriting src/HelloUse.js\n"
     ]
    }
   ],
   "source": [
    "%%writefile src/HelloUse.js\n",
    "var Web3=require('web3');\n",
    "var web3 = new Web3(new Web3.providers.HttpProvider(\"http://117.16.44.45:8445\"));\n",
    "var shelloContract = web3.eth.contract([{\"constant\":true,\"inputs\":[],\"name\":\"sayHello\",\"outputs\":[{\"name\":\"\",\"type\":\"string\"}],\"payable\":false,\"stateMutability\":\"pure\",\"type\":\"function\"}]);\n",
    "var hello = shelloContract.at(\"0xdab9fd314a75277797fc2b5013265f0db1ef9322\");\n",
    "console.log(hello.sayHello.call());"
   ]
  },
  {
   "cell_type": "code",
   "execution_count": 6,
   "metadata": {
    "collapsed": false
   },
   "outputs": [
    {
     "name": "stdout",
     "output_type": "stream",
     "text": [
      "Hello World\r\n"
     ]
    }
   ],
   "source": [
    "!node src/HelloUse.js"
   ]
  },
  {
   "cell_type": "markdown",
   "metadata": {
    "slideshow": {
     "slide_type": "slide"
    }
   },
   "source": [
    "## E.6.2 Greeter\n",
    "<a id='e-6'></a>\n",
    "\n",
    "* 개발-컴파일-거래-배포-사용 개발주기의 '컴파일' 단계\n",
    "* 컴파일은 (1) REMIX를 사용하거나, (2) solc compiler를 사용하면 된다.\n",
    "\n",
    "컴파일 방법 | 설명\n",
    "-----|-----\n",
    "REMIX | https://ethereum.github.io/browser-solidity\n",
    "solc | linux, osx, windows (cygwin)\n"
   ]
  },
  {
   "cell_type": "markdown",
   "metadata": {
    "slideshow": {
     "slide_type": "subslide"
    }
   },
   "source": [
    "### 1. 컨트랙 개발\n",
    "\n",
    "생성자는 배포하는 시점에 실행이 되기 때문에 'Hello' 문자열이 기본으로 저장된다.\n",
    "\n",
    "* 매우 단순한 기능으로, set(), get()함수를 구현했다.\n",
    "    * 이들 함수가 블록체인에 로그가 남는지 하는 문제이다.\n",
    "    * get()은 블록체인에서 읽어오는 함수, set()은 블록체인의 값을 변경한다.\n",
    "```python\n",
    "set() 또는 set.sendTransaction()\n",
    "```"
   ]
  },
  {
   "cell_type": "code",
   "execution_count": 20,
   "metadata": {
    "collapsed": false,
    "slideshow": {
     "slide_type": "subslide"
    }
   },
   "outputs": [
    {
     "name": "stdout",
     "output_type": "stream",
     "text": [
      "Overwriting src/greeter.sol\n"
     ]
    }
   ],
   "source": [
    "%%writefile src/greeter.sol\n",
    "pragma solidity ^0.5.0;\n",
    "\n",
    "contract Greeter {\n",
    "    string greeting;\n",
    "\n",
    "    constructor() public {\n",
    "        greeting = 'Hello';\n",
    "    }\n",
    "\n",
    "    function setGreeting(string memory _greeting) public {\n",
    "        greeting = _greeting;\n",
    "    }\n",
    "\n",
    "    function greet() view public returns (string memory) {\n",
    "        return greeting;\n",
    "    }\n",
    "}"
   ]
  },
  {
   "cell_type": "markdown",
   "metadata": {
    "slideshow": {
     "slide_type": "subslide"
    }
   },
   "source": [
    "### 2. 컴파일\n",
    "\n",
    "REMIX, Solc로 해볼 수 있다."
   ]
  },
  {
   "cell_type": "markdown",
   "metadata": {
    "slideshow": {
     "slide_type": "subslide"
    }
   },
   "source": [
    "#### 2.1 REMIX\n",
    "\n",
    "REMIX는 컴파일, 디버깅, 편집, 배포, 테스트 등 Solidity 개발에 필요한 통합개발환경 IDE, Integrated Development Environment이다.\n",
    "[REMIX](https://ethereum.github.io/browser-solidity/)는 인터넷으로 바로 이용할 수 있을 수 있다.\n",
    "또는 자신의 컴퓨터에 https://github.com/ethereum/remix-live/tree/gh-pages로 가서 zip파일을 내려받아 설치하여 사용할 수 있다.\n",
    "또는 github gist로 내보내거나, 읽을 수 있다. '&gist=여기에 id'를 url에 넣어서 Enter\n",
    "\n",
    "![alt text](figures/2_remixConnectToWebProvider.png \"remix connecting to web provider\")"
   ]
  },
  {
   "cell_type": "markdown",
   "metadata": {
    "slideshow": {
     "slide_type": "subslide"
    }
   },
   "source": [
    "1. 좌측 에디터에 프로그램을 작성한다.\n",
    "2. 프로그램의 이름을 정한다 ```browser/```는 기본으로 주어지는 디렉토리이므로 그냥 둔다.\n",
    "3. 우측 상단의 'Compile' 탭을 선택한다.\n",
    "그 탭을 누르면 컴파일러 버전을 선택하고, 컴파일 명령 버튼을 누른다.\n",
    "\n",
    "\n",
    "* solr 'npm install solidity-repl'"
   ]
  },
  {
   "cell_type": "markdown",
   "metadata": {
    "slideshow": {
     "slide_type": "subslide"
    }
   },
   "source": [
    "#### 2.2 Solc\n",
    "\n",
    "Solc 컴파일러가 설정되었는지 확인\n",
    "다른 언어에서 내장형으로 컴파일 할 수 있다. node solc, py-solc 등"
   ]
  },
  {
   "cell_type": "code",
   "execution_count": 1,
   "metadata": {
    "collapsed": false,
    "scrolled": true,
    "slideshow": {
     "slide_type": "subslide"
    }
   },
   "outputs": [
    {
     "name": "stdout",
     "output_type": "stream",
     "text": [
      "solc, the solidity compiler commandline interface\r\n",
      "Version: 0.5.2-develop.2018.12.18+commit.eed46f00.Linux.g++\r\n"
     ]
    }
   ],
   "source": [
    "!solc --version"
   ]
  },
  {
   "cell_type": "markdown",
   "metadata": {
    "slideshow": {
     "slide_type": "subslide"
    }
   },
   "source": [
    "geth 1.6부터는 eth_compilers, eth_compileSolidity 지원이 중단되었다.\n",
    "컴파일하려면 remix 또는 solc를 사용해야 한다.\n",
    "\n",
    "```javascript\n",
    "> eth.getCompilers()\n",
    "```"
   ]
  },
  {
   "cell_type": "code",
   "execution_count": 2,
   "metadata": {
    "collapsed": true
   },
   "outputs": [],
   "source": [
    "myrpc=\"http://117.16.44.45:8445\""
   ]
  },
  {
   "cell_type": "code",
   "execution_count": 3,
   "metadata": {
    "collapsed": false,
    "slideshow": {
     "slide_type": "subslide"
    }
   },
   "outputs": [
    {
     "name": "stdout",
     "output_type": "stream",
     "text": [
      "Error: The method eth_getCompilers does not exist/is not available\n",
      "    at web3.js:3143:20\n",
      "    at web3.js:6347:15\n",
      "    at web3.js:5081:36\n",
      "    at <anonymous>:1:1\n",
      "\n"
     ]
    }
   ],
   "source": [
    "%%bash -s \"$myrpc\"\n",
    "geth --exec \"eth.getCompilers()\" attach $1"
   ]
  },
  {
   "cell_type": "code",
   "execution_count": 22,
   "metadata": {
    "collapsed": false,
    "slideshow": {
     "slide_type": "subslide"
    }
   },
   "outputs": [
    {
     "name": "stdout",
     "output_type": "stream",
     "text": [
      "Warning: This is a pre-release compiler version, please do not use it in production.\r\n",
      "\r\n",
      "======= src/greeter.sol:Greeter =======\r\n",
      "Contract JSON ABI \r\n",
      "[{\"constant\":false,\"inputs\":[{\"name\":\"_greeting\",\"type\":\"string\"}],\"name\":\"setGreeting\",\"outputs\":[],\"payable\":false,\"stateMutability\":\"nonpayable\",\"type\":\"function\"},{\"constant\":true,\"inputs\":[],\"name\":\"greet\",\"outputs\":[{\"name\":\"\",\"type\":\"string\"}],\"payable\":false,\"stateMutability\":\"view\",\"type\":\"function\"},{\"inputs\":[],\"payable\":false,\"stateMutability\":\"nonpayable\",\"type\":\"constructor\"}]\r\n"
     ]
    }
   ],
   "source": [
    "!solc --abi src/greeter.sol"
   ]
  },
  {
   "cell_type": "code",
   "execution_count": 23,
   "metadata": {
    "collapsed": false,
    "slideshow": {
     "slide_type": "subslide"
    }
   },
   "outputs": [
    {
     "name": "stdout",
     "output_type": "stream",
     "text": [
      "Warning: This is a pre-release compiler version, please do not use it in production.\r\n",
      "\r\n",
      "======= src/greeter.sol:Greeter =======\r\n",
      "Binary: \r\n",
      "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\r\n"
     ]
    }
   ],
   "source": [
    "!solc --bin src/greeter.sol"
   ]
  },
  {
   "cell_type": "markdown",
   "metadata": {
    "slideshow": {
     "slide_type": "subslide"
    }
   },
   "source": [
    "gas비용이 무한infinite로 산정되었다. 이 경우는 산정할 수 없다는 표현이 더 적절하다. 프로그램의 string은 배열이고 그 크기를 알 수 없기 때문에 그렇다.\n",
    "실제 동적배열 또는 반복문을 적절하지 못하게 사용하면 무한의 gas비가 산정될 수 있고 따라서 실행이 되지 않을 수 있다는 점에 유의해야 한다.\n",
    "\n",
    "string을 byte32로 변경하면 글자 수가 제한되므로 gas비가 산정\n",
    "```python\n",
    "pragma solidity ^0.5.0;\n",
    "contract Greeter {\n",
    "    bytes32 greeting;\n",
    "    constructor() public {\n",
    "        greeting = 'Hello';\n",
    "    }\n",
    "    function setGreeting(bytes32 _greeting) public {\n",
    "        greeting = _greeting;\n",
    "    }\n",
    "    function greet() view public returns (bytes32) {\n",
    "        return greeting;\n",
    "    }\n",
    "}\n",
    "```"
   ]
  },
  {
   "cell_type": "code",
   "execution_count": 21,
   "metadata": {
    "collapsed": false,
    "slideshow": {
     "slide_type": "subslide"
    }
   },
   "outputs": [
    {
     "name": "stdout",
     "output_type": "stream",
     "text": [
      "Warning: This is a pre-release compiler version, please do not use it in production.\r\n",
      "\r\n",
      "======= src/greeter.sol:Greeter =======\r\n",
      "Gas estimation:\r\n",
      "construction:\r\n",
      "   infinite + 160600 = infinite\r\n",
      "external:\r\n",
      "   greet():\tinfinite\r\n",
      "   setGreeting(string):\tinfinite\r\n"
     ]
    }
   ],
   "source": [
    "!solc --gas src/greeter.sol"
   ]
  },
  {
   "cell_type": "markdown",
   "metadata": {
    "slideshow": {
     "slide_type": "subslide"
    }
   },
   "source": [
    "### 3. 컨트랙 배포\n",
    "\n",
    "abi, bin으로 contract 객체의 생성, 배포요청, 마이닝, blockchain에 주소를 받기 까지의 과정을 말한다.\n",
    "\n",
    "구분 | 설명 | 결과\n",
    "-----|-----|-----\n",
    "객체 생성 | abi, bin으로 eth.contract(abiDefinition).new | 컨트랙 객체\n",
    "배포요청 | 컨트랙 배포(거래) 요청하고 마이닝 대기 | transactionHash\n",
    "마이닝 | blockchain 주소 획득 | contractAddress\n",
    "\n",
    "배포하기전에 지급계정을 해제해야 한다.\n",
    "\n",
    "```python\n",
    "personal.unlockAccount()\n",
    "```\n",
    "\n",
    "배포하려면 mining을 해야 한다.\n",
    "```python\n",
    "> miner.start(1);admin.sleepBlocks(1);miner.stop\n",
    "```\n",
    "\n",
    "마이닝이 되고 나면 비로서 애플리케이션이 블록체인에 배포된다.\n",
    "따라서 blockNumber +1 증가한다.\n",
    "주소 값이 생성된다. 마이닝 완료 전 null이다.\n",
    "\n",
    "```python\n",
    "> eth.getTransactionReceipt(\"0x3c58a...50bd5\")\n",
    "> eth.getTransactionReceipt(\"0x3c58a...50bd5\").contractAddress\n",
    "> eth.getCode(greeter.address) 배포 주소로 deployed code를 확인\n",
    "```"
   ]
  },
  {
   "cell_type": "markdown",
   "metadata": {
    "slideshow": {
     "slide_type": "subslide"
    }
   },
   "source": [
    "### 3.1 REMIX\n",
    "\n",
    "'Run'탭을 누르고 'Deply'버튼을 눌러 배포할 수 있다.\n",
    "배포할 때는 3가지 옵션:\n",
    "- JavaScript VM: 브라우저에서 독립적으로 실행. 콘트랙을 테스트할 때 유용하다.\n",
    "- Injected Web3: MetaMask, Mist는 web3의 provider로 사용하는 경우.\n",
    "    * metamask에서 private network으로 전송할 경우 invalid sender 오류\n",
    "        * Sounds like a workaround is to use command line flags to ensure your private network's chainId is the same as its networkId. (https://github.com/MetaMask/metamask-extension/issues/1357)\n",
    "        * I run into the same issue, I realized that the CHAINID in the genesis block and the geth --networkid was not the same (similar https://ethereum.stackexchange.com/questions/13498/invalid-sender-error-on-private-chain).\n",
    "\n",
    "- Web3 Provider: rpc를 통하여  http://localhost:8545\n",
    "    * Web3 prvider에 연결하면 자신의 계정이 나타난다."
   ]
  },
  {
   "cell_type": "markdown",
   "metadata": {
    "slideshow": {
     "slide_type": "subslide"
    }
   },
   "source": [
    "Deployed Contracts 아래에 해당 컨트랙을 선택하여 실행해 볼 수 있다.\n",
    "분홍색은 transaction\n",
    "하늘색은 view, pure 함수로 블록체인에 기록되지 않는 함수이다. \n",
    "* '함수' 사용\n",
    "    * setter함수에 필요한 args를 타입에 맞게 넣고, '함수 버튼'을 누른다. ABI가 출력된다.\n",
    "\n",
    "타잎 | 구성 | 예\n",
    "-----|-----|-----\n",
    "bytes | 따옴표 | \"0x123456\"\n",
    "strings | 따옴표 |\n",
    "large numbers | 따옴표 |\n",
    "array | [] | [\"hello\",42,\"0x123456\""
   ]
  },
  {
   "cell_type": "markdown",
   "metadata": {
    "slideshow": {
     "slide_type": "subslide"
    }
   },
   "source": [
    "REMIX\n",
    "\n",
    "Web3 prvider 자신의 계정에 사인을 한다. 그리고 우측 'Deploy'버튼을 누르면 하단에 보이듯이 contract address가 주어진다.\n",
    "단 mining이 되어야 한다. miner.start()\n",
    "그 주소와 \n",
    "![alt text](figures/2_remixConnectToWebProviderKeySign.png \"remix connecting to web provider\")"
   ]
  },
  {
   "cell_type": "markdown",
   "metadata": {
    "slideshow": {
     "slide_type": "subslide"
    }
   },
   "source": [
    "REMIX\n",
    "\n",
    "Web3 prvider 우축 하단에 보이듯이 contract address를 가지고 사용하는 화면.\n",
    "파워쉘 화면의 contract address는 REMIX에서 배포후 얻은 contract address이다.\n",
    "\n",
    "![alt text](figures/2_remixConnectToWebProviderDeployAndUse.png \"remix deploy and use from web provider\")"
   ]
  },
  {
   "cell_type": "markdown",
   "metadata": {
    "slideshow": {
     "slide_type": "subslide"
    }
   },
   "source": [
    "### web3.js\n",
    "\n",
    "currentProvider는 현재 설정된 Web3.providers가 있다면, 예를 들어 MetaMask, Mist가 제공하는 것을 쓴다는 뜻이다. 그렇지 않으면 수동으로 설정된 ip를 사용하게 된다."
   ]
  },
  {
   "cell_type": "code",
   "execution_count": 6,
   "metadata": {
    "collapsed": false,
    "slideshow": {
     "slide_type": "subslide"
    }
   },
   "outputs": [
    {
     "name": "stdout",
     "output_type": "stream",
     "text": [
      "Overwriting src/greeterDeploy.js\n"
     ]
    }
   ],
   "source": [
    "%%writefile src/greeterDeploy.js\n",
    "var Web3=require('web3');\n",
    "var web3;\n",
    "if (typeof web3 !== 'undefined') {\n",
    "    web3 = new Web3(web3.currentProvider);\n",
    "} else {\n",
    "    web3 = new Web3(new Web3.providers.HttpProvider(\"http://117.16.44.45:8445\"));\n",
    "}\n",
    "var _abiArray=[{\"constant\":false,\"inputs\":[{\"name\":\"_greeting\",\"type\":\"string\"}],\"name\":\"setGreeting\",\"outputs\":[],\"payable\":false,\"stateMutability\":\"nonpayable\",\"type\":\"function\"},{\"constant\":true,\"inputs\":[],\"name\":\"greet\",\"outputs\":[{\"name\":\"\",\"type\":\"string\"}],\"payable\":false,\"stateMutability\":\"view\",\"type\":\"function\"},{\"inputs\":[],\"payable\":false,\"stateMutability\":\"nonpayable\",\"type\":\"constructor\"}];\n",
    "var _bin=\"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\";\n",
    "var _contract = web3.eth.contract(_abiArray);\n",
    "//unlock the account with a password provided\n",
    "//web3.personal.unlockAccount(web3.eth.accounts[0],'password');\n",
    "var _instance=_contract.new(\"hello world\",{data:\"0x\"+_bin,from:web3.eth.accounts[0],gas:1000000}, function(err, contract) {\n",
    "    if (!err) {\n",
    "        console.log(\"contractAddress: \", contract.address);\n",
    "        console.log(\"transactionHash: \", contract.transactionHash);\n",
    "    }\n",
    "});"
   ]
  },
  {
   "cell_type": "code",
   "execution_count": 26,
   "metadata": {
    "collapsed": false
   },
   "outputs": [
    {
     "name": "stdout",
     "output_type": "stream",
     "text": [
      "contractAddress:  undefined\n",
      "transactionHash:  0xcb489459f35429afea4b8632587f921d3621da20cb0f16e4d2900d145e0620c2\n",
      "contractAddress:  0x9397fbedbcdf9b80bad6805df98d24b6676e19e3\n",
      "transactionHash:  0xcb489459f35429afea4b8632587f921d3621da20cb0f16e4d2900d145e0620c2\n"
     ]
    }
   ],
   "source": [
    "!node src/greeterDeploy.js"
   ]
  },
  {
   "cell_type": "markdown",
   "metadata": {
    "slideshow": {
     "slide_type": "subslide"
    }
   },
   "source": [
    "![alt text](figures/5_greeterDeployPending.png \"remix connecting to web provider\")"
   ]
  },
  {
   "cell_type": "markdown",
   "metadata": {
    "slideshow": {
     "slide_type": "subslide"
    }
   },
   "source": [
    "![alt text](figures/5_greeterDeployMining.png \"remix connecting to web provider\")"
   ]
  },
  {
   "cell_type": "markdown",
   "metadata": {
    "slideshow": {
     "slide_type": "subslide"
    }
   },
   "source": [
    "### 4. 사용\n",
    "\n",
    "at() 함수에 앞서 얻은 주소를 넣어준다.\n",
    "\n",
    "* 1-4 컨트랙 생성\n",
    "    * 앞에서 얻은 abi, contractAddress를 사용하여 컨트랙 객체를 생성한다.\n",
    "```\n",
    "var greeter = eth.contract(ABI).at(Address);\n",
    "```\n",
    "        \n",
    "        또는\n",
    "```\n",
    "var MyContract = web3.eth.contract(abi);\n",
    "var myContractInstance = new MyContract('0x43gg423k4h4234235345j3453');\n",
    "```\n",
    "\n",
    "    * 블록체인에 생성된 객체를 얻어와야 하므로, 거래가 발생하는 것이다.\n",
    "    * 거래가 발생하면, transactionHash가 생성된다.\n",
    "    * 마이닝해서 처리한다.\n",
    "\n",
    "* 1-5 사용\n",
    "    * 컨트랙 객체를 사용하는 것. 방식은 (1) contract api, (2) call(), (3) sendTransaction()\n",
    "\n",
    "함수 | 설명 | 블록체인\n",
    "----------|----------|----------\n",
    "contract api | 로컬에서 실행, 마이닝 불필요 | 블럭체인에 기록하지 않음.\n",
    "call | 로컬에서 실행, 마이닝 불필요 | 블럭체인에 기록하지 않음.\n",
    "sendTransaction | 블럭체인에 기록하는 거래라서 마이닝 필요 | 블록체인에 기록\n",
    "\n",
    "    * (1) contract api 서비스를 호출한다.\n",
    "        * eth.contract은 ABI에 정의된 인터페이스에 따라 함수를 제공하고, at주소에서 객체를 생성한다. \n",
    "    * (2) myballot.vote.call(1);\n",
    "\n",
    "    * (3) myballot.vote.sendTransaction(1, {from: primary})\n",
    "        * 거래가 발생하면, transactionHash가 생성된다.\n",
    "        * 마이닝 전까지 대기 pending\n",
    "```\n",
    "인자가 여러 개인 경우\n",
    "myContractInstance.myStateChangingMethod('someParam1', 23, {value: 200, gas: 2000});\n",
    "```\n",
    "\n",
    "    * api와 비교하면:\n",
    "\n",
    "smart contract | api | 비교 설명\n",
    "----------|----------|---------- \n",
    "contract 주소 | endpoint | 서버api endpoint 같은 블록체인이라는 서버의 주소\n",
    "abi | params | 입출력과 같은 ABI (Application Binary Interface)\n",
    "\n",
    "\n",
    "    * zerogox -> final stage of testing"
   ]
  },
  {
   "cell_type": "code",
   "execution_count": 45,
   "metadata": {
    "collapsed": false,
    "slideshow": {
     "slide_type": "subslide"
    }
   },
   "outputs": [
    {
     "name": "stdout",
     "output_type": "stream",
     "text": [
      "Overwriting src/greeterUse.js\n"
     ]
    }
   ],
   "source": [
    "%%writefile src/greeterUse.js\n",
    "var Web3=require('web3');\n",
    "var web3 = new Web3(new Web3.providers.HttpProvider(\"http://117.16.44.45:8445\"));\n",
    "var _abiArray=[{\"constant\":false,\"inputs\":[{\"name\":\"_greeting\",\"type\":\"string\"}],\"name\":\"setGreeting\",\"outputs\":[],\"payable\":false,\"stateMutability\":\"nonpayable\",\"type\":\"function\"},{\"constant\":true,\"inputs\":[],\"name\":\"greet\",\"outputs\":[{\"name\":\"\",\"type\":\"string\"}],\"payable\":false,\"stateMutability\":\"view\",\"type\":\"function\"},{\"inputs\":[],\"payable\":false,\"stateMutability\":\"nonpayable\",\"type\":\"constructor\"}];\n",
    "var _contract = web3.eth.contract(_abiArray);\n",
    "var greeter = _contract.at(\"0x9397fbedbcdf9b80bad6805df98d24b6676e19e3\");\n",
    "console.log(greeter.greet.call());\n",
    "console.log(greeter.setGreeting({from:web3.eth.accounts[0],gas:100000}));\n",
    "//console.log(greeter.greet());"
   ]
  },
  {
   "cell_type": "markdown",
   "metadata": {
    "slideshow": {
     "slide_type": "subslide"
    }
   },
   "source": [
    "setGreeting 인자 설정을 하지 않으면 오류"
   ]
  },
  {
   "cell_type": "code",
   "execution_count": 46,
   "metadata": {
    "collapsed": false,
    "slideshow": {
     "slide_type": "subslide"
    }
   },
   "outputs": [
    {
     "name": "stdout",
     "output_type": "stream",
     "text": [
      "Hello World\n",
      "/home/jsl/Code/git/bb/jsl/bitcoin/node_modules/web3/lib/web3/formatters.js:271\n",
      "    throw new Error('invalid address');\n",
      "    ^\n",
      "\n",
      "Error: invalid address\n",
      "    at inputAddressFormatter (/home/jsl/Code/git/bb/jsl/bitcoin/node_modules/web3/lib/web3/formatters.js:271:11)\n",
      "    at inputTransactionFormatter (/home/jsl/Code/git/bb/jsl/bitcoin/node_modules/web3/lib/web3/formatters.js:97:20)\n",
      "    at /home/jsl/Code/git/bb/jsl/bitcoin/node_modules/web3/lib/web3/method.js:89:28\n",
      "    at Array.map (native)\n",
      "    at Method.formatInput (/home/jsl/Code/git/bb/jsl/bitcoin/node_modules/web3/lib/web3/method.js:88:32)\n",
      "    at Method.toPayload (/home/jsl/Code/git/bb/jsl/bitcoin/node_modules/web3/lib/web3/method.js:114:23)\n",
      "    at Eth.send [as sendTransaction] (/home/jsl/Code/git/bb/jsl/bitcoin/node_modules/web3/lib/web3/method.js:139:30)\n",
      "    at SolidityFunction.sendTransaction (/home/jsl/Code/git/bb/jsl/bitcoin/node_modules/web3/lib/web3/function.js:133:26)\n",
      "    at SolidityFunction.execute (/home/jsl/Code/git/bb/jsl/bitcoin/node_modules/web3/lib/web3/function.js:219:37)\n",
      "    at Object.<anonymous> (/home/jsl/Code/git/bb/jsl/bitcoin/src/greeterUse.js:7:21)\n"
     ]
    }
   ],
   "source": [
    "!node src/greeterUse.js"
   ]
  },
  {
   "cell_type": "markdown",
   "metadata": {
    "slideshow": {
     "slide_type": "subslide"
    }
   },
   "source": [
    "gas비를 적게 설정하면 오류가 난다.\n",
    "\n",
    "1. 함수를 호출하는 방법은 call vs sendTransaction\n",
    "greeter.greet.call() 또는 greeter.greet()\n",
    "\n",
    "greeter.setGreeting(\"Hello World\",{from:web3.eth.accounts[0],gas:1000}));\n",
    "또는 greeter.setGreeting.sendTransaction(\"Hello World\",{from:web3.eth.accounts[0],gas:1000}));\n",
    "\n",
    "2. sendTransaction()은 반환 값이 없다."
   ]
  },
  {
   "cell_type": "markdown",
   "metadata": {},
   "source": [
    "* call | used for view and pure functions. It only runs on the local node, and won't create a transaction on the blockchain.\n",
    "view and pure functions are read-only and don't change state on the blockchain. They also don't cost any gas, and the user won't be prompted to sign a transaction with MetaMask.\n",
    "\n",
    "send will create a transaction and change data on the blockchain. You'll need to use send for any functions that aren't view or pure.\n",
    "\n",
    "Note: sending a transaction will require the user to pay gas, and will pop up their Metamask to prompt them to sign a transaction. When we use Metamask as our web3 provider, this all happens automatically when we call send(), and we don't need to do anything special in our code. Pretty cool!\n",
    "\n",
    "\n",
    "\n",
    "\n",
    "\n",
    "\n"
   ]
  },
  {
   "cell_type": "code",
   "execution_count": 47,
   "metadata": {
    "collapsed": false,
    "slideshow": {
     "slide_type": "subslide"
    }
   },
   "outputs": [
    {
     "name": "stdout",
     "output_type": "stream",
     "text": [
      "Overwriting src/greeterUse.js\n"
     ]
    }
   ],
   "source": [
    "%%writefile src/greeterUse.js\n",
    "var Web3=require('web3');\n",
    "var web3 = new Web3(new Web3.providers.HttpProvider(\"http://117.16.44.45:8445\"));\n",
    "var _abiArray=[{\"constant\":false,\"inputs\":[{\"name\":\"_greeting\",\"type\":\"string\"}],\"name\":\"setGreeting\",\"outputs\":[],\"payable\":false,\"stateMutability\":\"nonpayable\",\"type\":\"function\"},{\"constant\":true,\"inputs\":[],\"name\":\"greet\",\"outputs\":[{\"name\":\"\",\"type\":\"string\"}],\"payable\":false,\"stateMutability\":\"view\",\"type\":\"function\"},{\"inputs\":[],\"payable\":false,\"stateMutability\":\"nonpayable\",\"type\":\"constructor\"}];\n",
    "var _contract = web3.eth.contract(_abiArray);\n",
    "var greeter = _contract.at(\"0x9397fbedbcdf9b80bad6805df98d24b6676e19e3\");\n",
    "console.log(greeter.greet.call());\n",
    "console.log(greeter.setGreeting(\"Hello World\",{from:web3.eth.accounts[0],gas:1000}));\n",
    "console.log(greeter.greet());"
   ]
  },
  {
   "cell_type": "code",
   "execution_count": 48,
   "metadata": {
    "collapsed": false,
    "slideshow": {
     "slide_type": "subslide"
    }
   },
   "outputs": [
    {
     "name": "stdout",
     "output_type": "stream",
     "text": [
      "Hello World\n",
      "/home/jsl/Code/git/bb/jsl/bitcoin/node_modules/web3/lib/web3/requestmanager.js:61\n",
      "        throw errors.InvalidResponse(result);\n",
      "        ^\n",
      "\n",
      "Error: intrinsic gas too low\n",
      "    at Object.InvalidResponse (/home/jsl/Code/git/bb/jsl/bitcoin/node_modules/web3/lib/web3/errors.js:35:16)\n",
      "    at RequestManager.send (/home/jsl/Code/git/bb/jsl/bitcoin/node_modules/web3/lib/web3/requestmanager.js:61:22)\n",
      "    at Eth.send [as sendTransaction] (/home/jsl/Code/git/bb/jsl/bitcoin/node_modules/web3/lib/web3/method.js:145:58)\n",
      "    at SolidityFunction.sendTransaction (/home/jsl/Code/git/bb/jsl/bitcoin/node_modules/web3/lib/web3/function.js:133:26)\n",
      "    at SolidityFunction.execute (/home/jsl/Code/git/bb/jsl/bitcoin/node_modules/web3/lib/web3/function.js:219:37)\n",
      "    at Object.<anonymous> (/home/jsl/Code/git/bb/jsl/bitcoin/src/greeterUse.js:7:21)\n",
      "    at Module._compile (module.js:571:32)\n",
      "    at Object.Module._extensions..js (module.js:580:10)\n",
      "    at Module.load (module.js:488:32)\n",
      "    at tryModuleLoad (module.js:447:12)\n"
     ]
    }
   ],
   "source": [
    "!node src/greeterUse.js"
   ]
  },
  {
   "cell_type": "code",
   "execution_count": 51,
   "metadata": {
    "collapsed": false,
    "slideshow": {
     "slide_type": "subslide"
    }
   },
   "outputs": [
    {
     "name": "stdout",
     "output_type": "stream",
     "text": [
      "Overwriting src/greeterUse.js\n"
     ]
    }
   ],
   "source": [
    "%%writefile src/greeterUse.js\n",
    "var Web3=require('web3');\n",
    "var web3 = new Web3(new Web3.providers.HttpProvider(\"http://117.16.44.45:8445\"));\n",
    "var _abiArray=[{\"constant\":false,\"inputs\":[{\"name\":\"_greeting\",\"type\":\"string\"}],\"name\":\"setGreeting\",\"outputs\":[],\"payable\":false,\"stateMutability\":\"nonpayable\",\"type\":\"function\"},{\"constant\":true,\"inputs\":[],\"name\":\"greet\",\"outputs\":[{\"name\":\"\",\"type\":\"string\"}],\"payable\":false,\"stateMutability\":\"view\",\"type\":\"function\"},{\"inputs\":[],\"payable\":false,\"stateMutability\":\"nonpayable\",\"type\":\"constructor\"}];\n",
    "var _contract = web3.eth.contract(_abiArray);\n",
    "var greeter = _contract.at(\"0x9397fbedbcdf9b80bad6805df98d24b6676e19e3\");\n",
    "console.log(greeter.greet.call());\n",
    "console.log(greeter.setGreeting(\"Hello World\",{from:web3.eth.accounts[0],gas:160600}));\n",
    "console.log(greeter.greet());"
   ]
  },
  {
   "cell_type": "markdown",
   "metadata": {
    "slideshow": {
     "slide_type": "subslide"
    }
   },
   "source": [
    "처음에는 Hello가 출력된다.\n",
    "2회 실행시키면, 즉 Hello World로 문자열을 변경한 결과가 출력된다."
   ]
  },
  {
   "cell_type": "code",
   "execution_count": 52,
   "metadata": {
    "collapsed": false,
    "slideshow": {
     "slide_type": "subslide"
    }
   },
   "outputs": [
    {
     "name": "stdout",
     "output_type": "stream",
     "text": [
      "Hello World\n",
      "0x4b1d49c23a831075b225ad1e14f77dc5d64566f25a94c4dbe691c8bb5faa7481\n",
      "Hello World\n"
     ]
    }
   ],
   "source": [
    "!node src/greeterUse.js"
   ]
  },
  {
   "cell_type": "markdown",
   "metadata": {
    "slideshow": {
     "slide_type": "slide"
    }
   },
   "source": [
    "## E.6.3 간단한 계수기\n",
    "\n",
    "계수기는 언제나 현재의 계수를 가지고 있다.\n",
    "현재의 계수로부터 증가해야 한다.\n",
    "블록체인 프로그램은 state machine, 즉 현재 값을 항상 저장하고 있고 그 값을 누구나 알 수 있다."
   ]
  },
  {
   "cell_type": "markdown",
   "metadata": {
    "slideshow": {
     "slide_type": "subslide"
    }
   },
   "source": [
    "### 1. 컨트랙 개발"
   ]
  },
  {
   "cell_type": "code",
   "execution_count": 1,
   "metadata": {
    "collapsed": false
   },
   "outputs": [
    {
     "name": "stdout",
     "output_type": "stream",
     "text": [
      "Writing src/Counter.sol\n"
     ]
    }
   ],
   "source": [
    "%%writefile src/Counter.sol\n",
    "pragma solidity ^0.5.0;\n",
    "contract Counter {\n",
    "    uint256 counter = 0;\n",
    "    function add() public {\n",
    "        counter++;\n",
    "    }\n",
    "    function subtract() public {\n",
    "        counter--;\n",
    "    }\n",
    "    function getCounter() public view returns (uint256) {\n",
    "        return counter;\n",
    "    }\n",
    "}"
   ]
  },
  {
   "cell_type": "markdown",
   "metadata": {
    "slideshow": {
     "slide_type": "subslide"
    }
   },
   "source": [
    "### 2. 컴파일"
   ]
  },
  {
   "cell_type": "code",
   "execution_count": 2,
   "metadata": {
    "collapsed": false
   },
   "outputs": [
    {
     "name": "stdout",
     "output_type": "stream",
     "text": [
      "Warning: This is a pre-release compiler version, please do not use it in production.\r\n",
      "\r\n",
      "======= src/Counter.sol:Counter =======\r\n",
      "Gas estimation:\r\n",
      "construction:\r\n",
      "   5105 + 46000 = 51105\r\n",
      "external:\r\n",
      "   add():\t20364\r\n",
      "   getCounter():\t440\r\n",
      "   subtract():\t20389\r\n",
      "Binary: \r\n",
      "60806040526000805534801561001457600080fd5b5060e6806100236000396000f3fe6080604052348015600f57600080fd5b50600436106059576000357c0100000000000000000000000000000000000000000000000000000000900480634f2be91f14605e5780636deebae31460665780638ada066e14606e575b600080fd5b6064608a565b005b606c609d565b005b607460b1565b6040518082815260200191505060405180910390f35b6000808154809291906001019190505550565b600080815480929190600190039190505550565b6000805490509056fea165627a7a723058201fbaa288a76e68fea3b0373a390c6e375e9bb90c0fd24b0660d64ebb408088d60029\r\n",
      "Contract JSON ABI \r\n",
      "[{\"constant\":false,\"inputs\":[],\"name\":\"add\",\"outputs\":[],\"payable\":false,\"stateMutability\":\"nonpayable\",\"type\":\"function\"},{\"constant\":false,\"inputs\":[],\"name\":\"subtract\",\"outputs\":[],\"payable\":false,\"stateMutability\":\"nonpayable\",\"type\":\"function\"},{\"constant\":true,\"inputs\":[],\"name\":\"getCounter\",\"outputs\":[{\"name\":\"\",\"type\":\"uint256\"}],\"payable\":false,\"stateMutability\":\"view\",\"type\":\"function\"}]\r\n"
     ]
    }
   ],
   "source": [
    "!solc --abi --bin --gas src/Counter.sol"
   ]
  },
  {
   "cell_type": "markdown",
   "metadata": {
    "slideshow": {
     "slide_type": "subslide"
    }
   },
   "source": [
    "### 3. 배포"
   ]
  },
  {
   "cell_type": "code",
   "execution_count": 6,
   "metadata": {
    "collapsed": false
   },
   "outputs": [
    {
     "name": "stdout",
     "output_type": "stream",
     "text": [
      "Overwriting src/counterDeploy.js\n"
     ]
    }
   ],
   "source": [
    "%%writefile src/counterDeploy.js\n",
    "var Web3=require('web3');\n",
    "var web3;\n",
    "if (typeof web3 !== 'undefined') {\n",
    "    web3 = new Web3(web3.currentProvider);\n",
    "} else {\n",
    "    web3 = new Web3(new Web3.providers.HttpProvider(\"http://117.16.44.45:8445\"));\n",
    "}\n",
    "var _abiArray=[{\"constant\":false,\"inputs\":[],\"name\":\"add\",\"outputs\":[],\"payable\":false,\"stateMutability\":\"nonpayable\",\"type\":\"function\"},{\"constant\":false,\"inputs\":[],\"name\":\"subtract\",\"outputs\":[],\"payable\":false,\"stateMutability\":\"nonpayable\",\"type\":\"function\"},{\"constant\":true,\"inputs\":[],\"name\":\"getCounter\",\"outputs\":[{\"name\":\"\",\"type\":\"uint256\"}],\"payable\":false,\"stateMutability\":\"view\",\"type\":\"function\"}];\n",
    "var _bin=\"60806040526000805534801561001457600080fd5b5060e6806100236000396000f3fe6080604052348015600f57600080fd5b50600436106059576000357c0100000000000000000000000000000000000000000000000000000000900480634f2be91f14605e5780636deebae31460665780638ada066e14606e575b600080fd5b6064608a565b005b606c609d565b005b607460b1565b6040518082815260200191505060405180910390f35b6000808154809291906001019190505550565b600080815480929190600190039190505550565b6000805490509056fea165627a7a723058201fbaa288a76e68fea3b0373a390c6e375e9bb90c0fd24b0660d64ebb408088d60029\";\n",
    "var _contract = web3.eth.contract(_abiArray);\n",
    "//unlock the account with a password provided\n",
    "//web3.personal.unlockAccount(web3.eth.accounts[0],'password');\n",
    "var _instance=_contract.new({data:\"0x\"+_bin,from:web3.eth.accounts[0],gas:100000}, function(err, contract) {\n",
    "    if (!err) {\n",
    "        console.log(\"contractAddress: \", contract.address);\n",
    "        console.log(\"transactionHash: \", contract.transactionHash);\n",
    "    }\n",
    "});"
   ]
  },
  {
   "cell_type": "code",
   "execution_count": 7,
   "metadata": {
    "collapsed": false
   },
   "outputs": [
    {
     "name": "stdout",
     "output_type": "stream",
     "text": [
      "contractAddress:  undefined\r\n",
      "transactionHash:  0xf604af597d8ba46a9ce538b2778c558d7a73f0e35add8fda466296b6156c8fac\r\n"
     ]
    }
   ],
   "source": [
    "!node src/counterDeploy.js"
   ]
  },
  {
   "cell_type": "markdown",
   "metadata": {
    "slideshow": {
     "slide_type": "subslide"
    }
   },
   "source": [
    "### 4. 사용"
   ]
  },
  {
   "cell_type": "code",
   "execution_count": 17,
   "metadata": {
    "collapsed": false
   },
   "outputs": [
    {
     "name": "stdout",
     "output_type": "stream",
     "text": [
      "Overwriting src/counterUse.js\n"
     ]
    }
   ],
   "source": [
    "%%writefile src/counterUse.js\n",
    "var Web3=require('web3');\n",
    "var web3 = new Web3(new Web3.providers.HttpProvider(\"http://117.16.44.45:8445\"));\n",
    "var _abiArray=[{\"constant\":false,\"inputs\":[],\"name\":\"add\",\"outputs\":[],\"payable\":false,\"stateMutability\":\"nonpayable\",\"type\":\"function\"},{\"constant\":false,\"inputs\":[],\"name\":\"subtract\",\"outputs\":[],\"payable\":false,\"stateMutability\":\"nonpayable\",\"type\":\"function\"},{\"constant\":true,\"inputs\":[],\"name\":\"getCounter\",\"outputs\":[{\"name\":\"\",\"type\":\"uint256\"}],\"payable\":false,\"stateMutability\":\"view\",\"type\":\"function\"}];\n",
    "var _contract = web3.eth.contract(_abiArray);\n",
    "var greeter = _contract.at(\"0xd43a0Bdc9c26605f8173A8d434FE7724d19e3560\");\n",
    "console.log(greeter.add.call());\n",
    "console.log(greeter.add({from:web3.eth.accounts[0],gas:160600}));\n",
    "console.log(greeter.getCounter().toString());"
   ]
  },
  {
   "cell_type": "code",
   "execution_count": 18,
   "metadata": {
    "collapsed": false
   },
   "outputs": [
    {
     "name": "stdout",
     "output_type": "stream",
     "text": [
      "[]\n",
      "0x7e63038c33709c8b9ed610987ce9954690362f13ab3df817aab3d9eadf590710\n",
      "3\n"
     ]
    }
   ],
   "source": [
    "!node src/counterUse.js"
   ]
  },
  {
   "cell_type": "markdown",
   "metadata": {
    "slideshow": {
     "slide_type": "subslide"
    }
   },
   "source": [
    "Pending Transactions을 처리하고 나면 숫자가 증가한 것을 알 수 있다.\n",
    "주의할 점은 수가 계속 증가한다는 점이다. 객체가 만들어지면 값을 초기화 하고 증가분은 없어지게 된다. "
   ]
  },
  {
   "cell_type": "code",
   "execution_count": 20,
   "metadata": {
    "collapsed": false
   },
   "outputs": [
    {
     "name": "stdout",
     "output_type": "stream",
     "text": [
      "[]\n",
      "0xe1e3f6fcb118f11a30617e6f3c8f45fba01b0a163f13c1ac97dd6d7ea0cd8e8d\n",
      "6\n"
     ]
    }
   ],
   "source": [
    "!node src/counterUse.js"
   ]
  },
  {
   "cell_type": "markdown",
   "metadata": {
    "slideshow": {
     "slide_type": "subslide"
    }
   },
   "source": [
    "결과 | 설명\n",
    "-----|-----\n",
    "[] | add()는 counter에 1을 더하는 상태변경이므로 call()은 반영이 안된다.\n",
    "0x94517...3d224 | add() 트랜잭션의 해시. 마이닝을 해야 그 결과를 getCounter()에서 알 수 있다.\n",
    "{ [String: '0'] s: 1, e: 0, c: [ 0 ] } | BigNumber이므로 sign, exponent, coefficient로 표현\n",
    "\n",
    "counter의 변경을 반영하려면 마이닝을 해야 한다.\n",
    "getCounter()의 결과를 보기 좋게 toNumber() 또는 toString()으로 출력을 해보자."
   ]
  },
  {
   "cell_type": "code",
   "execution_count": 12,
   "metadata": {
    "collapsed": false
   },
   "outputs": [
    {
     "name": "stdout",
     "output_type": "stream",
     "text": [
      "Overwriting src/counterUse.js\n"
     ]
    }
   ],
   "source": [
    "%%writefile src/counterUse.js\n",
    "var Web3=require('web3');\n",
    "var web3 = new Web3(new Web3.providers.HttpProvider(\"http://117.16.44.45:8445\"));\n",
    "var _abiArray=[{\"constant\":false,\"inputs\":[],\"name\":\"add\",\"outputs\":[],\"payable\":false,\"stateMutability\":\"nonpayable\",\"type\":\"function\"},{\"constant\":false,\"inputs\":[],\"name\":\"subtract\",\"outputs\":[],\"payable\":false,\"stateMutability\":\"nonpayable\",\"type\":\"function\"},{\"constant\":true,\"inputs\":[],\"name\":\"getCounter\",\"outputs\":[{\"name\":\"\",\"type\":\"uint256\"}],\"payable\":false,\"stateMutability\":\"view\",\"type\":\"function\"}];\n",
    "var _contract = web3.eth.contract(_abiArray);\n",
    "var greeter = _contract.at(\"0xd43a0Bdc9c26605f8173A8d434FE7724d19e3560\");\n",
    "console.log(greeter.add({from:web3.eth.accounts[0],gas:30000}));\n",
    "var result=greeter.getCounter.call();\n",
    "console.log(result.toNumber());"
   ]
  },
  {
   "cell_type": "code",
   "execution_count": 13,
   "metadata": {
    "collapsed": false,
    "scrolled": true
   },
   "outputs": [
    {
     "name": "stdout",
     "output_type": "stream",
     "text": [
      "0x34ea70d7fa213c6886111a6d1949a2b3fddb792c1820b52c560d0af88d5932e8\n",
      "2\n"
     ]
    }
   ],
   "source": [
    "!node src/counterUse.js"
   ]
  },
  {
   "cell_type": "markdown",
   "metadata": {
    "slideshow": {
     "slide_type": "slide"
    }
   },
   "source": [
    "## LAB 타이머\n",
    "\n",
    "줄 | 설명\n",
    "-----|-----\n",
    "1 | Pragma 프로그램 버전. 맨 앞의 ```^``` (caret)은 메이저버전으로 시작하는 최근 버전의 컴파일러를 사용. 따라서 5로 시작하는 최근 버전인 5.21을 사용\n",
    "4 | public으로 사용권한을 제한하지 않음\n",
    "7 | public이고, pure 또는 view로 읽는 기능으로 한정함.\n",
    "\n",
    "\n",
    "???? prerelease.txt: pre-release compiler version이라는 경고\n",
    "to make release build just need create empty file prerelease.txt in source directory."
   ]
  },
  {
   "cell_type": "code",
   "execution_count": 9,
   "metadata": {
    "collapsed": false
   },
   "outputs": [
    {
     "name": "stdout",
     "output_type": "stream",
     "text": [
      "Writing src/Timer.sol\n"
     ]
    }
   ],
   "source": [
    "%%writefile src/Timer.sol\n",
    "pragma solidity ^0.5.0;\n",
    "contract Timer {\n",
    "    uint256 startTime;\n",
    "    function start() public {\n",
    "        startTime=now;\n",
    "    }\n",
    "    function timePassed() public view returns(uint256) {\n",
    "        return now-startTime;\n",
    "    }\n",
    "    function getNow() view public returns(uint) {\n",
    "        return now;\n",
    "    }\n",
    "}"
   ]
  },
  {
   "cell_type": "markdown",
   "metadata": {
    "slideshow": {
     "slide_type": "subslide"
    }
   },
   "source": [
    "geth에서 loadScript()로 불러 사용하기 위해, 컴파일 결과를 javascript파일로 만들어 저장한다.\n",
    "즉 combined-json의 결과를 'greeterSol.js'로 저장한다.\n",
    "src/Timer.sol을 컴파일하고 그 결과를 자바스크립트 변수 **```_compiled```**로 저장하고, src/Timer.js로 쓴다."
   ]
  },
  {
   "cell_type": "code",
   "execution_count": 11,
   "metadata": {
    "collapsed": false,
    "scrolled": true
   },
   "outputs": [],
   "source": [
    "!echo \"var _compiled=`solc --optimize --combined-json abi,bin,interface src/Timer.sol`\" > src/Timer.js"
   ]
  },
  {
   "cell_type": "code",
   "execution_count": 22,
   "metadata": {
    "collapsed": false
   },
   "outputs": [
    {
     "name": "stdout",
     "output_type": "stream",
     "text": [
      "var _compiled={\"contracts\":{\"src/Timer.sol:Timer\":{\"abi\":\"[{\\\"constant\\\":true,\\\"inputs\\\":[],\\\"name\\\":\\\"timePassed\\\",\\\"outputs\\\":[{\\\"name\\\":\\\"\\\",\\\"type\\\":\\\"uint256\\\"}],\\\"payable\\\":false,\\\"stateMutability\\\":\\\"view\\\",\\\"type\\\":\\\"function\\\"},{\\\"constant\\\":true,\\\"inputs\\\":[],\\\"name\\\":\\\"getNow\\\",\\\"outputs\\\":[{\\\"name\\\":\\\"\\\",\\\"type\\\":\\\"uint256\\\"}],\\\"payable\\\":false,\\\"stateMutability\\\":\\\"view\\\",\\\"type\\\":\\\"function\\\"},{\\\"constant\\\":false,\\\"inputs\\\":[],\\\"name\\\":\\\"start\\\",\\\"outputs\\\":[],\\\"payable\\\":false,\\\"stateMutability\\\":\\\"nonpayable\\\",\\\"type\\\":\\\"function\\\"}]\",\"bin\":\"608060405234801561001057600080fd5b5060c18061001f6000396000f3fe6080604052348015600f57600080fd5b50600436106058577c01000000000000000000000000000000000000000000000000000000006000350463b44542538114605d578063bbe4fd50146075578063be9a655514607b575b600080fd5b60636083565b60408051918252519081900360200190f35b6063608b565b6081608f565b005b600054420390565b4290565b4260005556fea165627a7a723058207c050a79b7fa6eafffdf568bc0f7f1931c543384ac896f260073181974fb457e0029\"}},\"version\":\"0.5.4+commit.9549d8ff.Linux.g++\"}\r\n"
     ]
    }
   ],
   "source": [
    "!cat src/Timer.js"
   ]
  },
  {
   "cell_type": "code",
   "execution_count": null,
   "metadata": {
    "collapsed": true
   },
   "outputs": [],
   "source": [
    "nodejs example.sol compile, deploy\n",
    "\n",
    "![alt text](figures/2_nodejsWeb3Example.png \"node web3 test run Example.sol\")"
   ]
  },
  {
   "cell_type": "code",
   "execution_count": null,
   "metadata": {
    "collapsed": true
   },
   "outputs": [],
   "source": [
    "nodejs example.sol use after deploy 배포\n",
    "\n",
    "![alt text](figures/2_nodejsWeb3ExampleUse.png \"node web3 test run Example.sol\")"
   ]
  },
  {
   "cell_type": "code",
   "execution_count": null,
   "metadata": {
    "collapsed": true
   },
   "outputs": [],
   "source": []
  },
  {
   "cell_type": "markdown",
   "metadata": {
    "collapsed": true,
    "slideshow": {
     "slide_type": "subslide"
    }
   },
   "source": [
    "다음으로 배포를 해보자.\n",
    "컴파일하고 abi, bin는 파일에 저장하였고, 그 파일에서 읽어 온다.\n",
    "\n",
    "* gas\n",
    "\n",
    "If a gas value is not provided, then the gas value for the deployment transaction will be created using the web3.eth.estimateGas() method.\n",
    "\n",
    "\n",
    "```python\n",
    "var gas = web3.eth.estimateGas({\n",
    "    data: byteCode\n",
    "});\n",
    "console.log(gas);\n",
    "```\n",
    "\n",
    "줄 | 설명\n",
    "-----|-----\n",
    "1 | 사용 계정을 설정한다.\n",
    "4 | 컴파일하고 생성된 abi, bin이 저장된 js파일을 읽는다\n",
    "5 | contract명에 path prefix인 디렉토리 구분자 '/'가 포함되어 있다. Object.keys로 읽은 key를 contract명으로 사용한다.\n",
    "10 | binary data는 '0x'가 빠져 있다. 블록체인에 배포할 때 0x를 붙여서 16진수 문자열이라고 명시해 준다. **gas**를 임의로 정해준다. 가격이 맞지 않으면....\n",
    "\n",
    "\n",
    "\n",
    "\n",
    "> solc로 컴파일할 경우 파일 경로와 import\n",
    ">\n",
    "> context:prefix=target\n",
    "\n",
    "구분 | 설명 | 선택 | 예\n",
    "-----|-----|-----|-----\n",
    "context | 읽을 파일 | 선택적 | src/Example.sol\n",
    ":prefix |  |  | :Example\n",
    "=target | 없으면 prefix와 동일  | 선택적 | "
   ]
  },
  {
   "cell_type": "markdown",
   "metadata": {
    "slideshow": {
     "slide_type": "subslide"
    }
   },
   "source": [
    "Geth로 Deploy를 해보자.\n",
    "Geth는 javascript를 지원한다.\n",
    "loadScript()함수는 Geth에서 javascript를 읽어 들일 수 있다."
   ]
  },
  {
   "cell_type": "code",
   "execution_count": 27,
   "metadata": {
    "collapsed": false,
    "scrolled": false
   },
   "outputs": [
    {
     "name": "stdout",
     "output_type": "stream",
     "text": [
      "Overwriting src/TimerDeployGeth.js\n"
     ]
    }
   ],
   "source": [
    "%%writefile src/TimerDeployGeth.js\n",
    "var primary = eth.accounts[0];\n",
    "console.log(\"primary ac: \",primary);\n",
    "console.log(\"balance: \",eth.getBalance(primary));\n",
    "loadScript('src/Timer.js')\n",
    "contractName=Object.keys(_compiled.contracts)\n",
    "//_abi=JSON.parse(_compiled.contracts['src/Example.sol:Example'].abi)\n",
    "_abi=JSON.parse(_compiled.contracts[contractName[0]].abi)\n",
    "//_code=_compiled.contracts['src/Example.sol:Example'].bin\n",
    "_code=_compiled.contracts[contractName[0]].bin\n",
    "_class=eth.contract(_abi);\n",
    "console.log('bin code: ', _code)\n",
    "//this async way does not work from the Jupyter Notebook\n",
    "_object=_class.new({from:primary,data:'0x'+_code,gas:1000000}, function(err, contract) {\n",
    "  if (!err && contract.address)\n",
    "    console.log(\"contractAddress: \", contract.address);\n",
    "    console.log(\"transactionHash: \", contract.transactionHash);\n",
    "});"
   ]
  },
  {
   "cell_type": "code",
   "execution_count": 28,
   "metadata": {
    "collapsed": false,
    "slideshow": {
     "slide_type": "subslide"
    }
   },
   "outputs": [
    {
     "name": "stdout",
     "output_type": "stream",
     "text": [
      "primary ac:  0x21c704354d07f804bab01894e8b4eb4e0eba7451\n",
      "balance:  714999999999999997778\n",
      "bin code:  608060405234801561001057600080fd5b5060c18061001f6000396000f3fe6080604052348015600f57600080fd5b50600436106058577c01000000000000000000000000000000000000000000000000000000006000350463b44542538114605d578063bbe4fd50146075578063be9a655514607b575b600080fd5b60636083565b60408051918252519081900360200190f35b6063608b565b6081608f565b005b600054420390565b4290565b4260005556fea165627a7a723058207c050a79b7fa6eafffdf568bc0f7f1931c543384ac896f260073181974fb457e0029\n",
      "transactionHash:  0x8c1f563561d7e11aa5662c13c9211d2da562eb6bd0cfc7274df3e2ee8cfc681d\n",
      "\u001b[1mtrue\u001b[0m\n"
     ]
    }
   ],
   "source": [
    "!geth --exec 'loadScript(\"src/TimerDeployGeth.js\")' attach http://117.16.44.45:8445"
   ]
  },
  {
   "cell_type": "markdown",
   "metadata": {
    "collapsed": true,
    "slideshow": {
     "slide_type": "subslide"
    }
   },
   "source": [
    "* 마이닝하고나면 블록체인의 주소가 주어진다.\n",
    "    * Jupyter Notebook에서는 geth async가 실행되지 않으므로, 안되는 것으로 보인다.\n",
    "\n",
    "```\n",
    "> _instance.set_s.sendTransaction(\"js20170602\",{from:web3.eth.accounts[0]});\n",
    "\"0xf278e8ad211d5901d3ba45097718fe00074c0e4f7fa954d4543b318812e932bb\"\n",
    "> _instance.get_s.call() 마이닝될 때까지 결과가 없다.\n",
    "\"\"\n",
    "> _instance.get_s.call()\n",
    "\"js20170602\"\n",
    "> \n",
    "```"
   ]
  },
  {
   "cell_type": "code",
   "execution_count": 29,
   "metadata": {
    "collapsed": false,
    "scrolled": false,
    "slideshow": {
     "slide_type": "subslide"
    }
   },
   "outputs": [
    {
     "name": "stdout",
     "output_type": "stream",
     "text": [
      "{\r\n",
      "  blockHash: \u001b[32m\"0x71e297a2da794f2eb6faaad6569bd0e9c35503fefd5a8fc5cb5a80db44838f4a\"\u001b[0m,\r\n",
      "  blockNumber: \u001b[31m252\u001b[0m,\r\n",
      "  contractAddress: \u001b[32m\"0xe82ff4dfb1fc5377b82b79d0c7c1e6b6ff2b9cff\"\u001b[0m,\r\n",
      "  cumulativeGasUsed: \u001b[31m104301\u001b[0m,\r\n",
      "  from: \u001b[32m\"0x21c704354d07f804bab01894e8b4eb4e0eba7451\"\u001b[0m,\r\n",
      "  gasUsed: \u001b[31m104301\u001b[0m,\r\n",
      "  logs: [],\r\n",
      "  logsBloom: \u001b[32m\"0x00000000000000000000000000000000000000000000000000000000000000000000000000000000000000000000000000000000000000000000000000000000000000000000000000000000000000000000000000000000000000000000000000000000000000000000000000000000000000000000000000000000000000000000000000000000000000000000000000000000000000000000000000000000000000000000000000000000000000000000000000000000000000000000000000000000000000000000000000000000000000000000000000000000000000000000000000000000000000000000000000000000000000000000000000000000\"\u001b[0m,\r\n",
      "  root: \u001b[32m\"0x2e440508588d1b752ad557d243cc9c1075ba44e26d49df3f4ea9c8a73d85aa41\"\u001b[0m,\r\n",
      "  to: \u001b[1mnull\u001b[0m,\r\n",
      "  transactionHash: \u001b[32m\"0x8c1f563561d7e11aa5662c13c9211d2da562eb6bd0cfc7274df3e2ee8cfc681d\"\u001b[0m,\r\n",
      "  transactionIndex: \u001b[31m0\u001b[0m\r\n",
      "}\r\n"
     ]
    }
   ],
   "source": [
    "!geth --exec 'eth.getTransactionReceipt(\"0x8c1f563561d7e11aa5662c13c9211d2da562eb6bd0cfc7274df3e2ee8cfc681d\")' attach http://117.16.44.45:8445"
   ]
  },
  {
   "cell_type": "markdown",
   "metadata": {
    "slideshow": {
     "slide_type": "subslide"
    }
   },
   "source": [
    "Timer를 사용해보자"
   ]
  },
  {
   "cell_type": "code",
   "execution_count": 49,
   "metadata": {
    "collapsed": false
   },
   "outputs": [
    {
     "name": "stdout",
     "output_type": "stream",
     "text": [
      "Overwriting src/TimerUseGeth.js\n"
     ]
    }
   ],
   "source": [
    "%%writefile src/TimerUseGeth.js\n",
    "loadScript('src/Timer.js')\n",
    "contractName=Object.keys(_compiled.contracts)\n",
    "_abi=JSON.parse(_compiled.contracts[contractName[0]].abi)\n",
    "//_abi=JSON.parse(_compiled.contracts['src/Example.sol:Example'].abi)\n",
    "var _contract=eth.contract(_abi);\n",
    "var _address=\"0xe82ff4dfb1fc5377b82b79d0c7c1e6b6ff2b9cff\";\n",
    "var _instance=eth.contract(_abi).at(_address);\n",
    "console.log(_instance.getNow.call());\n",
    "_instance.start.sendTransaction({from:web3.eth.accounts[0]});\n",
    "console.log(_instance.timePassed.call());"
   ]
  },
  {
   "cell_type": "markdown",
   "metadata": {
    "slideshow": {
     "slide_type": "subslide"
    }
   },
   "source": [
    "이를 실행하고 나서는 \n",
    "* 마이닝하고, \n",
    "```javascript\n",
    "> miner.start(1);admin.sleepBlocks(1);miner.stop()\n",
    "true\n",
    "> loadScript(\"src/ExampleSol.js\");하면 _compiled, _abi 등 변수를 사용할 수 있다.\n",
    "> var _contract=eth.contract(_abi);\n",
    "undefined\n",
    "> var _address=\"0x676a7c1ebc291da1cd5f7123796e2e3c5472a477\";\n",
    "undefined\n",
    "> var _instance=eth.contract(_abi).at(_address);\n",
    "undefined\n",
    "> _instance.get_s()\n",
    "\"js20170602\"\n",
    "```"
   ]
  },
  {
   "cell_type": "code",
   "execution_count": 50,
   "metadata": {
    "collapsed": false,
    "scrolled": true
   },
   "outputs": [
    {
     "name": "stdout",
     "output_type": "stream",
     "text": [
      "1550735484\n",
      "1550735484\n",
      "\u001b[1mtrue\u001b[0m\n"
     ]
    }
   ],
   "source": [
    "!geth --exec 'loadScript(\"src/TimerUseGeth.js\")' attach http://117.16.44.45:8445"
   ]
  },
  {
   "cell_type": "code",
   "execution_count": 51,
   "metadata": {
    "collapsed": false,
    "scrolled": true
   },
   "outputs": [
    {
     "name": "stdout",
     "output_type": "stream",
     "text": [
      "1550738488\n",
      "0\n",
      "\u001b[1mtrue\u001b[0m\n"
     ]
    }
   ],
   "source": [
    "!geth --exec 'loadScript(\"src/TimerUseGeth.js\")' attach http://117.16.44.45:8445"
   ]
  },
  {
   "cell_type": "code",
   "execution_count": 52,
   "metadata": {
    "collapsed": false,
    "scrolled": true
   },
   "outputs": [
    {
     "name": "stdout",
     "output_type": "stream",
     "text": [
      "1550738546\n",
      "0\n",
      "\u001b[1mtrue\u001b[0m\n"
     ]
    }
   ],
   "source": [
    "!geth --exec 'loadScript(\"src/TimerUseGeth.js\")' attach http://117.16.44.45:8445"
   ]
  },
  {
   "cell_type": "markdown",
   "metadata": {
    "slideshow": {
     "slide_type": "subslide"
    }
   },
   "source": [
    "타임스탬프 형식으로 출력된다. 이 형식을 우리가 사용하는 시간 형식으로 변환해야 한다. https://www.epochconverter.com/\n",
    "주의해야할 점은:\n",
    "위 스크립트를 다시 실행시켜도 timestamp는 변하지 않는다. 시간이 지나감에도 불구하고 왜 그 증가분만큼 늘어나지 않는 것일까?\n",
    "여기서 중요한 블록체인의 특징을 이해할 필요가 있다.\n",
    "우리가 호출한 getNow()는 **call 함수**이다.\n",
    "이 함수는 로컬에서 \n",
    "\n",
    "signed 32-bit number \n",
    "\n",
    "> 타임스탬프 timestamp\n",
    "> 유닉스에서 사용하는 타임스탬프 형식을 \n",
    "Unix time (also known as POSIX time[citation needed] or UNIX Epoch time[1]) is a system for describing a point in time. It is the number of seconds that have elapsed since 00:00:00 Thursday, 1 January 1970,[2] Coordinated Universal Time (UTC), minus leap seconds. Every day is treated as if it contains exactly 86400 seconds,[2] so leap seconds are to be subtracted since the epoch.[3]"
   ]
  },
  {
   "cell_type": "markdown",
   "metadata": {
    "collapsed": false,
    "slideshow": {
     "slide_type": "subslide"
    }
   },
   "source": [
    "```python\n",
    "pragma solidity ^0.5.0;\n",
    "contract Timer {\n",
    "    uint256 startTime;\n",
    "    uint256 endTime;\n",
    "    function start() public {\n",
    "        startTime=now;\n",
    "    }\n",
    "    function stop() public {\n",
    "        endTime=now;\n",
    "    }\n",
    "    function timePassed() public view returns(uint256) {\n",
    "        return endTime-startTime;\n",
    "    }\n",
    "    function getNow() view public returns(uint) {\n",
    "        return now;\n",
    "    }\n",
    "}\n",
    "```"
   ]
  },
  {
   "cell_type": "markdown",
   "metadata": {
    "slideshow": {
     "slide_type": "subslide"
    }
   },
   "source": [
    "## LAB Multiply7\n",
    "\n",
    "단계 | 방식 | 결과\n",
    "-----|-----|-----\n",
    "개발 | solidity | ok\n",
    "컴파일 | eth | ok\n",
    "배포 | _class.new | ok (transactionHash는 배포하지 않아도 생성)\n",
    "배포 | _class.new, async 방식 | nok  (geth console에서만 ok)\n",
    "생성 | async방식 | nok (geth console에서만 ok)\n",
    "\n",
    "* geth console에서의 사용 예.\n",
    "```\n",
    "> myMultiply=eth.contract(compiled.test.info.abiDefinition).at(_object.address)\n",
    "{\n",
    "  abi: [{\n",
    "      constant: false,\n",
    "      inputs: [{...}],\n",
    "      name: \"multiply\",\n",
    "      outputs: [{...}],\n",
    "      payable: false,\n",
    "      type: \"function\"\n",
    "  }],\n",
    "  address: \"0x050c96a751f86a699a541001223b1ba7f5364d8d\",\n",
    "  transactionHash: null,\n",
    "  allEvents: function(),\n",
    "  multiply: function()\n",
    "}\n",
    "> myMultiply.multiply.call(6)\n",
    "'42'\n",
    "```"
   ]
  },
  {
   "cell_type": "code",
   "execution_count": 26,
   "metadata": {
    "collapsed": false,
    "slideshow": {
     "slide_type": "subslide"
    }
   },
   "outputs": [
    {
     "name": "stdout",
     "output_type": "stream",
     "text": [
      "Overwriting src/Multiply7.sol\n"
     ]
    }
   ],
   "source": [
    "%%writefile src/Multiply7.sol\n",
    "pragma solidity ^0.5.0;\n",
    "\n",
    "contract Multiply7 {\n",
    "   function multiply(uint input) public pure returns (uint) {\n",
    "      return input * 7;\n",
    "   }\n",
    "}"
   ]
  },
  {
   "cell_type": "code",
   "execution_count": 27,
   "metadata": {
    "collapsed": false,
    "slideshow": {
     "slide_type": "subslide"
    }
   },
   "outputs": [
    {
     "name": "stdout",
     "output_type": "stream",
     "text": [
      "\r\n",
      "======= src/Multiply7.sol:Multiply7 =======\r\n",
      "Gas estimation:\r\n",
      "construction:\r\n",
      "   93 + 38800 = 38893\r\n",
      "external:\r\n",
      "   multiply(uint256):\t291\r\n",
      "Binary: \r\n",
      "608060405234801561001057600080fd5b5060c28061001f6000396000f3fe6080604052348015600f57600080fd5b50600436106045576000357c010000000000000000000000000000000000000000000000000000000090048063c6888fa114604a575b600080fd5b607360048036036020811015605e57600080fd5b81019080803590602001909291905050506089565b6040518082815260200191505060405180910390f35b600060078202905091905056fea165627a7a723058200bedf7a8055c5e72976164e3b7fb22ab8a88ab449168b60b5cf7ba2203eb8a240029\r\n",
      "Contract JSON ABI \r\n",
      "[{\"constant\":true,\"inputs\":[{\"name\":\"input\",\"type\":\"uint256\"}],\"name\":\"multiply\",\"outputs\":[{\"name\":\"\",\"type\":\"uint256\"}],\"payable\":false,\"stateMutability\":\"pure\",\"type\":\"function\"}]\r\n"
     ]
    }
   ],
   "source": [
    "!solc --gas --abi --bin src/Multiply7.sol"
   ]
  },
  {
   "cell_type": "markdown",
   "metadata": {
    "slideshow": {
     "slide_type": "subslide"
    }
   },
   "source": [
    "0\n",
    "\n",
    "The problem here is upon creation of your contract you do not send enough gas. By default it is 90000 ( for Geth ) or the results given after creating it are\n",
    "\n",
    "Transaction cost: 112321 gas. \n",
    " Execution cost: 44689 gas."
   ]
  },
  {
   "cell_type": "code",
   "execution_count": 1,
   "metadata": {
    "collapsed": false,
    "slideshow": {
     "slide_type": "subslide"
    }
   },
   "outputs": [
    {
     "name": "stdout",
     "output_type": "stream",
     "text": [
      "Overwriting src/Multiply7Deploy.js\n"
     ]
    }
   ],
   "source": [
    "%%writefile src/Multiply7Deploy.js\n",
    "var Web3=require('web3');\n",
    "var web3;\n",
    "if (typeof web3 !== 'undefined') {\n",
    "    web3 = new Web3(web3.currentProvider);\n",
    "} else {\n",
    "    web3 = new Web3(new Web3.providers.HttpProvider(\"http://117.16.44.45:8445\"));\n",
    "}\n",
    "var _abiArray=[{\"constant\":true,\"inputs\":[{\"name\":\"input\",\"type\":\"uint256\"}],\"name\":\"multiply\",\"outputs\":[{\"name\":\"\",\"type\":\"uint256\"}],\"payable\":false,\"stateMutability\":\"pure\",\"type\":\"function\"}];\n",
    "var _bin=\"608060405234801561001057600080fd5b5060c28061001f6000396000f3fe6080604052348015600f57600080fd5b50600436106045576000357c010000000000000000000000000000000000000000000000000000000090048063c6888fa114604a575b600080fd5b607360048036036020811015605e57600080fd5b81019080803590602001909291905050506089565b6040518082815260200191505060405180910390f35b600060078202905091905056fea165627a7a723058200bedf7a8055c5e72976164e3b7fb22ab8a88ab449168b60b5cf7ba2203eb8a240029\";\n",
    "var _contract = web3.eth.contract(_abiArray);\n",
    "//unlock the account with a password provided\n",
    "//web3.personal.unlockAccount(web3.eth.accounts[0],'password');\n",
    "var _instance=_contract.new({data:\"0x\"+_bin,from:web3.eth.accounts[0],gas:1000000}, function(err, contract) {\n",
    "    if (!err) {\n",
    "        console.log(\"contractAddress: \", contract.address);\n",
    "        console.log(\"transactionHash: \", contract.transactionHash);\n",
    "    }\n",
    "});"
   ]
  },
  {
   "cell_type": "markdown",
   "metadata": {
    "slideshow": {
     "slide_type": "subslide"
    }
   },
   "source": [
    "* asynch 방식이라 마이닝이 될 때까지 기다려야 한다."
   ]
  },
  {
   "cell_type": "code",
   "execution_count": 31,
   "metadata": {
    "collapsed": false
   },
   "outputs": [
    {
     "name": "stdout",
     "output_type": "stream",
     "text": [
      "contractAddress:  undefined\n",
      "transactionHash:  0x875388e6058ba088d323a3056260c55c504faf4d3aa807b45819a49cb976e0fd\n",
      "contractAddress:  0x276c3db04f43197e5f67f79b65f7394cd8dd2627\n",
      "transactionHash:  0x875388e6058ba088d323a3056260c55c504faf4d3aa807b45819a49cb976e0fd\n"
     ]
    }
   ],
   "source": [
    "!node src/Multiply7Deploy.js"
   ]
  },
  {
   "cell_type": "code",
   "execution_count": 2,
   "metadata": {
    "collapsed": false
   },
   "outputs": [
    {
     "name": "stdout",
     "output_type": "stream",
     "text": [
      "contractAddress:  undefined\n",
      "transactionHash:  0x7f9393b66a3b6f8a048eb6a6ae1d8ffbfa5c70471c819e252a3e1e83023748ad\n",
      "contractAddress:  0xb0858506a4b677e06af14a02be37011bd4196cd5\n",
      "transactionHash:  0x7f9393b66a3b6f8a048eb6a6ae1d8ffbfa5c70471c819e252a3e1e83023748ad\n"
     ]
    }
   ],
   "source": [
    "!node src/Multiply7Deploy.js"
   ]
  },
  {
   "cell_type": "markdown",
   "metadata": {
    "slideshow": {
     "slide_type": "subslide"
    }
   },
   "source": [
    "* 위에서 만들어진 abi, contract address를 사용한다.\n",
    "* call은 로컬에서 실행하기 때문에, hash값도 없고 gas도 필요하지 않다. 블록체인에 기록되지 않는 거래이다.\n",
    "* sendTransaction으로 실행하면 블록체인에 기록된다.\n",
    "\n",
    "* transactionHash\n",
    "    * at()으로 생성하면, 거래가 발생하지 않았으므로 (주소에서 컨트랙을 생성했다), transactionHash는 null\n",
    "    * 계정에서는 여러 거래를 발생하므로, 거래를 확인하려면 id인 transactionHash가 필요."
   ]
  },
  {
   "cell_type": "code",
   "execution_count": 32,
   "metadata": {
    "collapsed": false
   },
   "outputs": [
    {
     "name": "stdout",
     "output_type": "stream",
     "text": [
      "Overwriting src/Multiply7Use.js\n"
     ]
    }
   ],
   "source": [
    "%%writefile src/Multiply7Use.js\n",
    "var Web3=require('web3');\n",
    "var web3 = new Web3(new Web3.providers.HttpProvider(\"http://117.16.44.45:8445\"));\n",
    "var _abiArray=[{\"constant\":true,\"inputs\":[{\"name\":\"input\",\"type\":\"uint256\"}],\"name\":\"multiply\",\"outputs\":[{\"name\":\"\",\"type\":\"uint256\"}],\"payable\":false,\"stateMutability\":\"view\",\"type\":\"function\"}];\n",
    "var _contract = web3.eth.contract(_abiArray);\n",
    "var multiply7 = _contract.at(\"0x276c3db04f43197e5f67f79b65f7394cd8dd2627\");\n",
    "console.log(\"multiply7: \", multiply7.multiply.call(6).toNumber());"
   ]
  },
  {
   "cell_type": "code",
   "execution_count": 33,
   "metadata": {
    "collapsed": false
   },
   "outputs": [
    {
     "name": "stdout",
     "output_type": "stream",
     "text": [
      "multiply7:  42\r\n"
     ]
    }
   ],
   "source": [
    "!node src/Multiply7Use.js"
   ]
  },
  {
   "cell_type": "markdown",
   "metadata": {
    "slideshow": {
     "slide_type": "subslide"
    }
   },
   "source": [
    "* geth console이 아니라서 async nok. 따라서 거래가 대기 상태.\n",
    "    * input은 소스의 bin code\n",
    "    * from은 전송 계정\n",
    "    eth.getBlock(\"pending\", true).transactions;\n",
    "    \n",
    "```\n",
    "현재 대기 거래 건수를 확인할 수 있다.\n",
    "> txpool.status\n",
    "{\n",
    "  pending: 1,\n",
    "  queued: 0\n",
    "}\n",
    "\n",
    "대기가 일정 시간 걸리면, 마이닝을 직접한다. 완료되면 주소가 생성된다.\n",
    "> miner.start(1); admin.sleepBlocks(1); miner.stop();\n",
    "true\n",
    "> eth.pendingTransactions 대기 거래 처리됨 (블럭체인으로 넣어짐)\n",
    "> _object\n",
    "{\n",
    "  address: '0x837b3d973f29559e8edab1abd4c0fec6e1445d12',\n",
    "  transactionHash: '0xf48e7e262bae6566f8592c5a532e389854782130a995c75765829657ce17e6ff',\n",
    "  allEvents: function (),\n",
    "  multiply: function ()\n",
    "}\n",
    "```"
   ]
  },
  {
   "cell_type": "code",
   "execution_count": 21,
   "metadata": {
    "collapsed": false,
    "slideshow": {
     "slide_type": "subslide"
    }
   },
   "outputs": [
    {
     "name": "stdout",
     "output_type": "stream",
     "text": [
      "[{\r\n",
      "    blockHash: \u001b[1mnull\u001b[0m,\r\n",
      "    blockNumber: \u001b[1mnull\u001b[0m,\r\n",
      "    from: \u001b[32m\"0x2e49e21e708b7d83746ec676a4afda47f1a0d693\"\u001b[0m,\r\n",
      "    gas: \u001b[31m90000\u001b[0m,\r\n",
      "    gasPrice: \u001b[31m20000000000\u001b[0m,\r\n",
      "    hash: \u001b[32m\"0x7ccd5dc3a6498394320201fe09f9553cd5ce4aaa957363a6d2baca4be8309bd9\"\u001b[0m,\r\n",
      "    input: \u001b[32m\"0x6060604052346000575b60458060156000396000f3606060405260e060020a6000350463c6888fa18114601c575b6000565b346000576029600435603b565b60408051918252519081900360200190f35b600781025b91905056\"\u001b[0m,\r\n",
      "    nonce: \u001b[31m59\u001b[0m,\r\n",
      "    r: \u001b[32m\"0xb35022f42f760331f2d2e0bb5530d05948da599b3b03510c2007a86eecf147b9\"\u001b[0m,\r\n",
      "    s: \u001b[32m\"0x484e7f295f9999dd20da97c569c99bd34f0023260677ff46a2662c7ef9c8dcce\"\u001b[0m,\r\n",
      "    to: \u001b[1mnull\u001b[0m,\r\n",
      "    transactionIndex: \u001b[1mnull\u001b[0m,\r\n",
      "    v: \u001b[32m\"0x1c\"\u001b[0m,\r\n",
      "    value: \u001b[31m0\u001b[0m\r\n",
      "}]\r\n"
     ]
    }
   ],
   "source": [
    "!geth --exec 'eth.pendingTransactions;' attach http://117.16.44.45:8445"
   ]
  },
  {
   "cell_type": "markdown",
   "metadata": {
    "slideshow": {
     "slide_type": "subslide"
    }
   },
   "source": [
    "* 위 transactionHash를 가지고 transactionReceipt()를 실행하여 주소를 사용한다.\n",
    "    * 주소는 마이닝 후 생성된다. 마이닝하지 않으면 주소는 null\n",
    "    * transactionHash\n",
    "    \"0x7ccd5dc3a6498394320201fe09f9553cd5ce4aaa957363a6d2baca4be8309bd9\"\n",
    "    * contractAddress: \"0x13581bb3c23492b722f230e967a0232741ccd247\"\n",
    "    * 주소의 bin code도 확인할 수 있다.\n",
    " "
   ]
  },
  {
   "cell_type": "code",
   "execution_count": 22,
   "metadata": {
    "collapsed": false,
    "scrolled": false,
    "slideshow": {
     "slide_type": "subslide"
    }
   },
   "outputs": [
    {
     "name": "stdout",
     "output_type": "stream",
     "text": [
      "{\r\n",
      "  blockHash: \u001b[32m\"0x62c6f4ea5b26f1efbbbfa78dac40b29a6f8a9c3c14510b98301e8c16056a060e\"\u001b[0m,\r\n",
      "  blockNumber: \u001b[31m61711\u001b[0m,\r\n",
      "  contractAddress: \u001b[32m\"0x13581bb3c23492b722f230e967a0232741ccd247\"\u001b[0m,\r\n",
      "  cumulativeGasUsed: \u001b[31m40597\u001b[0m,\r\n",
      "  from: \u001b[32m\"0x2e49e21e708b7d83746ec676a4afda47f1a0d693\"\u001b[0m,\r\n",
      "  gasUsed: \u001b[31m40597\u001b[0m,\r\n",
      "  logs: [],\r\n",
      "  logsBloom: \u001b[32m\"0x00000000000000000000000000000000000000000000000000000000000000000000000000000000000000000000000000000000000000000000000000000000000000000000000000000000000000000000000000000000000000000000000000000000000000000000000000000000000000000000000000000000000000000000000000000000000000000000000000000000000000000000000000000000000000000000000000000000000000000000000000000000000000000000000000000000000000000000000000000000000000000000000000000000000000000000000000000000000000000000000000000000000000000000000000000000\"\u001b[0m,\r\n",
      "  root: \u001b[32m\"0xdf63ca69b3ac58bf423229d501dff8897306e2b0c9a821c2fa6b4f19c980c98c\"\u001b[0m,\r\n",
      "  to: \u001b[1mnull\u001b[0m,\r\n",
      "  transactionHash: \u001b[32m\"0x7ccd5dc3a6498394320201fe09f9553cd5ce4aaa957363a6d2baca4be8309bd9\"\u001b[0m,\r\n",
      "  transactionIndex: \u001b[31m0\u001b[0m\r\n",
      "}\r\n"
     ]
    }
   ],
   "source": [
    "!geth --exec 'eth.getTransactionReceipt(\"0x7ccd5dc3a6498394320201fe09f9553cd5ce4aaa957363a6d2baca4be8309bd9\");' attach http://117.16.44.45:8445"
   ]
  },
  {
   "cell_type": "code",
   "execution_count": 23,
   "metadata": {
    "collapsed": false,
    "scrolled": true,
    "slideshow": {
     "slide_type": "subslide"
    }
   },
   "outputs": [
    {
     "name": "stdout",
     "output_type": "stream",
     "text": [
      "\u001b[32m\"0x606060405260e060020a6000350463c6888fa18114601c575b6000565b346000576029600435603b565b60408051918252519081900360200190f35b600781025b91905056\"\u001b[0m\r\n"
     ]
    }
   ],
   "source": [
    "!geth --exec 'eth.getCode(\"0x13581bb3c23492b722f230e967a0232741ccd247\");' attach http://117.16.44.45:8445"
   ]
  },
  {
   "cell_type": "code",
   "execution_count": null,
   "metadata": {
    "collapsed": true
   },
   "outputs": [],
   "source": []
  }
 ],
 "metadata": {
  "celltoolbar": "Slideshow",
  "kernelspec": {
   "display_name": "Python 2",
   "language": "python",
   "name": "python2"
  },
  "language_info": {
   "codemirror_mode": {
    "name": "ipython",
    "version": 2
   },
   "file_extension": ".py",
   "mimetype": "text/x-python",
   "name": "python",
   "nbconvert_exporter": "python",
   "pygments_lexer": "ipython2",
   "version": "2.7.12"
  }
 },
 "nbformat": 4,
 "nbformat_minor": 0
}
