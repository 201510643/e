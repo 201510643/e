{
 "cells": [
  {
   "cell_type": "markdown",
   "metadata": {
    "slideshow": {
     "slide_type": "slide"
    }
   },
   "source": [
    "# 3. 네트워크\n",
    "\n",
    "Last Updated 20190127SUN1530 20180717TUE1700 201801231MON1800 20160207\n",
    "\n",
    "## 학습내용\n",
    "\n",
    "### 목표\n",
    "\n",
    "- 이더리움 노드 설정하고 geth 네트워크 실습"
   ]
  },
  {
   "cell_type": "markdown",
   "metadata": {
    "collapsed": true,
    "slideshow": {
     "slide_type": "subslide"
    }
   },
   "source": [
    "### 목차\n",
    "\n",
    "* 3.1 [네트워크](#3.1)\n",
    "* 3.2 공중망\n",
    "* 3.3.1 네트워크 버전 및 ID\n",
    "* 3.3.2 메인 네트워크\n",
    "* 3.3.3 테스트 네트워크\n",
    "* 3.4 사설망"
   ]
  },
  {
   "cell_type": "markdown",
   "metadata": {
    "slideshow": {
     "slide_type": "subslide"
    }
   },
   "source": [
    "### 문제\n",
    "\n",
    "* 문제 e-1: [사설 Geth 네트워크 구성하고 접속하기](#e-1)\n",
    "* 문제 e-2: [Geth 네트워크 구성하기 (ip를 넣어서)](#e-2)\n",
    "* 문제 e-3: [Geth 멀티노드 네트워크 구성하기 (ip를 넣어서)](#e-3)\n",
    "\n",
    "### 참고문헌\n",
    "Mastering Ethereum O'Reilly https://github.com/ethereumbook/ethereumbook/"
   ]
  },
  {
   "cell_type": "markdown",
   "metadata": {
    "slideshow": {
     "slide_type": "slide"
    }
   },
   "source": [
    "## 3.1 네트워크\n",
    "<a id='3.1'></a>\n",
    "\n",
    "블록체인 네트워크는 개방된 정도에 따라 다음과 같이 구분할 수 있다.\n",
    "모두 P2P로 실행되지만 사용되는 사례는 다르다.\n",
    "**공중망**은 인터넷에 연결되어 누구나 참여할 수 있다.\n",
    "반면에 **사설망 Private Network**은 우리와 같은 개인이 개설한 네트워크이다.\n",
    "**연합망**은 참여하는 주로 기업을 정해서 네트워크를 구성한다. Ethereum 기반의 Quorum, 리눅스 재단에서 시작한 Hyperledger, Corda를 예로 들 수 있다.\n",
    "\n",
    "개방정도 | 구분 | 설명\n",
    "-----|-----|-----\n",
    "제한 | private | 주로 개인이 개설한 네트워크\n",
    "허락 | consortium | 참여자를 미리 선정 권한 가짐\n",
    "무제한 | public | 누구나 참여할 수 있다.\n"
   ]
  },
  {
   "cell_type": "markdown",
   "metadata": {
    "slideshow": {
     "slide_type": "subslide"
    }
   },
   "source": [
    "## 3.2 공중망\n",
    "\n",
    "공중망은 개방되어 누구나 사용할 수 있다. 이더리움의 메인 네트워크인 Frontier를 예로 들 수 있다. 메인 네트워크에서는 실제 암호화폐가 사용되므로 거래를 테스트 해서는 안된다. 메인 네트워크에 해당하는 테스트 네트워크도 공중망이지만 테스트 용도로 개방되어 있으니 이를 이용하면 된다. Ropsten 또는 Rinkeby와 테스트 네트워크를 예로 들 수 있다."
   ]
  },
  {
   "cell_type": "markdown",
   "metadata": {
    "slideshow": {
     "slide_type": "subslide"
    }
   },
   "source": [
    "## 3.2.1 네트워크 버전 및 ID\n",
    "\n",
    "2015년 시험버전인 Olpymic이 발표되었고, 곧 Frontier로 대체되었다.\n",
    "현재 Homestead 버전이 메인네트워크로, Ropsten이 테스트 네트워크로 사용되고 있다.\n",
    "각 버전별로 고유번호가 붙어 있다.\n",
    "현재 쓰이고 있는 Homestead는 1번이 붙어 있고, 5번 이후부터는 private network에서 사용하는 번호이다.\n",
    "\n",
    "It was the pre-release testnet launched in early 2015. Somethimes this network is referred to as Ethereum Version 0.9. It was discontinued in July 2015 when Ethereum officially launched and replaced by Morden.\n",
    "\n",
    "\n",
    "network id | 명칭 | 구분 | 설명\n",
    "-------|-------|-------\n",
    "0 | Olympic | testnet | 2015년 7월 다음 버전 Modern으로 대체\n",
    "1 | Frontier | main | 2016년 3월 **Homestead**로 업그레이드\n",
    "2 | Morden | testnet | **Frontier의 testnet**. 2016년 종료\n",
    "3 | Ropsten | testnet | **Homestead의 testnet**. 2016년 발표. ```--testnet```로 접속할 수 있다.\n",
    "4 | Rinkeby | testnet | PoA (Proof of Authority)  ```--rinkeby```로 접속할 수 있다.\n",
    " | Kovan parity | testnet | PoA testnet issued by Ethcore, Melonport, and Digix after the Ropsten attacks."
   ]
  },
  {
   "cell_type": "markdown",
   "metadata": {},
   "source": [
    "### 3.3.1 메인 네트워크\n",
    "\n",
    "메인 네트워크에서는 어플리케이션을 실제로 운영할 수 있다.\n",
    "다른 사설망이나 테스트네트워크와 달리 실제 Ether가 유통되기 때문에 주의를 기울여야 한다.\n",
    "메인 네트워크의 상황은 https://ethstats.net/에서 관련 통계를 볼 수 있다.\n",
    "* 거래 실시간 검색\n",
    "Etherscan(https://etherscan.io)은 이더리움 블록체인 상에서 발생하는 거래를 실시간으로 조회할 수 사이트이다."
   ]
  },
  {
   "cell_type": "markdown",
   "metadata": {},
   "source": [
    "* full vs light node    \n",
    "    * full은 전체 blockchain을 모두 내려받고 네트워크와 동기화 필요\n",
    "    * light는 핸드폰 등에서 사용. block header만 동기화\n",
    "\n",
    "* main net 접속 예\n"
   ]
  },
  {
   "cell_type": "markdown",
   "metadata": {
    "slideshow": {
     "slide_type": "subslide"
    }
   },
   "source": [
    "!geth --syncmode \"fast\" --cache=512 console"
   ]
  },
  {
   "cell_type": "markdown",
   "metadata": {},
   "source": [
    "### 3.3.2 테스트 네트워크\n",
    "\n",
    "반면에 테스트 네트워크는 메인의 복사본으로 볼 수 있다. 테스트 네트워크는 말 그대로 어플리케이션을 테스트하는 네트워크이다.\n",
    "앞서 보듯이, 현재 사용할 수 있는 테스트 네트워크는 Ropsten, Kovan, Rinkeby 이다.\n",
    "현재 운영되는 메인네크워크 (Homestead)에 대응되는 테스트 네트워크인 Ropsten은 ```--testnet```으로 접속할 수 있다.\n",
    "* testnet에 사용할 수 있는 ether는 (1) 마이닝하거나, (2) faucet에서 충전할 수 있다 (Kovan, Rinkeby는 마이닝하지 않고 충전을 별도로 요청해서 한다.). 1시간 정도 마이닝하면 10 ether는 할 수 있다. 2017년 2월 아침 6시 ~ 오후 1시 60ether정도.\n",
    "\n",
    "```python\n",
    "$ geth --testnet --syncmode \"fast\" --cache=512 console\n",
    "geth --testnet --syncmode \"fast\" --rpc --rpcapi \"db,eth,net,web3,personal\" --verbosity 3 --rpccorsdomain \"*\"\n",
    "```\n",
    "\n",
    "* 처음 계정을 만들고, 충전을 위해 마이닝한 후 (10 ~ 20분 정도), 다시 시작\n",
    "```python\n",
    "geth --testnet account new\n",
    "geth --testnet --rpc --mine --minerthreads 1 console\n",
    "geth --testnet --rpc console\n",
    "```\n",
    "\n",
    "* testnet 만들어 보기\n",
    "    * 'testnet_genesis.json'에서 초기화\n",
    "    * 보안을 위해 unlock하지 않았다.\n",
    "    * bootnode제외\n",
    "    * network id는 admin.nodeinfo를 사용해 확인할 수 있다.\n",
    "\n",
    "```\n",
    "> admin.nodeInfo.protocols\n",
    "{\n",
    "  eth: {\n",
    "    config: {\n",
    "      chainId: 33,\n",
    "      eip150Hash: \"0x0000000000000000000000000000000000000000000000000000000000000000\",\n",
    "      eip155Block: 0,\n",
    "      eip158Block: 0,\n",
    "      homesteadBlock: 0\n",
    "    },\n",
    "    difficulty: 93425390,\n",
    "    genesis: \"0x5704d029fe80f4fb605c0cb5e31d591511f10a46a0cb8166f97d8d559f9bc5b0\",\n",
    "    head: \"0x1bf49142fd5666dc16ed51961eb3b82351a6b403f511a6d3a2d9db0d84678d2f\",\n",
    "    network: 33\n",
    "  }\n",
    "}\n",
    "```"
   ]
  },
  {
   "cell_type": "code",
   "execution_count": 1,
   "metadata": {
    "collapsed": false
   },
   "outputs": [
    {
     "name": "stdout",
     "output_type": "stream",
     "text": [
      "Overwriting _geth_testnet.sh\n"
     ]
    }
   ],
   "source": [
    "%%writefile _geth_testnet.sh\n",
    "_dir=$HOME/Downloads/eth/testnet\n",
    "_log=$HOME/Downloads/eth/testnet.log\n",
    "geth --identity \"jslTestNode\" \\\n",
    "--verbosity 3 \\\n",
    "--rpc --rpcaddr \"117.16.44.45\" --rpcport \"8444\" --rpccorsdomain \"*\" \\\n",
    "--datadir $_dir \\\n",
    "--port \"30444\" \\\n",
    "--maxpeers 3 \\\n",
    "--rpcapi \"admin,db,eth,debug,miner,net,shh,txpool,personal,web3\" \\\n",
    "--ipcdisable \\\n",
    "--networkid 3 \\\n",
    "console 2>>$_log\n"
   ]
  },
  {
   "cell_type": "markdown",
   "metadata": {
    "slideshow": {
     "slide_type": "subslide"
    }
   },
   "source": [
    "### E.3.4 사설망\n",
    "\n",
    "\n",
    "개인이나 블록체인을 서로 공유하기로 한 사람들로 한정해서 개설한 네트워크. 개방이 제한되어 누구나 참여할 수 있는 네트워크가 아니다. 블록체인이 개방된 플랫폼에서 사용되지 못해 분산원장으로 본래의 목적을 살릴 수 없다. 개발용으로 개설해서 사용하는 경우가 많다. Ether를 사용하지만 실제 가치가 없다. 따라서 개인이 자유롭게 개설해서 사용하고 사용에 수반되는 비용이 없다. 따라서 거래를 발생한 자신이 마이닝까지 수행하게 되는 것이 보통이다.\n",
    "\n",
    "Private Network\n",
    "\n",
    "* --dev 개발을 위해 사용. --maxpeers 0 으로 자동 설정되어 개발자 혼자 사용하는 것임."
   ]
  },
  {
   "cell_type": "markdown",
   "metadata": {},
   "source": [
    "## 문제 e-1: 사설 Geth 네트워크 구성하고 접속하기\n",
    "<a id='e-1'></a>\n",
    "\n",
    "Microsoft Azure\n",
    "ibm bluemix\n",
    "\n",
    "#### genesis.json 설정\n",
    "\n",
    "* '최초' geth 네트워크를 구성하려면, genesis 설정으로 초기화 한다.\n",
    "    * 자신만 사용하는 local private network을 구성한다.\n",
    "    * live network은 ether로 실제 거래할 수 있는 네트워크를 말한다."
   ]
  },
  {
   "cell_type": "markdown",
   "metadata": {},
   "source": [
    "* genesis.json을 설정한다.\n",
    "    * private으로 설정하는 경우, Frontier guide의 genesis.json 예제를 사용한다.\n",
    "        https://github.com/ethereum/go-ethereum/wiki/Private-network\n",
    "\n",
    "키 | 설명\n",
    "-------|-------\n",
    "config | 설정하지 않아도 된다.\n",
    "mixhash | 256 bit hash 값\n",
    "nonce | 64 bit hash 값. nonce + mixhash 두 값이 결합하여 이 값을 맞추려면 일정한 양의 수학적 계산이 필요하다. 따라서 블록이 PoW에 따라 마이닝되고 검증되었다는 의미이다.\n",
    "difficulty | 마이닝 난이도로서, 당연히 높으면 마이닝하려면 오래 걸림. 블록에서는 이전 블록의 1) 난이도와 2) timestamp에 따라 결정되지만 genesis block은 이전 블록이 없으므로 임의로 정하게 된다. 낮게 설정해서 대기시간을 줄이는 편이 좋다.\n",
    "alloc | 'Ether pre-sale'에 판매된 계정과 잔고. \"alloc\": {\"0x..\": { \"balance\": \"Wei\" }} 로컬은 충전이 쉬워 비워놓음.\n",
    "coinbase | 160 bit 주소. 마이닝 보상을 가져가는 계정주소. 실제 **마이닝하면서 정해지기 때문에 어떤 주소**를 적어도 좋다.\n",
    "timestamp | 타임스탬프. 블럭 사이의 timestamp길이가 짧으면 난이도를 눂이게 된다.\n",
    "parentHash | Keccak 256-bit hash로 부모 블록 헤더 (nonce와 mixhash포함)\n",
    "extraData | 최대 32 byte. 다른 용도를 대비한 공간.\n",
    "gasLimit | 블록 당 최대 소비 제한 gas. 높게 설정해서 out-of-gas과 같은 오류를 줄일 수 있다.\n"
   ]
  },
  {
   "cell_type": "code",
   "execution_count": null,
   "metadata": {
    "collapsed": true
   },
   "outputs": [],
   "source": [
    "      \"homesteadBlock\": 0,\n",
    "      \"eip155Block\": 0,\n",
    "      \"eip158Block\": 0,\n",
    "      \"byzantiumBlock\": 0"
   ]
  },
  {
   "cell_type": "markdown",
   "metadata": {
    "collapsed": true
   },
   "source": [
    "다른 예제 (이것으로 윈도우 20181229SAT0600)\n",
    "Chain id - identifies the current chain and is used for replay protection. You should set it to a unique value for your private chain.\n",
    "homesteadBlock - your chain won't be undergoing the switch to Homestead, so leave this as 0.\n",
    "eip155Block - your chain won't be hard-forking for these changes, so leave as 0.\n",
    "eip158Block - your chain won't be hard-forking for these changes, so leave as 0.\n",
    "```python\n",
    "{\n",
    "  \"config\": {\n",
    "    \"chainId\": 33,\n",
    "    \"homesteadBlock\": 0,\n",
    "    \"eip155Block\": 0,\n",
    "    \"eip158Block\": 0\n",
    "  },\n",
    "  \"nonce\": \"0x0000000000000033\",\n",
    "  \"timestamp\": \"0x0\",\n",
    "  \"parentHash\": \"0x0000000000000000000000000000000000000000000000000000000000000000\",\n",
    "  \"gasLimit\": \"0x8000000\",\n",
    "  \"difficulty\": \"0x100\",\n",
    "  \"mixhash\": \"0x0000000000000000000000000000000000000000000000000000000000000000\",\n",
    "  \"coinbase\": \"0x3333333333333333333333333333333333333333\",\n",
    "  \"alloc\": {}\n",
    "}\n",
    "```"
   ]
  },
  {
   "cell_type": "code",
   "execution_count": 11,
   "metadata": {
    "collapsed": false
   },
   "outputs": [
    {
     "name": "stdout",
     "output_type": "stream",
     "text": [
      "Overwriting _CustomGenesis.json\n"
     ]
    }
   ],
   "source": [
    "%%writefile _CustomGenesis.json\n",
    "{\n",
    "    \"nonce\": \"0x0000000000000042\",\n",
    "    \"timestamp\": \"0x0\",\n",
    "    \"parentHash\": \"0x0000000000000000000000000000000000000000000000000000000000000000\",\n",
    "    \"extraData\": \"0x0\",\n",
    "    \"gasLimit\": \"0x8000000\",\n",
    "    \"difficulty\": \"0x400\",\n",
    "    \"mixhash\": \"0x0000000000000000000000000000000000000000000000000000000000000000\",\n",
    "    \"coinbase\": \"0x3333333333333333333333333333333333333333\",\n",
    "    \"alloc\": {}\n",
    "}"
   ]
  },
  {
   "cell_type": "markdown",
   "metadata": {},
   "source": [
    "### bash shell을 사용해서 geth 네트워크를 실행한다.\n",
    "\n",
    "* init명령어를 사용해서 방금 작성한 genesis.json 설정으로 실행한다.\n",
    "* 초기화된 private network이 생성된다."
   ]
  },
  {
   "cell_type": "code",
   "execution_count": null,
   "metadata": {
    "collapsed": true
   },
   "outputs": [],
   "source": [
    "# %load _geth_genesis.sh\n",
    "_dir=$HOME/eth\n",
    "geth --datadir $_dir init _genesis.json\n"
   ]
  },
  {
   "cell_type": "code",
   "execution_count": 19,
   "metadata": {
    "collapsed": false
   },
   "outputs": [
    {
     "name": "stdout",
     "output_type": "stream",
     "text": [
      "I0729 22:25:31.360143 ethdb/database.go:82] Allotted 16MB cache and 16 file handles to /home/jsl/Downloads/eth/3/chaindata\n",
      "I0729 22:25:31.406873 core/genesis.go:92] Genesis block already in chain. Writing canonical number\n",
      "I0729 22:25:31.406909 cmd/geth/main.go:300] successfully wrote genesis block and/or chain rule set: 6650a0ac6c5e805475e7ca48eae5df0e32a2147a154bb2222731c770ddb5c158\n"
     ]
    }
   ],
   "source": [
    "!sh _geth_genesis.sh"
   ]
  },
  {
   "cell_type": "markdown",
   "metadata": {},
   "source": [
    "* 네트워크를 시작하려면, 새로운 계정을 만들어야 한다.\n",
    "    * 새로운 계정은 당연히 잔고가 '0'으로 되어 있다.\n",
    "    * 잔고가 없으면 거래를 할 수 없다. 충전을 하려면 마이닝을 한다 (또는 직접 구매를 한다).\n",
    "    * 현재 계정에 잔고가 없으면, e-4와 같이 마이닝을 해서 충전하도록 한다.\n",
    "```python\n",
    "> personal.newAccount(\"100\") 또는 아래\n",
    "> miner.start(1);admin.sleepBlocks(1);miner.stop()\n",
    "```\n"
   ]
  },
  {
   "cell_type": "code",
   "execution_count": null,
   "metadata": {
    "collapsed": true
   },
   "outputs": [],
   "source": [
    "!geth --datadir ~/Downloads/eth/1 account new"
   ]
  },
  {
   "cell_type": "markdown",
   "metadata": {
    "collapsed": true
   },
   "source": [
    "### genesis로 생성하고, 접속\n",
    "\n",
    "* bash shell\n",
    "    * port: 30303\n",
    "    * localhost:8545\n",
    "    * 간단히 줄여서 console을 실행하면:\n",
    "```python\n",
    "geth --datadir ~/Downloads/eth/1 --rpc\n",
    "    --rpcaddr \"117.16.44.45\" --rpccorsdomain \"*\" console\n",
    "```\n",
    "\n",
    "* geth console에서는:\n",
    "```python\n",
    "> admin.startRPC(\"117.16.44.45\",8545,\"*\",\"web3,db,net,eth\")\n",
    "```"
   ]
  },
  {
   "cell_type": "markdown",
   "metadata": {},
   "source": [
    "chainID는 networkid와 동일하게 설정하도록 한다.\n",
    "\n",
    "![alt text](figures/1_gethInitGenesis.png \"geth init genesis.json\")"
   ]
  },
  {
   "cell_type": "markdown",
   "metadata": {},
   "source": [
    "unlock하려면\n",
    "geth --datadir ~/eth account new\n",
    "\n",
    "\n",
    "![alt text](figures/1_gethClientRun.png \"geth client run\")"
   ]
  },
  {
   "cell_type": "markdown",
   "metadata": {},
   "source": [
    "3종류\n",
    "```python\n",
    "\\$ geth attach ipc:/some/custom/path\n",
    "\\$ geth attach http://191.168.1.1:8545\n",
    "\\$ geth attach ws://191.168.1.1:8546\n",
    "```\n",
    "\n",
    "![alt text](figures/1_gethIPC.png \"geth IPC\")"
   ]
  },
  {
   "cell_type": "markdown",
   "metadata": {
    "collapsed": true
   },
   "source": [
    "처음 충전을 어떻게 했더라...\n",
    "geth --datadir ~/eth account new\n",
    "\n",
    "??? miner.start(1)\n",
    "\n",
    "![alt text](figures/2_gethNewAccountMiningToPutEther.png \"geth new account and mine to get Ether\")"
   ]
  },
  {
   "cell_type": "markdown",
   "metadata": {},
   "source": [
    "* geth 종료하기 \n",
    "\n",
    "geth를 올바르게 종료하지 않으면, 지난 세션의 동기화를 잃어버리게 된다.\n",
    "즉 윈도우를 강제로 닫거나, 원격에서 열어놓은 단말이 네트워크 연결이 끊어져 올바르게 geth 세션이 종료하지 않는 경우 그런 동기화를 모두 잃어버리게 되는 상황이 발생한다.\n",
    "올바르게 geth를 종료하려면\n",
    "* 단말이 열려 있는 경우 Ctrl+C 또는 ```> exit```\n",
    "* 또는 Ctrl+C\n",
    "\n",
    "```\n",
    "WARN [01-07|10:03:01.420] Head state missing, repairing chain      number=707 hash=fad39d…871506\n",
    "INFO [01-07|10:03:01.435] Rewound blockchain to past state         number=0   hash=5704d0…9bc5b0\n",
    "```\n",
    "\n",
    "![alt text](figures/geth_headStateMissing.png \"geth head state missing\")"
   ]
  },
  {
   "cell_type": "code",
   "execution_count": null,
   "metadata": {
    "collapsed": true
   },
   "outputs": [],
   "source": [
    "chaindata/ (directory of chain and state data)\n",
    "dapp/ (directory for placeholder of dapp data)\n",
    "geth.ipc (file for inter-process-communication as used by Mist)\n",
    "history (file for console command history from geth attach or geth console)\n",
    "keystore/ (directory for encrypted private keys)\n",
    "nodekey (file of public key used by peers to connect with)\n",
    "nodes/ (directory peer connection data, used to establish network on start)"
   ]
  },
  {
   "cell_type": "code",
   "execution_count": 3,
   "metadata": {
    "collapsed": false,
    "scrolled": true
   },
   "outputs": [
    {
     "name": "stdout",
     "output_type": "stream",
     "text": [
      "total 16\r\n",
      "drwxr-xr-x 2 jsl jsl 4096  2월 28 11:07 chaindata\r\n",
      "drwxr-xr-x 2 jsl jsl 4096  1월  3 16:57 lightchaindata\r\n",
      "-rw-r--r-- 1 jsl jsl    0  1월  3 16:59 LOCK\r\n",
      "-rw------- 1 jsl jsl   64  1월  3 16:59 nodekey\r\n",
      "drwxr-xr-x 2 jsl jsl 4096  2월 28 13:08 nodes\r\n",
      "-rwxr-xr-x 1 jsl jsl    0  2월 28 13:07 transactions.rlp\r\n"
     ]
    }
   ],
   "source": [
    "!ls -l /home/jsl/eth/geth"
   ]
  },
  {
   "cell_type": "code",
   "execution_count": 4,
   "metadata": {
    "collapsed": false
   },
   "outputs": [
    {
     "name": "stdout",
     "output_type": "stream",
     "text": [
      "total 8\r\n",
      "-rw------- 1 jsl jsl 491  1월  4 06:57 UTC--2019-01-03T21-57-03.966937024Z--21c704354d07f804bab01894e8b4eb4e0eba7451\r\n",
      "-rw------- 1 jsl jsl 491  1월  4 10:40 UTC--2019-01-04T01-40-01.674920065Z--778ea91cb0d0879c22ca20c5aea6fbf8cbeed480\r\n"
     ]
    }
   ],
   "source": [
    "!ls -l /home/jsl/eth/keystore/"
   ]
  },
  {
   "cell_type": "markdown",
   "metadata": {},
   "source": [
    "nodejs example.sol compile, deploy\n",
    "\n",
    "![alt text](figures/2_nodejsWeb3Example.png \"node web3 test run Example.sol\")"
   ]
  },
  {
   "cell_type": "markdown",
   "metadata": {},
   "source": [
    "nodejs example.sol use after deploy 배포\n",
    "\n",
    "![alt text](figures/2_nodejsWeb3ExampleUse.png \"node web3 test run Example.sol\")"
   ]
  },
  {
   "cell_type": "code",
   "execution_count": null,
   "metadata": {
    "collapsed": true
   },
   "outputs": [],
   "source": []
  },
  {
   "cell_type": "code",
   "execution_count": null,
   "metadata": {
    "collapsed": true
   },
   "outputs": [],
   "source": []
  },
  {
   "cell_type": "markdown",
   "metadata": {},
   "source": [
    "## 문제 e-2: Geth 네트워크 구성하기 (ip를 넣어서)\n",
    "\n",
    "<a id='e-2'></a>\n",
    "\n",
    "* e-1에서 생성한 초기화된 private network 네트워크를 사용한다.\n",
    "* ip를 사용하여 구성하고, 접속한다.\n",
    "\n",
    "* 단계1: Geth 서버를 실행\n",
    "    * smu(117.16.44.45)에서 geth 서버실행 (또는 ssh login하고 할 수 있다.)\n",
    "```python\n",
    "$ ssh smu\n",
    "$ cd $HOME/Code/git/bb/bitcoin\n",
    "$ sh _geth2.sh\n",
    "```\n",
    "\n",
    "* 단계2: 서버를 사용\n",
    "    * 원격에서 ssh 로그인하고 geth attach 실행한다.\n",
    "```python\n",
    "$ ssh smu\n",
    "\n",
    "jsl@117.16.44.45's password: \n",
    "Welcome to Ubuntu 16.04.1 LTS (GNU/Linux 4.4.0-53-generic x86_64)\n",
    "jsl@jsl-smu$ geth attach http://117.16.44.45:8445\n",
    "Welcome to the Geth JavaScript console!\n",
    "\n",
    "instance: Geth/jslNode/v1.5.7-stable-da2a22c3/linux/go1.7.3     식별자, 버전 정보 표시\n",
    "coinbase: 0x2e49e21e708b7d83746ec676a4afda47f1a0d693            unlock 0 계정 암호풀고 시작하기\n",
    "at block: 272207 (Wed, 25 Jan 2017 05:35:02 KST)                현재 블럭번호\n",
    " datadir: /home/jsl/Downloads/eth/1                             사용 디렉토리, 아래는 사용 모듈들\n",
    " modules: admin:1.0 debug:1.0 eth:1.0 miner:1.0 net:1.0 personal:1.0 rpc:1.0 txpool:1.0 web3:1.0\n",
    "\n",
    "> \n",
    "> eth.blockNumber\n",
    "```\n",
    "    \n",
    "    * ipython notebook에서 사용하는 경우 ssh tunneling을 해 놓는다.\n",
    "```python\n",
    "ssh -N -f -L localhost:8891:localhost:8888 jsl@smu\n",
    "```\n",
    "    \n",
    "    * nodejs로 사용할 수 있다. web3를 먼저 설치해야 한다. (event는 firing이 안됨 -> geth를 사용해야)\n",
    "```python\n",
    "$ cd $HOME/Code/git/bb/jsl/bitcoin\n",
    "$ npm list (web3설치 확인, 설치하려면 npm install web3)\n",
    "jsl@jsl-smu:~/Code/git/bb/jsl/bitcoin$ node (web3 설치된 디렉토리에서)\n",
    "> var Web3 = require('web3');\n",
    "> var web3 = new Web3(new Web3.providers.HttpProvider(\"http://117.16.44.45:8445\"));\n",
    "> web3.eth.accounts\n",
    "```\n",
    "\n",
    "    * 브라우저 (Web3, HttpProvider가 아래 html에 설정되어 있어야 한다)\n",
    "```python\n",
    "file:///Users/media/Code/git/else/web3.js/example/contract.html\n",
    "```"
   ]
  },
  {
   "cell_type": "markdown",
   "metadata": {},
   "source": [
    "* Geth 서버\n",
    "    * 드라이버 설정은 변경할 수 있다.\n",
    "    * ipcapi, rpcapi를 모두 사용하는 것으로 설정하였다.\n",
    "    \n",
    "personal API는 계정정보를 보거나, 잔고에서 비용을 쓰거나 할 수 있다.\n",
    "RPC로 사용하면 인터넷에 노출되어 위험에 노출될 수 있다.\n",
    "ipc로 사용하거나 MetaMask"
   ]
  },
  {
   "cell_type": "code",
   "execution_count": 1,
   "metadata": {
    "collapsed": false
   },
   "outputs": [
    {
     "name": "stdout",
     "output_type": "stream",
     "text": [
      "Overwriting _geth2.sh\n"
     ]
    }
   ],
   "source": [
    "%%writefile _geth2.sh\n",
    "_dir=$HOME/Downloads/eth/1\n",
    "_log=$HOME/Downloads/eth/1.log\n",
    "geth --identity \"jslNode\" \\\n",
    "--unlock 0 \\\n",
    "--rpc --rpcaddr \"117.16.44.45\" --rpcport \"8445\" --rpccorsdomain \"*\" \\\n",
    "--datadir $_dir \\\n",
    "--port \"30301\" \\\n",
    "--nodiscover \\\n",
    "--ipcapi \"admin,db,eth,debug,miner,net,shh,txpool,personal,web3\" \\\n",
    "--rpcapi \"db,eth,net,web3\" \\\n",
    "--networkid 11 \\\n",
    "console 2>>$_log"
   ]
  },
  {
   "cell_type": "markdown",
   "metadata": {},
   "source": [
    "* shell에서 실행 (노트북에서는 console이 실행되지 않는다)\n",
    "```python\n",
    "$ sh _geth2.sh\n",
    "```"
   ]
  },
  {
   "cell_type": "markdown",
   "metadata": {},
   "source": [
    "* rpc vs ipc\n",
    "    * Inter-Process Communication **동일한 컴퓨터**의 프로세스 간의 호출\n",
    "    * Remote Procedure Call 컴퓨터와 컴퓨터 간에 네트워크를 통한 프로세스 호출. json rpc를 사용한다. 일반적으로 TCP, HTTP 프로토콜을 사용\n",
    "    * ws: socket으로 통신\n",
    "\n",
    "구분 | 설명\n",
    "-----|-----\n",
    "ipc | 프로세스A가 IPC pipe ($HOME/.ethereum/geth.ipc)를 생성, 프로세스B는 이 파이프를 통해 통신\n",
    "rpc | 원격에서 RPC endpoint (localhost:8545) 통신\n",
    "\n",
    "```python\n",
    "$ geth ipc --ipcapi \"admin,db,eth,debug,miner,net,shh,txpool,personal,web3\" --ipcpath \"$HOME/.ethereum_experiment/geth.ipc\"\n",
    "$ geth attach ipc:$HOME/.ethereum/geth.ipc\n",
    "```\n",
    "\n",
    "\n",
    "선택 | 설명 | 기본 값\n",
    "-----------|-----------|-----------\n",
    "--networkid | 네트워크 인식번호, 임의의 양수. genesis block의 chainID와 동일하게 한다. | 0=Olympic, 1=Frontier, 2=Morden\n",
    "--identity \"jslNode\" | 자신의 private chain 명칭 |\n",
    "--syncmode <mode> | 동기화 방식을 지정 fast, full, or light |\n",
    "--nodiscover | 다른 노드가 자동으로 찾지 못하게 함. |\n",
    "--maxpeers | 다른 노드의 최대 접속 수. 0으로 하면 다른 노드는 사용 허용하지 않음. |\n",
    "--unlock | 계정의 잔고를 사용할 수 있게 잠금 해제 | \n",
    "--rpc | HTTP를 통해 rpc 서버로 사용 | \n",
    "--rpcapi | http-rpc에서 사용할 수 있는 api (예: db,eth,net,web3) | web3\n",
    "--rpcaddr | is the interface you want to listen on for conenctions. 0.0.0.0 is all interfaces |\n",
    "--rpcport | is the port it will listen on | 8080 (geth)\n",
    "--rpccorsdomain | rpc 요청을 할 수 있는 도메인 (URL) \"*\"는 어떤 도메인이나 허용 |\n",
    "--datadir | private chain 데이터를 저장하는 디렉토리 |\n",
    "--port \"30303\" | \"network listening port\" |\n",
    "--verbosity | how much of the inner working of Geth are shown | 0=silent, 1=error, 2=warn, 3=info, 4=core, 5=debug, 6=debug detail\n",
    "--mine | 마이닝 |\n",
    "\n",
    "\n",
    "* 계정 비밀번호를 해제 (unlokc)해 놓았을 경우, --rpccorsdomain=\"*\" 이라고 하지 않도록 한다.\n",
    "* localhost는 --rpcaddr=\"localhost\""
   ]
  },
  {
   "cell_type": "markdown",
   "metadata": {},
   "source": [
    "## 문제 e-3: Geth 멀티노드 네트워크 구성하기 (ip를 넣어서)\n",
    "<a id='e-3'></a>\n",
    "\n",
    "친구 또는 주변의 컴퓨터를 Peer로 추가하여 멀티노드를 구성해 보자\n",
    "    * 복수의 노드로 구성하고 서로 peer로 추가 한다.\n",
    "        * 노드 1: 117.16.44.45\n",
    "        * 노드 2: 117.16.44.46\n",
    "    * 멀티노드는 서로 동기화 한다 (block이 동기화되기 때문에 number가 동일하다)."
   ]
  },
  {
   "cell_type": "markdown",
   "metadata": {
    "slideshow": {
     "slide_type": "slide"
    }
   },
   "source": [
    "### Peer 찾기\n",
    "* p2p에서 peer를 찾는 방법 'discovery protocol'이 필요하다.\n",
    "    * Port/IP scanning - 모든 IP, port에 broadcasting하고 응답하는지 찾아볼 수 있지만, 낭비가 많아서 사용하지 않는다.\n",
    "    * 처음 시작할 경우 peer가 적힌 목록을 가지고 연결할 수 있다. 처음 시작할 때 (컴퓨터에서의 부팅) 연결되는 노드라 bootnode라고 한다.\n",
    "* ethereum에서 peer를 찾는 방법\n",
    "    * 'gossip protocol'을 사용해 찾는다.\n",
    "    * 네트워크를 시작하는 시점에 'geth --bootnodes'에 나열해서 연결할 수 있다.\n",
    "    * 특정 peer를 static node로 연결할 수 있다.\n",
    "\n",
    "* 멀티노드를 구성할 때 주의:\n",
    "정적IP를 가지고 있고, 서로 Peer로 추가될 수 있다.\n",
    "\n",
    "    * network id가 동일해야 한다\n",
    "    * genesis가 동일해야 한다.\n",
    "    * ?port# 다르게\n",
    "    * ?rpcport# 다르게\n",
    "    * ?디렉토리 다르게 (같은 기계라면)\n",
    "\n",
    "* 문제\n",
    "    * 운영체제 시간이 맞지 않는 경우, sudo ntpdate -s time.nist.gov\n",
    "    * firewall이 막는 경우"
   ]
  },
  {
   "cell_type": "markdown",
   "metadata": {
    "collapsed": true,
    "slideshow": {
     "slide_type": "subslide"
    }
   },
   "source": [
    "* cluster를 구성한다.\n",
    "    * 첫번째 노드는 아래 shell을 실행한다. 명령어 bootnodes를 가지고 있다.\n",
    "        ```\n",
    "        sh _geth.sh\n",
    "        ```\n",
    "    \n",
    "    * 두번째 노드는 아래 shell을 실행한다.\n",
    "        ```\n",
    "        sh _geth_hq.sh\n",
    "        ```\n",
    "        \n",
    "        * 그리고 enode값을 구한다.\n",
    "        enode is a url that's used by each node within an ethereum network to perform peer-peer handshake.\n",
    "```python\n",
    "> admin.nodeInfo.enode\n",
    "\"enode://e0a396df0b5f68d20...5e8f0c@[::]:30446\"\n",
    "```\n",
    "    \n",
    "    * 두번째 노드를 첫번째에 추가한다. ([::]를 ip주소로 바꾸고)\n",
    "```python\n",
    "admin.addPeer(\"enode://719b29cc599ee5964...011155676a3cb@117.16.44.46:30446?discport=0\")\n",
    "```\n",
    "    \n",
    "    * configure permannent static nodes\n",
    "        * bootnodes를 정해 놓으면, static-nodes.json 없어도 됨.\n",
    "```python\n",
    "<datadir>/static-nodes.json\n",
    "```\n",
    "    \n",
    "    peer가 없는 경우 문제를 어떻게 푸는지 설명\n",
    "```python\n",
    "http://ethereum.stackexchange.com/questions/2258/connection-between-peers-never-happen-on-custom-blockchain?noredirect=1&lq=1\n",
    "https://forum.ethereum.org/discussion/2188/cannot-connect-to-any-peers\n",
    "```\n",
    "    \n",
    "* explore private blockchain\n",
    "```python\n",
    "http://ethereum.stackexchange.com/questions/2919/block-explorer-running-on-private-network\n",
    "```"
   ]
  },
  {
   "cell_type": "markdown",
   "metadata": {
    "collapsed": true
   },
   "source": [
    "* 첫번째 노드를 실행한다."
   ]
  },
  {
   "cell_type": "code",
   "execution_count": null,
   "metadata": {
    "collapsed": false
   },
   "outputs": [],
   "source": [
    "# %load _geth.sh\n",
    "_dir=$HOME/Downloads/eth/1\n",
    "_log=$HOME/Downloads/eth/1.log\n",
    "geth --identity \"jslNode\" \\\n",
    "--unlock 0 \\\n",
    "--verbosity 3 \\\n",
    "--rpc --rpcaddr \"117.16.44.45\" --rpcport \"8445\" --rpccorsdomain \"*\" \\\n",
    "--datadir $_dir \\\n",
    "--port \"30445\" \\\n",
    "--bootnodes \"enode://e0a396df0b5f68d209c7fa357f55aeb777ee2b9b318ba2966d891733e1e2fdc30632991326dca1592bcbebebd081d761fd1ed4a4429342175c7aab9e415e8f0c@117.16.44.46:30446\" \\\n",
    "--maxpeers 3 \\\n",
    "--rpcapi \"admin,db,eth,debug,miner,net,shh,txpool,personal,web3\" \\\n",
    "--ipcdisable \\\n",
    "--networkid 44 \\\n",
    "console 2>>$_log\n"
   ]
  },
  {
   "cell_type": "markdown",
   "metadata": {
    "collapsed": true
   },
   "source": [
    "* static-nodes.json을 3개 노드의 enode값을 구해서 작성한다.\n",
    "```python\n",
    "117.16.44.45 smu\n",
    "117.16.44.46 hq\n",
    "117.16.44.48 pi\n",
    "```"
   ]
  },
  {
   "cell_type": "code",
   "execution_count": 2,
   "metadata": {
    "collapsed": false
   },
   "outputs": [
    {
     "name": "stdout",
     "output_type": "stream",
     "text": [
      "Overwriting /home/jsl/Downloads/eth/1/static-nodes.json\n"
     ]
    }
   ],
   "source": [
    "%%writefile /home/jsl/Downloads/eth/1/static-nodes.json\n",
    "[\n",
    "    \"enode://e0a396df0b5f68d209c7fa357f55aeb777ee2b9b318ba2966d891733e1e2fdc30632991326dca1592bcbebebd081d761fd1ed4a4429342175c7aab9e415e8f0c@117.16.44.46:30446\",\n",
    "    \"enode://00c177125f949f51290b5e480dfcf1c24f280b0a403277c5156b4572cee7bae7d550a4e3de28d09aa28bda4778b379e558326564300e7a9d3809a1c15ef97566@117.16.44.45:30445\",\n",
    "    \"enode://b099f3ec722508d5ce94eee5b2e299f4d003908a1f1d9a3e48ca23b29977adc64a6413177c97b77ed250671038e9ab0042c24e35f578166e782431ffdb1e4513@117.16.44.48:30448\"\n",
    "]\n"
   ]
  },
  {
   "cell_type": "markdown",
   "metadata": {
    "collapsed": true
   },
   "source": [
    "* 두번째 노드를 실행한다. (_geth_hq.sh)"
   ]
  },
  {
   "cell_type": "code",
   "execution_count": null,
   "metadata": {
    "collapsed": true
   },
   "outputs": [],
   "source": [
    "# %load _geth_hq.sh\n",
    "_dir=$HOME/Downloads/eth/1\n",
    "_log=$HOME/Downloads/eth/1.log\n",
    "geth --identity \"jslNode\" \\\n",
    "--unlock 0 \\\n",
    "--verbosity 3 \\\n",
    "--rpc --rpcaddr \"117.16.44.46\" --rpcport \"8446\" --rpccorsdomain \"*\" \\\n",
    "--datadir $_dir \\\n",
    "--port \"30446\" \\\n",
    "--bootnodes \"enode://00c177125f949f51290b5e480dfcf1c24f280b0a403277c5156b4572cee7bae7d550a4e3de28d09aa28bda4778b379e558326564300e7a9d3809a1c15ef97566@117.16.44.45:30445\" \\\n",
    "--maxpeers 3 \\\n",
    "--rpcapi \"admin,db,eth,debug,miner,net,shh,txpool,personal,web3\" \\\n",
    "--ipcdisable \\\n",
    "--networkid 44 \\\n",
    "console 2>>$_log\n"
   ]
  },
  {
   "cell_type": "markdown",
   "metadata": {},
   "source": [
    "* 멀티노드를 성공적으로 구성하면, peer접속 정보를 볼 수 있다."
   ]
  },
  {
   "cell_type": "code",
   "execution_count": 4,
   "metadata": {
    "collapsed": false,
    "scrolled": true
   },
   "outputs": [
    {
     "name": "stdout",
     "output_type": "stream",
     "text": [
      "[{\r\n",
      "    caps: [\u001b[32m\"eth/62\"\u001b[0m, \u001b[32m\"eth/63\"\u001b[0m],\r\n",
      "    id: \u001b[32m\"e0a396df0b5f68d209c7fa357f55aeb777ee2b9b318ba2966d891733e1e2fdc30632991326dca1592bcbebebd081d761fd1ed4a4429342175c7aab9e415e8f0c\"\u001b[0m,\r\n",
      "    name: \u001b[32m\"Geth/jslNode/v1.5.0-unstable/linux/go1.6.2\"\u001b[0m,\r\n",
      "    network: {\r\n",
      "      localAddress: \u001b[32m\"117.16.44.45:45034\"\u001b[0m,\r\n",
      "      remoteAddress: \u001b[32m\"117.16.44.46:30446\"\u001b[0m\r\n",
      "    },\r\n",
      "    protocols: {\r\n",
      "      eth: {\r\n",
      "        difficulty: \u001b[31m218833674473\u001b[0m,\r\n",
      "        head: \u001b[32m\"0x08f0271d893ee08ea387773c10e672a26ad9b8a2dd19dcbd503b859b4f0bab0e\"\u001b[0m,\r\n",
      "        version: \u001b[31m63\u001b[0m\r\n",
      "      }\r\n",
      "    }\r\n",
      "}]\r\n"
     ]
    }
   ],
   "source": [
    "!geth --exec \"admin.peers;\" attach http://117.16.44.45:8445"
   ]
  },
  {
   "cell_type": "code",
   "execution_count": 6,
   "metadata": {
    "collapsed": false,
    "scrolled": true
   },
   "outputs": [
    {
     "name": "stdout",
     "output_type": "stream",
     "text": [
      "[]\r\n"
     ]
    }
   ],
   "source": [
    "!geth --exec \"admin.peers;\" attach http://117.16.44.45:8445"
   ]
  },
  {
   "cell_type": "code",
   "execution_count": null,
   "metadata": {
    "collapsed": true
   },
   "outputs": [],
   "source": []
  }
 ],
 "metadata": {
  "celltoolbar": "Slideshow",
  "kernelspec": {
   "display_name": "Python 2",
   "language": "python",
   "name": "python2"
  },
  "language_info": {
   "codemirror_mode": {
    "name": "ipython",
    "version": 2
   },
   "file_extension": ".py",
   "mimetype": "text/x-python",
   "name": "python",
   "nbconvert_exporter": "python",
   "pygments_lexer": "ipython2",
   "version": "2.7.12"
  }
 },
 "nbformat": 4,
 "nbformat_minor": 0
}
