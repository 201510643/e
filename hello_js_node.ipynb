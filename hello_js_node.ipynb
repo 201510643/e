{
 "cells": [
  {
   "cell_type": "markdown",
   "metadata": {},
   "source": [
    "# javascript\n",
    "\n",
    "Last update 20190204MON0600\n",
    "\n",
    "\n",
    "설치\n",
    "1.1 ipython display\n",
    "1.2 magic\n",
    "1.3 Javascript\n",
    "1.3.1 dom\n",
    "1.4 JQuery\n",
    "1.5 external library\n",
    "1.6 Node\n",
    "1.6.1 requireJS\n",
    "1.6.2 How node_modules work\n",
    "1.6.3 node\n",
    "1.6.4 run locally installed modules\n",
    "1.6.5 pixiedust"
   ]
  },
  {
   "cell_type": "markdown",
   "metadata": {
    "collapsed": true
   },
   "source": [
    "## 설치\n",
    "\n",
    "* npm install (아래 명령어는 nodejs도 같이 설치)\n",
    "```python\n",
    "sudo apt install nodejs\n",
    "sudo apt install npm\n",
    "```\n",
    "\n",
    "* todo2.txt에서 정리\n",
    "* program_installer 정리\n",
    "```python\n",
    "https://www.sitepoint.com/beginners-guide-node-package-manager/\n",
    "```\n",
    "\n",
    "* global vs local\n",
    "    * local로 사용하는 것을 원칙\n",
    "    * global은 npm install -g web3\n",
    "    * local 설치는 프로젝트 디렉토리로 가서 npm install web3\n",
    "\n",
    "* ipython에서 사용\n",
    "ijavascript"
   ]
  },
  {
   "cell_type": "markdown",
   "metadata": {},
   "source": [
    "## 1.1 ipython display\n",
    "\n",
    "https://jakevdp.github.io/blog/2013/06/01/ipython-notebook-javascript-python-communication/"
   ]
  },
  {
   "cell_type": "code",
   "execution_count": 1,
   "metadata": {
    "collapsed": false
   },
   "outputs": [
    {
     "data": {
      "text/html": [
       "<h1>hello</h1>"
      ],
      "text/plain": [
       "<IPython.core.display.HTML object>"
      ]
     },
     "execution_count": 1,
     "metadata": {},
     "output_type": "execute_result"
    }
   ],
   "source": [
    "from IPython.core.display import HTML\n",
    "HTML('<h1>hello</h1>')"
   ]
  },
  {
   "cell_type": "code",
   "execution_count": 2,
   "metadata": {
    "collapsed": false
   },
   "outputs": [
    {
     "data": {
      "text/html": [
       "\n",
       "<div style=\"background-color:gainsboro; border:solid black; width:300px; padding:20px;\">\n",
       "Variable Name: <input type=\"text\" id=\"var_name\" value=\"foo\"><br>\n",
       "Variable Value: <input type=\"text\" id=\"var_value\" value=\"bar\"><br>\n",
       "<button onclick=\"set_value()\">Set Value</button>\n",
       "</div>\n",
       "\n",
       "<script type=\"text/Javascript\">\n",
       "    function set_value(){\n",
       "        var var_name = document.getElementById('var_name').value;\n",
       "        var var_value = document.getElementById('var_value').value;\n",
       "        var command = var_name + \" = '\" + var_value + \"'\";\n",
       "        console.log(\"Executing Command: \" + command);\n",
       "        \n",
       "        var kernel = IPython.notebook.kernel;\n",
       "        kernel.execute(command);\n",
       "    }\n",
       "</script>\n"
      ],
      "text/plain": [
       "<IPython.core.display.HTML object>"
      ]
     },
     "execution_count": 2,
     "metadata": {},
     "output_type": "execute_result"
    }
   ],
   "source": [
    "from IPython.display import HTML\n",
    "\n",
    "input_form = \"\"\"\n",
    "<div style=\"background-color:gainsboro; border:solid black; width:300px; padding:20px;\">\n",
    "Variable Name: <input type=\"text\" id=\"var_name\" value=\"foo\"><br>\n",
    "Variable Value: <input type=\"text\" id=\"var_value\" value=\"bar\"><br>\n",
    "<button onclick=\"set_value()\">Set Value</button>\n",
    "</div>\n",
    "\"\"\"\n",
    "\n",
    "javascript = \"\"\"\n",
    "<script type=\"text/Javascript\">\n",
    "    function set_value(){\n",
    "        var var_name = document.getElementById('var_name').value;\n",
    "        var var_value = document.getElementById('var_value').value;\n",
    "        var command = var_name + \" = '\" + var_value + \"'\";\n",
    "        console.log(\"Executing Command: \" + command);\n",
    "        \n",
    "        var kernel = IPython.notebook.kernel;\n",
    "        kernel.execute(command);\n",
    "    }\n",
    "</script>\n",
    "\"\"\"\n",
    "\n",
    "HTML(input_form + javascript)"
   ]
  },
  {
   "cell_type": "code",
   "execution_count": 3,
   "metadata": {
    "collapsed": false
   },
   "outputs": [
    {
     "name": "stdout",
     "output_type": "stream",
     "text": [
      "bar\n"
     ]
    }
   ],
   "source": [
    "print foo"
   ]
  },
  {
   "cell_type": "markdown",
   "metadata": {},
   "source": [
    "## 1.2 magic\n",
    "\n",
    "* %%javascript 셀명령어를 사용할 수 있다.\n",
    "* 결과는 브라우저의 javascript console에서 볼 수 있다.\n",
    "    * Chrome은 Tools > JavaScript console Shift+Ctrl+J"
   ]
  },
  {
   "cell_type": "code",
   "execution_count": 3,
   "metadata": {
    "collapsed": false
   },
   "outputs": [
    {
     "data": {
      "application/javascript": [
       "console.log(\"Hello World!\")"
      ],
      "text/plain": [
       "<IPython.core.display.Javascript object>"
      ]
     },
     "metadata": {},
     "output_type": "display_data"
    }
   ],
   "source": [
    "%%javascript\n",
    "console.log(\"Hello World!\")"
   ]
  },
  {
   "cell_type": "markdown",
   "metadata": {},
   "source": [
    "* window object의 속성에 값을 넣을 수 있다. 콘솔에 변수를 확인할 수 있다.\n",
    "    ```\n",
    "    \\> myvar\n",
    "    \\<- 12\n",
    "    ```"
   ]
  },
  {
   "cell_type": "code",
   "execution_count": 4,
   "metadata": {
    "collapsed": false
   },
   "outputs": [
    {
     "data": {
      "application/javascript": [
       "window.myvar = 12;"
      ],
      "text/plain": [
       "<IPython.core.display.Javascript object>"
      ]
     },
     "metadata": {},
     "output_type": "display_data"
    }
   ],
   "source": [
    "%%javascript\n",
    "window.myvar = 12;"
   ]
  },
  {
   "cell_type": "code",
   "execution_count": 5,
   "metadata": {
    "collapsed": false
   },
   "outputs": [
    {
     "data": {
      "application/javascript": [
       "console.log(myvar)"
      ],
      "text/plain": [
       "<IPython.core.display.Javascript object>"
      ]
     },
     "metadata": {},
     "output_type": "display_data"
    }
   ],
   "source": [
    "%%javascript\n",
    "console.log(myvar)"
   ]
  },
  {
   "cell_type": "code",
   "execution_count": 6,
   "metadata": {
    "collapsed": false
   },
   "outputs": [
    {
     "data": {
      "application/javascript": [
       "element.append(myvar)"
      ],
      "text/plain": [
       "<IPython.core.display.Javascript object>"
      ]
     },
     "metadata": {},
     "output_type": "display_data"
    }
   ],
   "source": [
    "%%javascript\n",
    "element.append(myvar)"
   ]
  },
  {
   "cell_type": "markdown",
   "metadata": {},
   "source": [
    "### element설명\n",
    "\n",
    "http://blog.nacyot.com/articles/2015-05-21-d3js-in-jupyter/\n",
    "\n",
    "주피터 노트북의 %%javascript 매직 안에서는 element라는 특별한 요소가 정의되어있다.\n",
    "이 element에는 현재 주피터 노트북 셀의 결과 요소가 지정되어 있고, 이를 조작해서 현재 셀의 출력 결과에 대한 조작을 할 수 있다."
   ]
  },
  {
   "cell_type": "code",
   "execution_count": 1,
   "metadata": {
    "collapsed": false
   },
   "outputs": [
    {
     "data": {
      "application/javascript": [
       "\n",
       "window.get_element = function(el){\n",
       "    if(el){ $(el).html('') }\n",
       "    return (el !== undefined) ? el[0] : $('script').last().parent()[0];\n",
       "};\n",
       "\n",
       "element = undefined;"
      ],
      "text/plain": [
       "<IPython.core.display.Javascript object>"
      ]
     },
     "metadata": {},
     "output_type": "display_data"
    }
   ],
   "source": [
    "%%javascript\n",
    "window.get_element = function(el){\n",
    "    if(el){ $(el).html('') }\n",
    "    return (el !== undefined) ? el[0] : $('script').last().parent()[0];\n",
    "};\n",
    "\n",
    "element = undefined;"
   ]
  },
  {
   "cell_type": "code",
   "execution_count": 2,
   "metadata": {
    "collapsed": false
   },
   "outputs": [
    {
     "data": {
      "application/javascript": [
       "\n",
       "var target = get_element(element)\n",
       "$(target).append('<div class=\"hello-world\">Hello, js magic!</div>')"
      ],
      "text/plain": [
       "<IPython.core.display.Javascript object>"
      ]
     },
     "metadata": {},
     "output_type": "display_data"
    }
   ],
   "source": [
    "%%javascript\n",
    "\n",
    "var target = get_element(element)\n",
    "$(target).append('<div class=\"hello-world\">Hello, js magic!</div>')"
   ]
  },
  {
   "cell_type": "markdown",
   "metadata": {},
   "source": [
    "## 1.3 Javascript\n",
    "\n",
    "w3schools의 연습"
   ]
  },
  {
   "cell_type": "markdown",
   "metadata": {},
   "source": [
    "### 1.3.1 dom\n",
    "\n",
    "* html element 찾기\n",
    "```\n",
    "document.getElementByid\n",
    "document.getElementsByTagName\n",
    "document.getElementsByClassName\n",
    "```\n",
    "* html element 변경하기\n",
    "```\n",
    "element.innerHTML =  new html content\tChange the inner HTML of an element\n",
    "element.attribute = new value\tChange the attribute value of an HTML element\n",
    "```\n",
    "* css selectors\n",
    "    * The querySelectorAll() method does not work in Internet Explorer 8 and earlier versions."
   ]
  },
  {
   "cell_type": "markdown",
   "metadata": {
    "collapsed": true
   },
   "source": [
    "* getElementById('demo').innerHTML은 id명 'demo'를 찾아서 변경"
   ]
  },
  {
   "cell_type": "code",
   "execution_count": 6,
   "metadata": {
    "collapsed": false
   },
   "outputs": [
    {
     "data": {
      "text/html": [
       "<!DOCTYPE html>\n",
       "<html>\n",
       "<head>\n",
       "<script>\n",
       "function myFunction() {\n",
       "    document.getElementById(\"demo\").innerHTML = \"Paragraph changed.\";\n",
       "}\n",
       "</script>\n",
       "</head>\n",
       "<body>\n",
       "<h1>My Web Page</h1>\n",
       "<p id=\"demo\">A Paragraph</p>\n",
       "<button type=\"button\" onclick=\"myFunction()\">Try it</button>\n",
       "</body>\n",
       "</html>"
      ],
      "text/plain": [
       "<IPython.core.display.HTML object>"
      ]
     },
     "metadata": {},
     "output_type": "display_data"
    }
   ],
   "source": [
    "%%HTML\n",
    "<!DOCTYPE html>\n",
    "<html>\n",
    "<head>\n",
    "<script>\n",
    "function myFunction() {\n",
    "    document.getElementById(\"demo\").innerHTML = \"Paragraph changed.\";\n",
    "}\n",
    "</script>\n",
    "</head>\n",
    "<body>\n",
    "<h1>My Web Page</h1>\n",
    "<p id=\"demo\">A Paragraph</p>\n",
    "<button type=\"button\" onclick=\"myFunction()\">Try it</button>\n",
    "</body>\n",
    "</html>"
   ]
  },
  {
   "cell_type": "code",
   "execution_count": 15,
   "metadata": {
    "collapsed": false
   },
   "outputs": [
    {
     "data": {
      "text/html": [
       "<!DOCTYPE html>\n",
       "<html>\n",
       "\n",
       "<body>\n",
       "\n",
       "<p id=\"demo\">Hello</p>\n",
       "<script>\n",
       "var demo=document.getElementById(\"demo\");\n",
       "alert(demo.attribute);\n",
       "</script>\n",
       "\n",
       "\n",
       "</body>\n",
       "</html>"
      ],
      "text/plain": [
       "<IPython.core.display.HTML object>"
      ]
     },
     "metadata": {},
     "output_type": "display_data"
    }
   ],
   "source": [
    "%%HTML\n",
    "<!DOCTYPE html>\n",
    "<html>\n",
    "\n",
    "<body>\n",
    "\n",
    "<p id=\"demo\">Hello</p>\n",
    "<script>\n",
    "var demo=document.getElementById(\"demo\");\n",
    "console.log(demo);\n",
    "</script>\n",
    "\n",
    "\n",
    "</body>\n",
    "</html>"
   ]
  },
  {
   "cell_type": "code",
   "execution_count": 16,
   "metadata": {
    "collapsed": false
   },
   "outputs": [
    {
     "data": {
      "text/html": [
       "<!DOCTYPE html>\n",
       "<html>\n",
       "<body>\n",
       "\n",
       "<p>Hello World!</p>\n",
       "\n",
       "<p class=\"intro\">The DOM is very useful.</p>\n",
       "<p class=\"intro\">This example demonstrates the <b>querySelectorAll</b> method.</p>\n",
       "\n",
       "<p id=\"demo\"></p>\n",
       "\n",
       "<script>\n",
       "var x = document.querySelectorAll(\"p.intro\");\n",
       "document.getElementById(\"demo\").innerHTML =\n",
       "'The first paragraph (index 0) with class=\"intro\": ' + x[0].innerHTML;\n",
       "</script>\n",
       "\n",
       "</body>\n",
       "</html>"
      ],
      "text/plain": [
       "<IPython.core.display.HTML object>"
      ]
     },
     "metadata": {},
     "output_type": "display_data"
    }
   ],
   "source": [
    "%%HTML\n",
    "<!DOCTYPE html>\n",
    "<html>\n",
    "<body>\n",
    "\n",
    "<p>Hello World!</p>\n",
    "\n",
    "<p class=\"intro\">The DOM is very useful.</p>\n",
    "<p class=\"intro\">This example demonstrates the <b>querySelectorAll</b> method.</p>\n",
    "\n",
    "<p id=\"demo\"></p>\n",
    "\n",
    "<script>\n",
    "var x = document.querySelectorAll(\"p.intro\");\n",
    "document.getElementById(\"demo\").innerHTML =\n",
    "'The first paragraph (index 0) with class=\"intro\": ' + x[0].innerHTML;\n",
    "</script>\n",
    "\n",
    "</body>\n",
    "</html>\n"
   ]
  },
  {
   "cell_type": "markdown",
   "metadata": {},
   "source": [
    "* 요거는 되네.."
   ]
  },
  {
   "cell_type": "code",
   "execution_count": 21,
   "metadata": {
    "collapsed": false
   },
   "outputs": [
    {
     "data": {
      "text/html": [
       "<html>\n",
       "<body>\n",
       "\n",
       "<h1>My First JavaScript</h1>\n",
       "\n",
       "<button type=\"button\"\n",
       "onclick=\"document.getElementById('demo').innerHTML = Date()\">\n",
       "Click me to display Date and Time.</button>\n",
       "\n",
       "<p id=\"demo\"></p>\n",
       "\n",
       "</body>\n",
       "</html>\n"
      ],
      "text/plain": [
       "<IPython.core.display.HTML object>"
      ]
     },
     "metadata": {},
     "output_type": "display_data"
    }
   ],
   "source": [
    "%%HTML\n",
    "<html>\n",
    "<body>\n",
    "\n",
    "<h1>My First JavaScript</h1>\n",
    "\n",
    "<button type=\"button\"\n",
    "onclick=\"document.getElementById('demo').innerHTML = Date()\">\n",
    "Click me to display Date and Time.</button>\n",
    "\n",
    "<p id=\"demo\"></p>\n",
    "\n",
    "</body>\n",
    "</html>\n",
    "\n"
   ]
  },
  {
   "cell_type": "code",
   "execution_count": 18,
   "metadata": {
    "collapsed": false
   },
   "outputs": [
    {
     "data": {
      "text/html": [
       "<html>\n",
       "<body>\n",
       "\n",
       "<p id=\"p2\">Hello World!</p>\n",
       "\n",
       "<script>\n",
       "document.getElementById(\"p2\").style.color = \"blue\";\n",
       "</script>\n",
       "\n",
       "<p>The paragraph above was changed by a script.</p>\n",
       "\n",
       "</body>\n",
       "</html>"
      ],
      "text/plain": [
       "<IPython.core.display.HTML object>"
      ]
     },
     "metadata": {},
     "output_type": "display_data"
    }
   ],
   "source": [
    "%%HTML\n",
    "<html>\n",
    "<body>\n",
    "\n",
    "<p id=\"p2\">Hello World!</p>\n",
    "\n",
    "<script>\n",
    "document.getElementById(\"p2\").style.color = \"blue\";\n",
    "</script>\n",
    "\n",
    "<p>The paragraph above was changed by a script.</p>\n",
    "\n",
    "</body>\n",
    "</html>"
   ]
  },
  {
   "cell_type": "code",
   "execution_count": 20,
   "metadata": {
    "collapsed": false
   },
   "outputs": [
    {
     "data": {
      "text/html": [
       "<!DOCTYPE html>\n",
       "<html>\n",
       "<body>\n",
       "\n",
       "<h1 id=\"id1\">My Heading 1</h1>\n",
       "\n",
       "<button type=\"button\" \n",
       "onclick=\"document.getElementById('id1').style.color = 'red'\">\n",
       "Click Me!</button>\n",
       "\n",
       "</body>\n",
       "</html>"
      ],
      "text/plain": [
       "<IPython.core.display.HTML object>"
      ]
     },
     "metadata": {},
     "output_type": "display_data"
    }
   ],
   "source": [
    "%%HTML\n",
    "<!DOCTYPE html>\n",
    "<html>\n",
    "<body>\n",
    "\n",
    "<h1 id=\"id1\">My Heading 1</h1>\n",
    "\n",
    "<button type=\"button\" \n",
    "onclick=\"document.getElementById('id1').style.color = 'red'\">\n",
    "Click Me!</button>\n",
    "\n",
    "</body>\n",
    "</html>"
   ]
  },
  {
   "cell_type": "markdown",
   "metadata": {},
   "source": [
    "## 1.4 JQuery"
   ]
  },
  {
   "cell_type": "code",
   "execution_count": 3,
   "metadata": {
    "collapsed": false,
    "scrolled": false
   },
   "outputs": [
    {
     "data": {
      "text/html": [
       "<!DOCTYPE html>\n",
       "<html>\n",
       "<head>\n",
       "<script src=\"https://ajax.googleapis.com/ajax/libs/jquery/1.12.4/jquery.min.js\"></script>\n",
       "<script>\n",
       "$(document).ready(function(){\n",
       "    $(\"button\").click(function(){\n",
       "        $(\"p\").hide();\n",
       "    });\n",
       "});\n",
       "</script>\n",
       "</head>\n",
       "<body>\n",
       "\n",
       "<h2>This is a heading</h2>\n",
       "\n",
       "<p>This is a paragraph.</p>\n",
       "<p>This is another paragraph.</p>\n",
       "\n",
       "<button>Click me to hide paragraphs</button>\n",
       "\n",
       "</body>\n",
       "</html>"
      ],
      "text/plain": [
       "<IPython.core.display.HTML object>"
      ]
     },
     "metadata": {},
     "output_type": "display_data"
    }
   ],
   "source": [
    "%%HTML\n",
    "<!DOCTYPE html>\n",
    "<html>\n",
    "<head>\n",
    "<script src=\"https://ajax.googleapis.com/ajax/libs/jquery/1.12.4/jquery.min.js\"></script>\n",
    "<script>\n",
    "$(document).ready(function(){\n",
    "    $(\"button\").click(function(){\n",
    "        $(\"p\").hide();\n",
    "    });\n",
    "});\n",
    "</script>\n",
    "</head>\n",
    "<body>\n",
    "\n",
    "<h2>This is a heading</h2>\n",
    "\n",
    "<p>This is a paragraph.</p>\n",
    "<p>This is another paragraph.</p>\n",
    "\n",
    "<button>Click me to hide paragraphs</button>\n",
    "\n",
    "</body>\n",
    "</html>\n"
   ]
  },
  {
   "cell_type": "code",
   "execution_count": null,
   "metadata": {
    "collapsed": true
   },
   "outputs": [],
   "source": []
  },
  {
   "cell_type": "markdown",
   "metadata": {},
   "source": [
    "## 1.5 external library\n",
    "\n",
    "* script 태그가 src 속성이 있으면 내용은 무시\n",
    "```\n",
    "<script src=\"myscripts/my.js\" type=\"text/javascript\">Hello</script>\n",
    "```\n",
    "* 따라서 외부 스크립트를 포함시키려면 2개의 스크립트 태그를 사용\n",
    "```\n",
    "<script src=\"myscripts/my.js\" type=\"text/javascript\"></script>\n",
    "<script>\n",
    "    document.write(sayHello());\n",
    "</script>\n",
    "```\n",
    "\n",
    "* 상대경로 vs 절대경로\n",
    "    * 로컬 파일은 보안정책으로 인해 읽을 수가 없다 Cross-Origin Restriction Policy\n",
    "        * 따라서 자신이 로컬javascript에서 로컬파일을 읽으려 해도 허용되지 않는다 (절대 경로)\n",
    "        * jsonp를 사용하면 예외\n",
    "        * 따라서 javascript가 실행되는 곳으로부터 상대경로로 읽어야 한다.\n",
    "\n",
    "* 절대경로 \n",
    "    * http://domain/ or just / (replace domain with your actual domain, such as www.example.com).\n",
    "* 상대경로\n",
    "    * 현재 HTML page로부터의 경로"
   ]
  },
  {
   "cell_type": "code",
   "execution_count": 18,
   "metadata": {
    "collapsed": false
   },
   "outputs": [
    {
     "data": {
      "text/plain": [
       "u'/home/jsl/Code/git'"
      ]
     },
     "execution_count": 18,
     "metadata": {},
     "output_type": "execute_result"
    }
   ],
   "source": [
    "!ls my"
   ]
  },
  {
   "cell_type": "code",
   "execution_count": 1,
   "metadata": {
    "collapsed": false
   },
   "outputs": [
    {
     "name": "stdout",
     "output_type": "stream",
     "text": [
      "Writing _scripts/my.js\n"
     ]
    }
   ],
   "source": [
    "%%writefile _scripts/my.js\n",
    "function sayHello(){\n",
    "   return \"myscripts/hello\";\n",
    "}"
   ]
  },
  {
   "cell_type": "code",
   "execution_count": 2,
   "metadata": {
    "collapsed": false
   },
   "outputs": [
    {
     "data": {
      "text/html": [
       "\n",
       "<script src=\"myscripts/my.js\" type=\"text/javascript\"></script>\n",
       "<script>\n",
       "    document.write(sayHello());\n",
       "</script>\n"
      ],
      "text/plain": [
       "<IPython.core.display.HTML object>"
      ]
     },
     "execution_count": 2,
     "metadata": {},
     "output_type": "execute_result"
    }
   ],
   "source": [
    "from IPython.display import HTML\n",
    "\n",
    "javascript = \"\"\"\n",
    "<script src=\"_scripts/my.js\" type=\"text/javascript\"></script>\n",
    "<script>\n",
    "    document.write(sayHello());\n",
    "</script>\n",
    "\"\"\"\n",
    "\n",
    "HTML(javascript)"
   ]
  },
  {
   "cell_type": "code",
   "execution_count": 5,
   "metadata": {
    "collapsed": false
   },
   "outputs": [
    {
     "data": {
      "text/html": [
       "<html>\n",
       "   <body>\n",
       "   \n",
       "      <script language=\"javascript\" type=\"text/javascript\" >\n",
       "         <!--\n",
       "            document.write(\"Hello World!\")\n",
       "         //-->\n",
       "      </script>\n",
       "      \n",
       "   </body>\n",
       "</html>"
      ],
      "text/plain": [
       "<IPython.core.display.HTML object>"
      ]
     },
     "metadata": {},
     "output_type": "display_data"
    }
   ],
   "source": [
    "%%html\n",
    "<html>\n",
    "   <body>   \n",
    "      <script language=\"javascript\" type=\"text/javascript\" >\n",
    "         <!--\n",
    "            document.write(\"Hello World!\")\n",
    "         //-->\n",
    "      </script>\n",
    "      \n",
    "   </body>\n",
    "</html>"
   ]
  },
  {
   "cell_type": "markdown",
   "metadata": {
    "collapsed": true
   },
   "source": [
    "* loading external script from console\n",
    "* 아래 하고서 console.log(document.head);하면 추가된 것을 확인할 수 있슴."
   ]
  },
  {
   "cell_type": "code",
   "execution_count": 6,
   "metadata": {
    "collapsed": false
   },
   "outputs": [
    {
     "data": {
      "application/javascript": [
       "var script = document.createElement('script');\n",
       "script.type = 'text/javascript';\n",
       "script.src = 'bb/jsl/bitcoin/_lib/node_modules/bignumber.js/bignumber.js';\n",
       "document.head.appendChild(script);\n",
       "console.log(script);"
      ],
      "text/plain": [
       "<IPython.core.display.Javascript object>"
      ]
     },
     "metadata": {},
     "output_type": "display_data"
    }
   ],
   "source": [
    "%%javascript\n",
    "var script = document.createElement('script');\n",
    "script.type = 'text/javascript';\n",
    "script.src = 'bb/jsl/bitcoin/_lib/node_modules/bignumber.js/bignumber.js';\n",
    "document.head.appendChild(script);\n",
    "console.log(script);"
   ]
  },
  {
   "cell_type": "markdown",
   "metadata": {
    "collapsed": true
   },
   "source": [
    "* console -> how to get cwd"
   ]
  },
  {
   "cell_type": "code",
   "execution_count": 1,
   "metadata": {
    "collapsed": false
   },
   "outputs": [
    {
     "data": {
      "application/javascript": [
       "console.dir(document.location);"
      ],
      "text/plain": [
       "<IPython.core.display.Javascript object>"
      ]
     },
     "metadata": {},
     "output_type": "display_data"
    }
   ],
   "source": [
    "%%javascript\n",
    "console.dir(document.location);"
   ]
  },
  {
   "cell_type": "markdown",
   "metadata": {
    "collapsed": true
   },
   "source": [
    "* D3"
   ]
  },
  {
   "cell_type": "code",
   "execution_count": null,
   "metadata": {
    "collapsed": true
   },
   "outputs": [],
   "source": [
    "%%javascript\n",
    "require.config({\n",
    "    paths: {\n",
    "        d3: '//cdnjs.cloudflare.com/ajax/libs/d3/3.4.8/d3.min'\n",
    "    }\n",
    "});"
   ]
  },
  {
   "cell_type": "code",
   "execution_count": null,
   "metadata": {
    "collapsed": true
   },
   "outputs": [],
   "source": [
    "%%javascript\n",
    "element.append(\"<div id='chart1'></div>\");"
   ]
  },
  {
   "cell_type": "markdown",
   "metadata": {},
   "source": [
    "## 1.6 Node\n",
    "\n",
    "### 1.6.1 requireJS\n",
    "\n",
    "* add to hello_javascript.ipynb requireJS\n",
    "    https://www.sitepoint.com/understanding-requirejs-for-effective-javascript-module-loading/\n",
    "\n",
    "Java or Python use the import function to load other libraries, while PHP and Ruby use require. Node implements the CommonJS interface for modules. In Node you can also load other depencies using the require keyword.\n",
    "\n",
    "* 오류\n",
    "    * main.js에서 다음과 같이 호출하면 오류\n",
    "    ```\n",
    "    var result = purchaseProduct();\n",
    "    ```\n",
    "    * purchase.js가 product.js, credits.js에 의존적\n",
    "    * purchase.js가 실행되기 전에 이들 파일이 먼저 loading되어야 함.\n"
   ]
  },
  {
   "cell_type": "markdown",
   "metadata": {},
   "source": [
    "### 1.6.2 How node_modules Work\n",
    "\n",
    "\n",
    "* 상대경로 (./ 또는 ../를 사용하는 경우) If you require('./foo.js') from /beep/boop/bar.js,\n",
    "    * node will look for ./foo.js in /beep/boop/foo.js.\n",
    "    * Paths that start with a ./ or ../ are always local to the file that calls require().\n",
    "\n",
    "* 아닌 경우 (그냥 경로를 사용하는 경우) If however you require a non-relative name such as require('xyz') from /beep/boop/foo.js,\n",
    "    * node_modules디렉토리를 현재, 위, 위위까지 찾음. node searches these paths in order, stopping at the first match and raising an error if nothing is found:\n",
    "    ```\n",
    "    /beep/boop/node_modules/xyz\n",
    "    /beep/node_modules/xyz\n",
    "    /node_modules/xyz\n",
    "    ```\n",
    "\n",
    "    * 찾은 디렉토리의 package.json을 읽어서 main을 찾음. For each xyz directory that exists, node will first look for a xyz/package.json to see if a \"main\" field exists. The \"main\" field defines which file should take charge if you require() the directory path.\n",
    "\n",
    "    * For example, if /beep/node_modules/xyz is the first match and /beep/node_modules/xyz/package.json has:\n",
    "```\n",
    "{\n",
    "  \"name\": \"xyz\",\n",
    "  \"version\": \"1.2.3\",\n",
    "  \"main\": \"lib/abc.js\"\n",
    "}\n",
    "```\n",
    "then the exports from /beep/node_modules/xyz/lib/abc.js will be returned by require('xyz').\n",
    "\n",
    "    * package.json을 못 찾으면, index.js. If there is no package.json or no \"main\" field, index.js is assumed:\n",
    "```\n",
    "/beep/node_modules/xyz/index.js\n",
    "```"
   ]
  },
  {
   "cell_type": "code",
   "execution_count": 10,
   "metadata": {
    "collapsed": false
   },
   "outputs": [
    {
     "name": "stdout",
     "output_type": "stream",
     "text": [
      "Writing purchase.js\n"
     ]
    }
   ],
   "source": [
    "%%writefile purchase.js\n",
    "function purchaseProduct(){\n",
    "  console.log(\"Function : purchaseProduct\");\n",
    "\n",
    "  var credits = getCredits();\n",
    "  if(credits > 0){\n",
    "    reserveProduct();\n",
    "    return true;\n",
    "  }\n",
    "  return false;\n",
    "}"
   ]
  },
  {
   "cell_type": "code",
   "execution_count": 11,
   "metadata": {
    "collapsed": false
   },
   "outputs": [
    {
     "name": "stdout",
     "output_type": "stream",
     "text": [
      "Writing products.js\n"
     ]
    }
   ],
   "source": [
    "%%writefile products.js\n",
    "function reserveProduct(){\n",
    "  console.log(\"Function : reserveProduct\");\n",
    "\n",
    "  return true;\n",
    "}"
   ]
  },
  {
   "cell_type": "code",
   "execution_count": 12,
   "metadata": {
    "collapsed": false
   },
   "outputs": [
    {
     "name": "stdout",
     "output_type": "stream",
     "text": [
      "Writing credits.js\n"
     ]
    }
   ],
   "source": [
    "%%writefile credits.js\n",
    "function getCredits(){\n",
    "  console.log(\"Function : getCredits\");\n",
    "\n",
    "  var credits = \"100\";\n",
    "  return credits;\n",
    "}"
   ]
  },
  {
   "cell_type": "markdown",
   "metadata": {
    "collapsed": true
   },
   "source": [
    "* 해결\n",
    "    * 디렉토리 구성\n",
    "    * html 파일에 require.js를 포함\n",
    "        * data-main속성 - 초기화 스크립트를 명시 -> scripts/main.js\n",
    "\n",
    "```python\n",
    "<script data-main=\"scripts/main\" src=\"scripts/require.js\"></script>\n",
    "```\n",
    "\n",
    "    * scripts/main.js를 만듦.\n",
    "        * 의존 관계를 넣어줌.\n",
    "        * requireJS는 js파일이라고 가정하므로, 파일확장자 'js'생략\n",
    "\n",
    "```python\n",
    "require([\"purchase\"],function(purchase){\n",
    "    purchase.purchaseProduct();\n",
    "});\n",
    "```\n",
    "        "
   ]
  },
  {
   "cell_type": "code",
   "execution_count": 13,
   "metadata": {
    "collapsed": false
   },
   "outputs": [
    {
     "name": "stdout",
     "output_type": "stream",
     "text": [
      "Writing main.js\n"
     ]
    }
   ],
   "source": [
    "%%writefile main.js\n",
    "require([\"purchase\"],function(purchase){\n",
    "  purchase.purchaseProduct();\n",
    "})"
   ]
  },
  {
   "cell_type": "code",
   "execution_count": 21,
   "metadata": {
    "collapsed": false
   },
   "outputs": [
    {
     "data": {
      "application/javascript": [
       "require([\"purchase\"],function(purchase){\n",
       "  purchase.purchaseProduct();\n",
       "})\n",
       "alert(purchase.purchaseProduct());"
      ],
      "text/plain": [
       "<IPython.core.display.Javascript object>"
      ]
     },
     "metadata": {},
     "output_type": "display_data"
    }
   ],
   "source": [
    "%%javascript\n",
    "require([\"purchase\"],function(purchase){\n",
    "  purchase.purchaseProduct();\n",
    "})\n",
    "alert(purchase.purchaseProduct());"
   ]
  },
  {
   "cell_type": "code",
   "execution_count": 18,
   "metadata": {
    "collapsed": false
   },
   "outputs": [
    {
     "data": {
      "text/html": [
       "<script src=\"main.js\"></script>\n",
       "<script>\n",
       "var m=require(main);\n",
       "var result = m.purchaseProduct();\n",
       "alert(result);\n",
       "</script>"
      ],
      "text/plain": [
       "<IPython.core.display.HTML object>"
      ]
     },
     "metadata": {},
     "output_type": "display_data"
    }
   ],
   "source": [
    "%%html\n",
    "<script src=\"main.js\"></script>\n",
    "<script>\n",
    "var m=require(main);\n",
    "var result = m.purchaseProduct();\n",
    "alert(result);\n",
    "</script>"
   ]
  },
  {
   "cell_type": "code",
   "execution_count": 23,
   "metadata": {
    "collapsed": false
   },
   "outputs": [
    {
     "data": {
      "text/html": [
       "<script src=\"products.js\"></script>\n",
       "<script src=\"purchase.js\"></script>\n",
       "<script src=\"main.js\"></script>\n",
       "<script src=\"credits.js\"></script>\n",
       "<script>\n",
       "var result = purchaseProduct();\n",
       "alert(result);\n",
       "</script>"
      ],
      "text/plain": [
       "<IPython.core.display.HTML object>"
      ]
     },
     "metadata": {},
     "output_type": "display_data"
    }
   ],
   "source": [
    "%%html\n",
    "<script src=\"products.js\"></script>\n",
    "<script src=\"purchase.js\"></script>\n",
    "<script src=\"main.js\"></script>\n",
    "<script src=\"credits.js\"></script>\n",
    "<script>\n",
    "var result = purchaseProduct();\n",
    "alert(result);\n",
    "</script>"
   ]
  },
  {
   "cell_type": "code",
   "execution_count": 4,
   "metadata": {
    "collapsed": false
   },
   "outputs": [
    {
     "data": {
      "application/javascript": [
       "element.append(\"<div id='chart1'>hello</div>\");"
      ],
      "text/plain": [
       "<IPython.core.display.Javascript object>"
      ]
     },
     "metadata": {},
     "output_type": "display_data"
    }
   ],
   "source": [
    "%%javascript\n",
    "element.append(\"<div id='chart1'>hello</div>\");"
   ]
  },
  {
   "cell_type": "code",
   "execution_count": 10,
   "metadata": {
    "collapsed": false
   },
   "outputs": [
    {
     "data": {
      "application/javascript": [
       "\n",
       "$(element).append('<div class=\"hello-world\">hello</div>');"
      ],
      "text/plain": [
       "<IPython.core.display.Javascript object>"
      ]
     },
     "metadata": {},
     "output_type": "display_data"
    }
   ],
   "source": [
    "%%javascript\n",
    "\n",
    "$(element).append('<div class=\"hello-world\">hello</div>');"
   ]
  },
  {
   "cell_type": "code",
   "execution_count": 5,
   "metadata": {
    "collapsed": false
   },
   "outputs": [
    {
     "data": {
      "text/html": [
       "<div class='hello-world'>\n",
       "hello\n",
       "</div>"
      ],
      "text/plain": [
       "<IPython.core.display.HTML object>"
      ]
     },
     "metadata": {},
     "output_type": "display_data"
    }
   ],
   "source": [
    "%%html\n",
    "<div class='hello-world'>\n",
    "hello\n",
    "</div>"
   ]
  },
  {
   "cell_type": "code",
   "execution_count": 2,
   "metadata": {
    "collapsed": false
   },
   "outputs": [
    {
     "data": {
      "application/javascript": [
       "require.config({\n",
       "    paths: {\n",
       "        d3: '//cdnjs.cloudflare.com/ajax/libs/bignumber.js/2.4.0/bignumber.min.js'\n",
       "    }\n",
       "});"
      ],
      "text/plain": [
       "<IPython.core.display.Javascript object>"
      ]
     },
     "metadata": {},
     "output_type": "display_data"
    }
   ],
   "source": [
    "%%javascript\n",
    "require.config({\n",
    "    paths: {\n",
    "        d3: '//cdnjs.cloudflare.com/ajax/libs/bignumber.js/2.4.0/bignumber.min.js'\n",
    "    }\n",
    "});"
   ]
  },
  {
   "cell_type": "code",
   "execution_count": 20,
   "metadata": {
    "collapsed": false,
    "scrolled": true
   },
   "outputs": [
    {
     "data": {
      "application/javascript": [
       "require(['bignumber'], function(){\n",
       "    var big=new BigNumber(123);\n",
       "    console.log(\"hj\");\n",
       "});"
      ],
      "text/plain": [
       "<IPython.core.display.Javascript object>"
      ]
     },
     "metadata": {},
     "output_type": "display_data"
    }
   ],
   "source": [
    "%%javascript\n",
    "require(['bignumber'], function(){\n",
    "    var big=new BigNumber(123);\n",
    "    console.log(\"hj\");\n",
    "});\n"
   ]
  },
  {
   "cell_type": "code",
   "execution_count": null,
   "metadata": {
    "collapsed": true
   },
   "outputs": [],
   "source": [
    "from w3schools\n",
    "A closure is a function having access to the parent scope, even after the parent function has closed.\n",
    "```\n",
    "var add = (function () {\n",
    "    var counter = 0;\n",
    "    return function () {return counter += 1;}\n",
    "})();\n",
    "\n",
    "add();\n",
    "add();\n",
    "add();\n",
    "```"
   ]
  },
  {
   "cell_type": "markdown",
   "metadata": {},
   "source": [
    "### 1.6.3 node"
   ]
  },
  {
   "cell_type": "code",
   "execution_count": 1,
   "metadata": {
    "collapsed": false,
    "scrolled": true
   },
   "outputs": [
    {
     "name": "stdout",
     "output_type": "stream",
     "text": [
      "Writing hello.js\n"
     ]
    }
   ],
   "source": [
    "%%writefile hello.js\n",
    "console.log('hello');"
   ]
  },
  {
   "cell_type": "code",
   "execution_count": 2,
   "metadata": {
    "collapsed": false,
    "scrolled": true
   },
   "outputs": [
    {
     "name": "stdout",
     "output_type": "stream",
     "text": [
      "hello\r\n"
     ]
    }
   ],
   "source": [
    "!node hello.js"
   ]
  },
  {
   "cell_type": "markdown",
   "metadata": {},
   "source": [
    "* to load and save \n",
    "```\n",
    "> .save myfilename\n",
    "> .load myfilename\n",
    "```\n",
    "\n",
    "* to check data type\n",
    "\n",
    "```\n",
    "typeof()\n",
    "```"
   ]
  },
  {
   "cell_type": "markdown",
   "metadata": {},
   "source": [
    "### 1.6.4  run locally installed modules\n",
    "\n",
    "명령어  | 설명 | 예\n",
    "-------|-------|-------\n",
    "npm root | 라이브러리가 설치되는 디렉토리 | /Code/git/bb/jsl/bitcoin/node_modules/\n",
    "npm bin | 실행명령어가 설치된 디렉토리 | 로컬 node_modules/.bin/ (전역은 /usr/local/bin)\n",
    "\n"
   ]
  },
  {
   "cell_type": "markdown",
   "metadata": {},
   "source": [
    "* npm install <package>\n",
    "    * local mode\n",
    "    node_modules folder your parent working directory\n",
    "    * global mode\n",
    "    {prefix}/lib/node_modules/ prefix는 /usr/ /usr/local/\n",
    "\n",
    "* npm init\n",
    "    * npm에서 패키지 관리는 package.json이라는 파일로 관리\n",
    "    * package.json을 npm 명령어를 통해 생성.\n",
    "    * 자신의 module을 만들기 위해 프로젝트를 처음 시작 할 경우, node_modules를 현재 디렉토리에 설치\n",
    "\n",
    "* npm link\n",
    "    * means to symlink a package folder"
   ]
  },
  {
   "cell_type": "code",
   "execution_count": 1,
   "metadata": {
    "collapsed": false
   },
   "outputs": [
    {
     "name": "stdout",
     "output_type": "stream",
     "text": [
      "/usr/lib/node_modules\r\n"
     ]
    }
   ],
   "source": [
    "!npm root -g"
   ]
  },
  {
   "cell_type": "markdown",
   "metadata": {
    "collapsed": true
   },
   "source": [
    "### 1.6.5 pixiedust jupyter notebook에서 nodejs를 사용\n",
    "\n",
    "jupyter notebook에서 nodejs를 사용하려면 pixiedust_node\n",
    "Install both pixiedust and pixiedust_node using pip, the Python package manager.\n",
    "\n",
    "In a Jupyter Notebook cell:\n",
    "IBM에서 제공하는 pixiedust를 사용하자.\n",
    "```python\n",
    "pip install pixiedust\n",
    "pip install pixiedust_node\n",
    "```\n",
    "![alt text](figures/1_jupyterToUseNode.png \"to use nodejs inside jupyter notebook\")"
   ]
  }
 ],
 "metadata": {
  "kernelspec": {
   "display_name": "Python 2",
   "language": "python",
   "name": "python2"
  },
  "language_info": {
   "codemirror_mode": {
    "name": "ipython",
    "version": 2
   },
   "file_extension": ".py",
   "mimetype": "text/x-python",
   "name": "python",
   "nbconvert_exporter": "python",
   "pygments_lexer": "ipython2",
   "version": "2.7.12"
  }
 },
 "nbformat": 4,
 "nbformat_minor": 0
}
