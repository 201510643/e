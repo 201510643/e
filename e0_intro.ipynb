{
 "cells": [
  {
   "cell_type": "markdown",
   "metadata": {
    "slideshow": {
     "slide_type": "slide"
    }
   },
   "source": [
    "# 소개\n",
    "\n",
    "Last Updated 20190306WEB0630 20180717TUE1700 201801231MON1800 20160207\n",
    "\n",
    "## 오픈API\n",
    "오픈API는 공개된 기능을 말하는 것으로, 보통 개발자들이 자신의 소프트웨어를 개발할 때 구글, 트위터, 페이스북 등에서 외부에 공개한 API를 사용한다.\n",
    "API를 사용할 때는 사용자 인증을 받아야 하며, 사전에 정의된 방식으로 사용하게 된다."
   ]
  },
  {
   "cell_type": "markdown",
   "metadata": {
    "slideshow": {
     "slide_type": "subslide"
    }
   },
   "source": [
    "## 강사 소개\n",
    "\n",
    "프로젝트: 효성, 삼성생명, 삼성캐피탈, 금융감독원, 대법원 호적정보시스템, 대우자동차판매, LIG화재, 금융감독원 등 IT 컨설팅, 금융프로젝트 개발\n",
    "\n",
    "강의과목: 소프트웨어공학, 소프트웨어설계 등 개발 관련 교과목을 강의, 최근에는 자바, 파이썬, 빅데이터."
   ]
  },
  {
   "cell_type": "markdown",
   "metadata": {
    "slideshow": {
     "slide_type": "subslide"
    }
   },
   "source": [
    "## 무엇을 배우는가?\n",
    "\n",
    "비트코인에서의 블록체인은 데이터저장소로 활용되었다. 최근 블록체인은 프로그램을 할 수 있는 플랫폼으로 발전하고 있다.\n",
    "\n",
    "블록체인은 **기록을 저장하는 분산원장**이다. 어떤 기록이 발생하더라도 그 내용을 저장한다. 그게 뭐 특별하지 하고 고개를 갸우뚱할 수 있다. 특별한 점을 부각\n",
    "한다면 기존 방식과 현격하게 다르다는 것이다.\n",
    "\n",
    "우선은 화폐를 내장하고 있다는 점이 특별나다. 이런 화폐에 대해 사람들은 투자의 대상으로 여기고 큰 관심을 보이고 있다. 2018년에는 가격이 급등락하면서, 과연 내재가치가 있는지에 대한 논의가 뜨겁기도 했다.\n",
    "\n",
    "또한 분산형이라는 점이 기존 방식과의 큰 차별성이다. **중앙처리장치가 없어서 누구나** 그 기록을 처리하고, 저장한다는 점이다. 그 뿐 아니라 그 처리과정이 투명하고 매우 민주적이어서 **합의**를 통해 거래가 인정된다는 점이다. 한 번 저장이 되면 그 내용을 **위변조할 수가 없다**는 점도 해킹에 불안한 사람들에게는 매우 매력적으로 들리게 된다.\n",
    "\n",
    "이 강의에서는 블록체인이 무엇인지, 어떻게 기록이 인증, 합의, 저장되는지 배우게 된다. 이론 보다는 프로그래밍으로 실제 해본다는 것이 중요하다. 스마트계약을 만들고, 분산앱 DApp을 개발한다."
   ]
  },
  {
   "cell_type": "markdown",
   "metadata": {
    "slideshow": {
     "slide_type": "subslide"
    }
   },
   "source": [
    "## 주별 내용\n",
    "\n",
    "주차 | 목표 | 내용\n",
    "-----|-----|-----\n",
    "주 1 | 소개 | 강의 소개\n",
    "주 2 | 블록체인 소개 | 분산, 합의, 암호화페, 블록체인, 블록체인기반 화폐\n",
    "주 3 | 설치 geth | 스마트컨트랙, 설치, 이더리움 노드 설정, geth 네트워크\n",
    "주 4 | 거래 계정 wallet 마이닝 | 계정, 지갑, 암호화, 트랜잭션, 마이닝, gas\n",
    "주 5 | Hello Project 1 | Hello 프로젝트, Solidity, Remix, solc, web3.js 개발\n",
    "주 6 | Hello project 2 | 단순 저장, 계산 프로젝트, Solidity, Remix, solc, web3.js 개발\n",
    "주 7 | Solidity | 변수, 데이터 타잎\n",
    "주 8 | 중간시험 | 간단한 프로젝트 개발, 배포, 사용할 수 있는지\n",
    "주 9 | Solidity | 함수 fallback, modifier\n",
    "주 10 | Solidity | 컨트랙 결합, import, library\n",
    "주 11 | Solidity | 객체지향 컨트랙\n",
    "주 12 | Python | web3.py 사용\n",
    "주 13 | DApp | Web으로 구현\n",
    "주 14 | 발표 | 학생들의 프로젝트 발표\n",
    "주 15 | 기말시험 | dApp 개발\n",
    "추가 | 추가 주제 | JSON-RPC, compiler-runner, ipfs\n"
   ]
  },
  {
   "cell_type": "markdown",
   "metadata": {
    "slideshow": {
     "slide_type": "subslide"
    }
   },
   "source": [
    "## 강의에 필요한 것\n",
    "\n",
    "강의는 프로그래밍을 실제 하기 때문에 컴퓨터가 당연히 필요하다. 윈도우, 맥 OSX, 리눅스 어느 운영체제도 무관하지만 리눅스 운영체제를 사용하는 것이 좋다.\n",
    "그러나 dApp은 웹프로그래밍과 같이 서버프로그램을 Java, PHP 등으로 개발하고, 클라이언트를 HTML, Javascript 등 복수의 언어를 사용하는 것과 유사하게 여러 언어를 혼합해야 완성이 될 수 있다.\n",
    "\n",
    "## 누가 필요한가\n",
    "강의는 암호화폐 투자에 관련한 과목이 아니라 프로그래밍 과목이다.\n",
    "이 과목은:\n",
    "- 프로그래밍을 경험해 보았지만, 프로젝트 또는 실제 뭔가 분산앱 DApp을 개발하려고 하거나\n",
    "- 특히 창의적인 공유경제에 대해 뭔가 개발하려는 경우\n"
   ]
  },
  {
   "cell_type": "markdown",
   "metadata": {
    "slideshow": {
     "slide_type": "subslide"
    }
   },
   "source": [
    "## 사전 평가\n",
    "\n",
    "* 간단한 프로그램 작성해보기"
   ]
  },
  {
   "cell_type": "markdown",
   "metadata": {
    "slideshow": {
     "slide_type": "subslide"
    }
   },
   "source": [
    "## 표기\n",
    "\n",
    "http://docopt.org/\n",
    "\n",
    "* 굵은 글씨는 중요한 단어, \n",
    "* 코드는 ```int x```\n",
    "* ```( )```: 반드시 적어주어야 하는 경우\n",
    "* ```[ ]```: 선택적으로 적어주는 경우, 적어줄 때 ```[]``` 괄호는 제거한다.\n",
    "* 수직 심볼 ```|```: 선택적으로 적어주는 경우 ```OR```를 의미한다. \n",
    "* ```{ }```:  선택적으로 적어주지만 하나는 반드시 적어주어야 하는 경우, 적어줄 때 ```{}``` 괄호는 제거한다.\n",
    "* italics - Anything shown in italics is variable information for which the user provides a specific value.\n",
    "\n",
    "```python\n",
    "function (*int x*) {internal|external} [pure|constant|view|payable] [returns (return types)] varName;\n",
    "```"
   ]
  },
  {
   "cell_type": "code",
   "execution_count": null,
   "metadata": {
    "collapsed": true
   },
   "outputs": [],
   "source": []
  }
 ],
 "metadata": {
  "celltoolbar": "Slideshow",
  "kernelspec": {
   "display_name": "Python 2",
   "language": "python",
   "name": "python2"
  },
  "language_info": {
   "codemirror_mode": {
    "name": "ipython",
    "version": 2
   },
   "file_extension": ".py",
   "mimetype": "text/x-python",
   "name": "python",
   "nbconvert_exporter": "python",
   "pygments_lexer": "ipython2",
   "version": "2.7.12"
  }
 },
 "nbformat": 4,
 "nbformat_minor": 0
}
