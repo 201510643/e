{
 "cells": [
  {
   "cell_type": "markdown",
   "metadata": {
    "slideshow": {
     "slide_type": "slide"
    }
   },
   "source": [
    "#  10. Solidity 함수\n",
    "\n",
    "* Last Updated 20190612WEB1200\n",
    "\n",
    "## 10.1 학습내용\n",
    "\n",
    "## 10.1.1 목표\n",
    " \n",
    "* solidity 함수"
   ]
  },
  {
   "cell_type": "markdown",
   "metadata": {
    "slideshow": {
     "slide_type": "slide"
    }
   },
   "source": [
    "## 10.1.2 목차\n",
    "\n",
    "* 10.1 생성자\n",
    "* 10.2 함수 타잎\n",
    "    * 10.2.1 view, pure 함수\n",
    "    * 10.2.2 Payable 함수\n",
    "    * 10.2.3 가시성\n",
    "    * 실습 FunctionTest\n",
    "* 10.3 modifier\n",
    "    * 실습 UnderscoreTest\n",
    "    * 실습 BankV3\n",
    "* 10.4 Events and logs\n",
    "    * 실습 testEvent\n",
    "    * 실습 e_testDeposit\n",
    "    * 실습 e_testDeposit\n",
    "    * 문제 Multiply7Event.sol\n",
    "    * 실습 e_testEvent 복수의 이벤트 사용하기\n",
    "* 10.5 fallback\n",
    "    * 실습 FallbackTest\n",
    "    * 실습 Payable Fallback - Multiply7.sol"
   ]
  },
  {
   "cell_type": "markdown",
   "metadata": {
    "slideshow": {
     "slide_type": "slide"
    }
   },
   "source": [
    "## 10. 함수\n",
    "\n",
    "함수는 **제공되거나 built-in** 또는 **사용자가 정의 user-defined** 로 구분할 수 있다.\n",
    "\n",
    "아래의 문법에 맞추어, 앞에 ```function```이라고 적어서 함수 선언을 한다.\n",
    "함수의 입력과 출력을 선언한다.\n",
    "가시성과 수행하는 기능의 성격에 따라 ```pure```, ```view```, ```payable```의 수식어를 붙여준다.\n",
    "\n",
    "```python\n",
    "function (param types) {internal|external} [pure|view|payable] [returns (return types)] varName;\n",
    "```"
   ]
  },
  {
   "cell_type": "markdown",
   "metadata": {
    "slideshow": {
     "slide_type": "slide"
    }
   },
   "source": [
    "## 10.1 생성자\n",
    "\n",
    "생성자 ```constructor()```는 컨트랙의 객체를 생성한다.\n",
    "컨트랙의 소유자를 설정하거나, 처음에 설정이 필요한 변수를 초기화할 경우 사용한다.\n",
    "생성자는 객체를 생성할 때 (마이닝해서 배포되는 시점) 한 번만 실행이 된다.\n",
    "* 생성자는 구현하지 않아도 되며, 그럴 경우 기본 생성자가 주어진다. 기본 생성자에는 물론 arg가 없다.\n",
    "* 생성자는 1개만 허용된다. overloading은 할 수 없다는 의미이다.\n",
    "* 보통 외부에서 사용할 수 있도록 **public**으로 선언한다.\n",
    "또는 **internal**로 선언하여 다른 컨트랙이 생성할 수 있게 한다.\n",
    "\n",
    "```java\n",
    "contructor() public {}\n",
    "```\n"
   ]
  },
  {
   "cell_type": "markdown",
   "metadata": {
    "slideshow": {
     "slide_type": "slide"
    }
   },
   "source": [
    "## 10.2 함수 타잎\n",
    "\n",
    "### 10.2.1 view, pure 함수\n",
    "\n",
    "보통 함수는 입출력에 따라 구분할 수 있다. 입력이 있는지, 반환 값이 무엇인지에 따라 구분할 수 있다.\n",
    "블록체인 프로그램에서는 함수가 블록체인을 변경하는지에 따라 구분하는 것이 중요하다.\n",
    "\n",
    "구분 | 설명\n",
    "----------|----------\n",
    "블록체인을 변경하는 view, pure가 아닌 함수 | return을 지원하지 않음. event를 사용해서 값을 돌려받음\n",
    "view, pure 함수 | return 가능.\n",
    "\n",
    "상태를 변경하지 않는 함수는 ```view```, ```pure```로 표기해야 하고, 함수를 local에서 실행할 수 있게 한다.\n",
    "\n",
    "* ```view```는 이전 ```constant```를 대체한 명령어로서, 읽기 전용 read onlhy 함수이다.\n",
    "\n",
    "* ```pure```: ```view```보다 더 제약이 많은 함수에 붙이는 수식어이다. 함수의 지역변수만을 사용하며, 함수 밖의 그 어떤 변수를 수정하지 못한다. 예를 들면: \n",
    "    * 상태변수 state variables를 읽거나\n",
    "    * 잔고 ```this.balance``` 또는 ```<address>.balance```를 읽는 경우\n",
    "    * 전역변수 ```block```, ```tx```, ```msg``` (```msg.sig```, ```msg.data``` 제외)를 읽는 경우\n",
    "    * ```pure```로 표기되지 않은 함수를 호출하는 경우\n",
    "    * ```opcodes```로 작성된 인라인 코드"
   ]
  },
  {
   "cell_type": "markdown",
   "metadata": {
    "slideshow": {
     "slide_type": "subslide"
    }
   },
   "source": [
    "* 블록체인을 수정하는 경우, transaction이 발생하므로 Transaction hash가 반환된다.\n",
    "    - 상태변수에 저장\n",
    "    - 이벤트 발생 (이벤트가 발생하면 로그에 기록이 남겨진다.)\n",
    "    - 다른 컨트랙 생성\n",
    "    - ```selfdestruct``` 컨트랙을 삭제하는 경우\n",
    "    - ```call``` 함수로 송금하는 경우\n",
    "    - ```view``` 또는 ```pure``` 아닌 함수를 호출하는 경우\n",
    "    - low-level calls을 호출하는 경우\n",
    "    - ```opcodes```로 작성된 인라인 코드\n"
   ]
  },
  {
   "cell_type": "markdown",
   "metadata": {
    "slideshow": {
     "slide_type": "subslide"
    }
   },
   "source": [
    "### 10.2.2 Payable 함수\n",
    "\n",
    "* ```payable```: 함수를 호출할 경우 Ether를 지급해야 실행이 되는 함수.\n",
    "web3 호출하는 측에서 { value: 0 }에 ether를 입력하면 ```msg.value```로 전달된다.\n",
    "컨트랙에서 호출하는 경우는 value()"
   ]
  },
  {
   "cell_type": "markdown",
   "metadata": {
    "slideshow": {
     "slide_type": "slide"
    }
   },
   "source": [
    "### 10.2.3 가시성\n",
    "\n",
    "* ```public``` 외부에서 누구나 사용할 수 있다.\n",
    "* ```internal``` 기본default 가시성으로, 내부 또는 상속관계에서만 사용할 수 있다.\n",
    "* ```private``` 자신만 사용할 수 있다.\n",
    "* ```external```은 ```internal```의 반대로서 외부에서만 사용할 수 있다."
   ]
  },
  {
   "cell_type": "markdown",
   "metadata": {
    "slideshow": {
     "slide_type": "subslide"
    }
   },
   "source": [
    "컨트랙 내에 함수를 배치할 때는 다음과 같은 순서로 적어준다 (참조 Solidity Style Guide)\n",
    "- 생성자\n",
    "- fallback 함수\n",
    "- external 함수\n",
    "- public 함수\n",
    "- internal 함수\n",
    "- private 함수"
   ]
  },
  {
   "cell_type": "markdown",
   "metadata": {
    "slideshow": {
     "slide_type": "subslide"
    }
   },
   "source": [
    "줄 | 설명\n",
    "-----|-----\n",
    "5 ~ 7 ```increatementX()``` | state var를 수정하므로 view, pure가 아님.\n",
    "9 ~ 11 ```doubleX()``` | 내부함수 ```internal X2()```를 호출함. state var 수정하므로 view, pure 아님.\n",
    "13 ~ 15 ```getX_()``` | view, pure가 아니므로```returns(int)```해도 반환 값을 받지 못함. 해시값을 돌려줌.\n",
    "19 ~ 21 ```getBalance()``` | 잔고 조회는 view도 가능함.\n",
    "23 ~ 24 ```deposit()``` | ```payable```로 선언해야 입금이 가능. 함수가 비워있어도 msg.value를 입금.\n",
    "26 ~ 28 ```X2()``` | ```internal```로 선언되어서 내부에서만 사용가능."
   ]
  },
  {
   "cell_type": "code",
   "execution_count": 1,
   "metadata": {
    "collapsed": false,
    "slideshow": {
     "slide_type": "-"
    }
   },
   "outputs": [
    {
     "name": "stdout",
     "output_type": "stream",
     "text": [
      "Writing src/FuctionTest.sol\n"
     ]
    }
   ],
   "source": [
    "%%writefile src/FuctionTest.sol\n",
    "pragma solidity ^0.5.0;\n",
    "contract FunctionTest {\n",
    "    int x=1;\n",
    "    // updating state var x\n",
    "    function incrementX() public {\n",
    "        x+=1;\n",
    "    }\n",
    "    // updating state var x\n",
    "    function doubleX() public {\n",
    "        X2();\n",
    "    }\n",
    "    // actually NONE returned\n",
    "    function getX_() public returns(int) {\n",
    "        return x;        \n",
    "    }\n",
    "    function getX() view public returns(int) {\n",
    "        return x;\n",
    "    }\n",
    "    function getBalance() view public returns(uint) {\n",
    "        return(address(this).balance);\n",
    "    }\n",
    "    // 'payable' means that msg.value can be deposited\n",
    "    function deposit() public payable {\n",
    "    }\n",
    "    // can not be used in public\n",
    "    function X2() internal {\n",
    "        x*=2;\n",
    "    }\n",
    "}"
   ]
  },
  {
   "cell_type": "markdown",
   "metadata": {
    "slideshow": {
     "slide_type": "subslide"
    }
   },
   "source": [
    "## 10.3 modifier\n",
    "\n",
    "함수의 **제약조건**으로 사용된다. 즉 어떤 함수가 실행되려면 만족해야 하는 조건을 modifier로 정할 수 있다. Owner인 경우, 일정한 기간에 포함되는 경우, 짝수에 해당하는 경우 등 조건을 걸어 그런 경우에만 함수를 실행할 수 있게 한다. 그 효과로 **if문을 제거하는 효과**가 있게 된다.\n",
    "\n",
    "또한 modifier는 보통 함수가 그런 것처럼 **상속**이 가능하다. 또한 override할 수도 있다.\n"
   ]
  },
  {
   "cell_type": "markdown",
   "metadata": {
    "slideshow": {
     "slide_type": "subslide"
    }
   },
   "source": [
    "modifier를 사용할 때 underscore ```_``` 명령어를 통해 어디에 호출 소스코드가 포함되는지 분명히 할 수 있다.\n",
    "아래 코드에서 포함되는 시점을 전 또는 후로 정할 수 있다."
   ]
  },
  {
   "cell_type": "code",
   "execution_count": 2,
   "metadata": {
    "collapsed": false,
    "slideshow": {
     "slide_type": "subslide"
    }
   },
   "outputs": [
    {
     "name": "stdout",
     "output_type": "stream",
     "text": [
      "Writing src/UnderscoreTest.sol\n"
     ]
    }
   ],
   "source": [
    "%%writefile src/UnderscoreTest.sol\n",
    "pragma solidity ^0.5.0;\n",
    "contract UnderscoreTest {\n",
    "    string season=\"\";\n",
    "    modifier setSummerAfter() {\n",
    "        season=\"summer\";\n",
    "        _;\n",
    "    }\n",
    "    function setWinter() public setSummerAfter {\n",
    "        season=\"winter\";\n",
    "    }\n",
    "    modifier setSummerBefore() {\n",
    "        _;\n",
    "        season=\"summer\";\n",
    "    }\n",
    "    function setSpring() public setSummerBefore {\n",
    "        season=\"spring\";\n",
    "    }\n",
    "    function getSeason() view public returns(string memory){\n",
    "        return season;\n",
    "    }\n",
    "}"
   ]
  },
  {
   "cell_type": "markdown",
   "metadata": {
    "slideshow": {
     "slide_type": "slide"
    }
   },
   "source": [
    "## 실습: 은행\n",
    "\n",
    "앞의 은행 코드에 fallabck, modifier를 넣어서 수정한다."
   ]
  },
  {
   "cell_type": "markdown",
   "metadata": {
    "slideshow": {
     "slide_type": "subslide"
    }
   },
   "source": [
    "### 단계 1: 컨트랙 개발\n",
    "\n",
    "입금을 연달아 할 경우, 반드시 일정시간이 지나야 (10초) 입금을 가능하게 하고\n",
    "일정 잔고 이상일 경우에만 출금이 되도록 해보자."
   ]
  },
  {
   "cell_type": "code",
   "execution_count": 17,
   "metadata": {
    "collapsed": false
   },
   "outputs": [
    {
     "name": "stdout",
     "output_type": "stream",
     "text": [
      "Overwriting src/BankV3.sol\n"
     ]
    }
   ],
   "source": [
    "%%writefile src/BankV3.sol\n",
    "pragma solidity ^0.5.0;\n",
    "\n",
    "contract BankV3 {\n",
    "    address owner;\n",
    "    uint256 timeToDeposit;\n",
    "    event PrintLog(string);\n",
    "    event Sent(address from, address to, uint amount );\n",
    "    constructor() public {\n",
    "        owner=msg.sender;\n",
    "    }\n",
    "    function() external {\n",
    "        emit PrintLog(\"Fallback called\");\n",
    "    }\n",
    "    function sendTo(address payable _receiver) public payable onlyOwner {\n",
    "        //require(msg.sender==owner);\n",
    "        _receiver.transfer(msg.value);\n",
    "        emit Sent(msg.sender, _receiver, msg.value);\n",
    "    }\n",
    "    function queryBalance() public view returns(uint) {\n",
    "        return address(this).balance;\n",
    "    }\n",
    "    function deposit(uint amount) public payable onlyAfter {\n",
    "        timeToDeposit=now+10 seconds;\n",
    "        require(msg.value==amount);\n",
    "    }\n",
    "    function withdraw() public onlyOwner minBalance {\n",
    "        //require(msg.sender==owner);\n",
    "        msg.sender.transfer(address(this).balance);\n",
    "    }\n",
    "    modifier onlyOwner {\n",
    "        require(msg.sender==owner);\n",
    "        _;\n",
    "    }\n",
    "    modifier onlyAfter {\n",
    "        require(now>=timeToDeposit);\n",
    "        _;\n",
    "    }\n",
    "    modifier minBalance {\n",
    "        require(address(this).balance>101 wei);\n",
    "        _;\n",
    "    }\n",
    "}"
   ]
  },
  {
   "cell_type": "markdown",
   "metadata": {
    "slideshow": {
     "slide_type": "subslide"
    }
   },
   "source": [
    "### 단계 2: 컴파일"
   ]
  },
  {
   "cell_type": "code",
   "execution_count": 18,
   "metadata": {
    "collapsed": false,
    "scrolled": true
   },
   "outputs": [
    {
     "name": "stdout",
     "output_type": "stream",
     "text": [
      "\r\n",
      "======= src/BankV3.sol:BankV3 =======\r\n",
      "Gas estimation:\r\n",
      "construction:\r\n",
      "   20523 + 211800 = 232323\r\n",
      "external:\r\n",
      "   fallback:\t1795\r\n",
      "   deposit(uint256):\t20509\r\n",
      "   queryBalance():\t601\r\n",
      "   sendTo(address):\tinfinite\r\n",
      "   withdraw():\tinfinite\r\n",
      "Binary: \r\n",
      "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\r\n",
      "Contract JSON ABI \r\n",
      "[{\"constant\":true,\"inputs\":[],\"name\":\"queryBalance\",\"outputs\":[{\"name\":\"\",\"type\":\"uint256\"}],\"payable\":false,\"stateMutability\":\"view\",\"type\":\"function\"},{\"constant\":false,\"inputs\":[],\"name\":\"withdraw\",\"outputs\":[],\"payable\":false,\"stateMutability\":\"nonpayable\",\"type\":\"function\"},{\"constant\":false,\"inputs\":[{\"name\":\"amount\",\"type\":\"uint256\"}],\"name\":\"deposit\",\"outputs\":[],\"payable\":true,\"stateMutability\":\"payable\",\"type\":\"function\"},{\"constant\":false,\"inputs\":[{\"name\":\"_receiver\",\"type\":\"address\"}],\"name\":\"sendTo\",\"outputs\":[],\"payable\":true,\"stateMutability\":\"payable\",\"type\":\"function\"},{\"inputs\":[],\"payable\":false,\"stateMutability\":\"nonpayable\",\"type\":\"constructor\"},{\"payable\":false,\"stateMutability\":\"nonpayable\",\"type\":\"fallback\"},{\"anonymous\":false,\"inputs\":[{\"indexed\":false,\"name\":\"\",\"type\":\"string\"}],\"name\":\"PrintLog\",\"type\":\"event\"},{\"anonymous\":false,\"inputs\":[{\"indexed\":false,\"name\":\"from\",\"type\":\"address\"},{\"indexed\":false,\"name\":\"to\",\"type\":\"address\"},{\"indexed\":false,\"name\":\"amount\",\"type\":\"uint256\"}],\"name\":\"Sent\",\"type\":\"event\"}]\r\n"
     ]
    }
   ],
   "source": [
    "!solc --gas --abi --bin src/BankV3.sol"
   ]
  },
  {
   "cell_type": "markdown",
   "metadata": {
    "slideshow": {
     "slide_type": "subslide"
    }
   },
   "source": [
    "### 단계 3: 컨트랙 배포"
   ]
  },
  {
   "cell_type": "code",
   "execution_count": 19,
   "metadata": {
    "collapsed": false,
    "scrolled": true
   },
   "outputs": [
    {
     "name": "stdout",
     "output_type": "stream",
     "text": [
      "Overwriting src/BankV3Deploy.js\n"
     ]
    }
   ],
   "source": [
    "%%writefile src/BankV3Deploy.js\n",
    "var Web3=require('web3');\n",
    "var web3;\n",
    "if (typeof web3 !== 'undefined') {\n",
    "    web3 = new Web3(web3.currentProvider);\n",
    "} else {\n",
    "    web3 = new Web3(new Web3.providers.HttpProvider(\"http://117.16.44.45:8445\"));\n",
    "}\n",
    "var _abiArray=[{\"constant\":true,\"inputs\":[],\"name\":\"queryBalance\",\"outputs\":[{\"name\":\"\",\"type\":\"uint256\"}],\"payable\":false,\"stateMutability\":\"view\",\"type\":\"function\"},{\"constant\":false,\"inputs\":[],\"name\":\"withdraw\",\"outputs\":[],\"payable\":false,\"stateMutability\":\"nonpayable\",\"type\":\"function\"},{\"constant\":false,\"inputs\":[{\"name\":\"amount\",\"type\":\"uint256\"}],\"name\":\"deposit\",\"outputs\":[],\"payable\":true,\"stateMutability\":\"payable\",\"type\":\"function\"},{\"constant\":false,\"inputs\":[{\"name\":\"_receiver\",\"type\":\"address\"}],\"name\":\"sendTo\",\"outputs\":[],\"payable\":true,\"stateMutability\":\"payable\",\"type\":\"function\"},{\"inputs\":[],\"payable\":false,\"stateMutability\":\"nonpayable\",\"type\":\"constructor\"},{\"payable\":false,\"stateMutability\":\"nonpayable\",\"type\":\"fallback\"},{\"anonymous\":false,\"inputs\":[{\"indexed\":false,\"name\":\"\",\"type\":\"string\"}],\"name\":\"PrintLog\",\"type\":\"event\"},{\"anonymous\":false,\"inputs\":[{\"indexed\":false,\"name\":\"from\",\"type\":\"address\"},{\"indexed\":false,\"name\":\"to\",\"type\":\"address\"},{\"indexed\":false,\"name\":\"amount\",\"type\":\"uint256\"}],\"name\":\"Sent\",\"type\":\"event\"}];\n",
    "var _bin=\"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\";\n",
    "var _contract = web3.eth.contract(_abiArray);\n",
    "//unlock the account with a password provided\n",
    "//web3.personal.unlockAccount(web3.eth.accounts[0],'password');\n",
    "var _instance=_contract.new({data:\"0x\"+_bin,from:web3.eth.accounts[0],gas:1000000}, function(err, contract) {\n",
    "    if (!err) {\n",
    "        console.log(\"contractAddress: \", contract.address);\n",
    "        console.log(\"transactionHash: \", contract.transactionHash);\n",
    "    }\n",
    "});"
   ]
  },
  {
   "cell_type": "code",
   "execution_count": 20,
   "metadata": {
    "collapsed": false
   },
   "outputs": [
    {
     "name": "stdout",
     "output_type": "stream",
     "text": [
      "contractAddress:  undefined\n",
      "transactionHash:  0xe1ed3107a7242e90a9a09ac3ae04ce3dc5413bc73e1e7c921b87a58546b5784a\n",
      "contractAddress:  0x486d4a274e03639c2bd52369f38e15736d760ee0\n",
      "transactionHash:  0xe1ed3107a7242e90a9a09ac3ae04ce3dc5413bc73e1e7c921b87a58546b5784a\n"
     ]
    }
   ],
   "source": [
    "!node src/BankV3Deploy.js"
   ]
  },
  {
   "cell_type": "markdown",
   "metadata": {
    "slideshow": {
     "slide_type": "subslide"
    }
   },
   "source": [
    "### 단계 4: 사용\n",
    "\n",
    "1. deposit(100);\n",
    "2. withdraw() ---> 실패 (프로그램에 101 wei 이상 제약조건)\n",
    "3. deposit(111);\n",
    "value를 반드시 함수인자와 동일하게 입력해야 한다.\n",
    "REMIX에서 할 경우에도 마찬가지이다. Run 탭 상단의 value, Deployed Contracts 함수의 인자 두 필드에 동일한 금액을 넣어준다.\n",
    "4. 빠르게 (프로그램에 설정해 놓은 10초 이내) deposit(111) ---> 실패\n",
    "5. queryBalance() --=> 211\n",
    "6. deposit(111); ---> 10초가 지났으면 실행. 이때 마이닝을 해서 동기화를 시켜줄 필요가 있다.\n",
    "7. queryBalance() ---> 322\n",
    "\n",
    "```python\n",
    "> bank.deposit(100,{from:web3.eth.accounts[0], value:100});          입금 100\n",
    "> //miner.start(1);admin.sleepBlocks(1);miner.stop();                마이닝\n",
    "> bank.queryBalance().toNumber();                                    입금금액 조회 100. 앞 입금거래를 마이닝하고 금액 증가.\n",
    "100\n",
    "> bank.deposit(100,{from:web3.eth.accounts[0], value:111});          입금 'value'와 '인자'가 서로 다르면 입금 실패\n",
    "'0x1614f5f9efc887cfa17c53c2f93f62f95bc22d6673be8db9cc8de086a70a1415'\n",
    "> //miner.start(1);admin.sleepBlocks(1);miner.stop();                마이닝\n",
    "undefined\n",
    "> bank.queryBalance().toNumber();                                    실패하였으므로 잔고는 계속 100\n",
    "100\n",
    "> bank.deposit(111,{from:web3.eth.accounts[0], value:111});          입금 111\n",
    "'0xcc795834d708da090362217c96972e905a42280f61be3a4cd0b25f487313eaea'\n",
    "> //miner.start(1);admin.sleepBlocks(1);miner.stop();                마이닝\n",
    "undefined\n",
    "> bank.queryBalance().toNumber();                                    입금 100+111 = 211\n",
    "211\n",
    "> bank.deposit(111,{from:web3.eth.accounts[0], value:111});          (10초 지나서) 입금 111, 마이닝하면 금액 증가함\n",
    "'0x07579161cc6ac7f8257a0c08cb63124d0355454f71300a9820b7f01abd7fd0a7'\n",
    "> //miner.start(1);admin.sleepBlocks(1);miner.stop();\n",
    "undefined\n",
    "> bank.queryBalance().toNumber();                                    입금 100+111+111 = 322\n",
    "322\n",
    "> bank.deposit(111,{from:web3.eth.accounts[0], value:111});          입금 111, 마이닝하면 금액 증가함\n",
    "'0x9178978322503cd6b63a4aecca9f2878ff039c26f64c2fcd7a74b8950d8c8426'\n",
    "> bank.deposit(111,{from:web3.eth.accounts[0], value:111});          입금 111, 10초 이내이므로 마이닝해도 금액 증가하지 않음\n",
    "'0xe0e229977b416bead8bb99a8ec5d3b5519095519d612e302b6f1af7225e7b25b'\n",
    "> //miner.start(1);admin.sleepBlocks(1);miner.stop();\n",
    "undefined\n",
    "> bank.queryBalance().toNumber();                                    여러번 입금해도 10초 이내 거래는 실패하고 잔고가 늘지 않음\n",
    "433\n",
    ">\n",
    "```"
   ]
  },
  {
   "cell_type": "code",
   "execution_count": 33,
   "metadata": {
    "collapsed": false,
    "slideshow": {
     "slide_type": "subslide"
    }
   },
   "outputs": [
    {
     "name": "stdout",
     "output_type": "stream",
     "text": [
      "Overwriting src/BankV3Use.js\n"
     ]
    }
   ],
   "source": [
    "%%writefile src/BankV3Use.js\n",
    "var Web3=require('web3');\n",
    "var web3 = new Web3(new Web3.providers.HttpProvider(\"http://117.16.44.45:8445\"));\n",
    "var _abiArray=[{\"constant\":true,\"inputs\":[],\"name\":\"queryBalance\",\"outputs\":[{\"name\":\"\",\"type\":\"uint256\"}],\"payable\":false,\"stateMutability\":\"view\",\"type\":\"function\"},{\"constant\":false,\"inputs\":[],\"name\":\"withdraw\",\"outputs\":[],\"payable\":false,\"stateMutability\":\"nonpayable\",\"type\":\"function\"},{\"constant\":false,\"inputs\":[{\"name\":\"amount\",\"type\":\"uint256\"}],\"name\":\"deposit\",\"outputs\":[],\"payable\":true,\"stateMutability\":\"payable\",\"type\":\"function\"},{\"constant\":false,\"inputs\":[{\"name\":\"_receiver\",\"type\":\"address\"}],\"name\":\"sendTo\",\"outputs\":[],\"payable\":true,\"stateMutability\":\"payable\",\"type\":\"function\"},{\"inputs\":[],\"payable\":false,\"stateMutability\":\"nonpayable\",\"type\":\"constructor\"},{\"payable\":false,\"stateMutability\":\"nonpayable\",\"type\":\"fallback\"},{\"anonymous\":false,\"inputs\":[{\"indexed\":false,\"name\":\"\",\"type\":\"string\"}],\"name\":\"PrintLog\",\"type\":\"event\"},{\"anonymous\":false,\"inputs\":[{\"indexed\":false,\"name\":\"from\",\"type\":\"address\"},{\"indexed\":false,\"name\":\"to\",\"type\":\"address\"},{\"indexed\":false,\"name\":\"amount\",\"type\":\"uint256\"}],\"name\":\"Sent\",\"type\":\"event\"}];\n",
    "var _contract = web3.eth.contract(_abiArray);\n",
    "var bank = _contract.at(\"0x486d4a274e03639c2bd52369f38e15736d760ee0\");\n",
    "//var filter = bank.PrintLog(function (error, result) {\n",
    "//  if (!error)\n",
    "//    console.log(result);\n",
    "//});\n",
    "//console.log(bank.sendTo(0x778ea91cb0d0879c22ca20c5aea6fbf8cbeed480, 100,{from:web3.eth.accounts[0],gas:100000}));\n",
    "console.log(bank.deposit(100, {from:web3.eth.accounts[0], value:100}));\n",
    "console.log(bank.withdraw({from:web3.eth.accounts[0]}));\n",
    "console.log(bank.queryBalance().toNumber());"
   ]
  },
  {
   "cell_type": "code",
   "execution_count": 34,
   "metadata": {
    "collapsed": false
   },
   "outputs": [
    {
     "name": "stdout",
     "output_type": "stream",
     "text": [
      "0x52bd51f84b47f4c0d7e64b340f8046042c0847975f21ff4daa4392943fd95a33\n",
      "0x7549b16332f2f04e0239055a6d72e0bf228de55e951c9106490aa45c4137d35c\n",
      "0\n"
     ]
    }
   ],
   "source": [
    "!node src/BankV3Use.js"
   ]
  },
  {
   "cell_type": "code",
   "execution_count": 35,
   "metadata": {
    "collapsed": false,
    "slideshow": {
     "slide_type": "subslide"
    }
   },
   "outputs": [
    {
     "name": "stdout",
     "output_type": "stream",
     "text": [
      "Overwriting src/BankV3Use.js\n"
     ]
    }
   ],
   "source": [
    "%%writefile src/BankV3Use.js\n",
    "var Web3=require('web3');\n",
    "var web3 = new Web3(new Web3.providers.HttpProvider(\"http://117.16.44.45:8445\"));\n",
    "var _abiArray=[{\"constant\":true,\"inputs\":[],\"name\":\"queryBalance\",\"outputs\":[{\"name\":\"\",\"type\":\"uint256\"}],\"payable\":false,\"stateMutability\":\"view\",\"type\":\"function\"},{\"constant\":false,\"inputs\":[],\"name\":\"withdraw\",\"outputs\":[],\"payable\":false,\"stateMutability\":\"nonpayable\",\"type\":\"function\"},{\"constant\":false,\"inputs\":[{\"name\":\"amount\",\"type\":\"uint256\"}],\"name\":\"deposit\",\"outputs\":[],\"payable\":true,\"stateMutability\":\"payable\",\"type\":\"function\"},{\"constant\":false,\"inputs\":[{\"name\":\"_receiver\",\"type\":\"address\"}],\"name\":\"sendTo\",\"outputs\":[],\"payable\":true,\"stateMutability\":\"payable\",\"type\":\"function\"},{\"inputs\":[],\"payable\":false,\"stateMutability\":\"nonpayable\",\"type\":\"constructor\"},{\"payable\":false,\"stateMutability\":\"nonpayable\",\"type\":\"fallback\"},{\"anonymous\":false,\"inputs\":[{\"indexed\":false,\"name\":\"\",\"type\":\"string\"}],\"name\":\"PrintLog\",\"type\":\"event\"},{\"anonymous\":false,\"inputs\":[{\"indexed\":false,\"name\":\"from\",\"type\":\"address\"},{\"indexed\":false,\"name\":\"to\",\"type\":\"address\"},{\"indexed\":false,\"name\":\"amount\",\"type\":\"uint256\"}],\"name\":\"Sent\",\"type\":\"event\"}];\n",
    "var _contract = web3.eth.contract(_abiArray);\n",
    "var bank = _contract.at(\"0x486d4a274e03639c2bd52369f38e15736d760ee0\");\n",
    "//var filter = bank.PrintLog(function (error, result) {\n",
    "//  if (!error)\n",
    "//    console.log(result);\n",
    "//});\n",
    "//console.log(bank.sendTo(0x778ea91cb0d0879c22ca20c5aea6fbf8cbeed480, 100,{from:web3.eth.accounts[0],gas:100000}));\n",
    "console.log(bank.queryBalance().toNumber());\n",
    "console.log(bank.deposit(111, {from:web3.eth.accounts[0], value:111}));\n",
    "console.log(bank.withdraw({from:web3.eth.accounts[0]}));\n",
    "console.log(bank.queryBalance().toNumber());"
   ]
  },
  {
   "cell_type": "code",
   "execution_count": 36,
   "metadata": {
    "collapsed": false
   },
   "outputs": [
    {
     "name": "stdout",
     "output_type": "stream",
     "text": [
      "0\n",
      "0x45e0beba2ac003f71dc89cd59a52f7b719263f53fde603f01e604ae3e60b95a5\n",
      "0x67227397881ccfa6e5768dad2a6934f186153832da02b75a1c638551049d2ef3\n",
      "0\n"
     ]
    }
   ],
   "source": [
    "!node src/BankV3Use.js"
   ]
  },
  {
   "cell_type": "code",
   "execution_count": 31,
   "metadata": {
    "collapsed": false
   },
   "outputs": [
    {
     "name": "stdout",
     "output_type": "stream",
     "text": [
      "0\n",
      "0x59bc83487f0649e6f8911a4471a5d6ca7fd7cc390228df3f14dacce86b92ec6a\n",
      "0xad6aa7b6bb063842703d01a8d463809aae68b0487fa497951cc0e33c0ebed968\n",
      "0\n"
     ]
    }
   ],
   "source": [
    "!node src/BankV3Use.js"
   ]
  },
  {
   "cell_type": "code",
   "execution_count": 29,
   "metadata": {
    "collapsed": false,
    "slideshow": {
     "slide_type": "subslide"
    }
   },
   "outputs": [
    {
     "name": "stdout",
     "output_type": "stream",
     "text": [
      "Overwriting src/BankV3Use.js\n"
     ]
    }
   ],
   "source": [
    "%%writefile src/BankV3Use.js\n",
    "var Web3=require('web3');\n",
    "var web3 = new Web3(new Web3.providers.HttpProvider(\"http://117.16.44.45:8445\"));\n",
    "var _abiArray=[{\"constant\":true,\"inputs\":[],\"name\":\"queryBalance\",\"outputs\":[{\"name\":\"\",\"type\":\"uint256\"}],\"payable\":false,\"stateMutability\":\"view\",\"type\":\"function\"},{\"constant\":false,\"inputs\":[],\"name\":\"withdraw\",\"outputs\":[],\"payable\":false,\"stateMutability\":\"nonpayable\",\"type\":\"function\"},{\"constant\":false,\"inputs\":[{\"name\":\"amount\",\"type\":\"uint256\"}],\"name\":\"deposit\",\"outputs\":[],\"payable\":true,\"stateMutability\":\"payable\",\"type\":\"function\"},{\"constant\":false,\"inputs\":[{\"name\":\"_receiver\",\"type\":\"address\"}],\"name\":\"sendTo\",\"outputs\":[],\"payable\":true,\"stateMutability\":\"payable\",\"type\":\"function\"},{\"inputs\":[],\"payable\":false,\"stateMutability\":\"nonpayable\",\"type\":\"constructor\"},{\"payable\":false,\"stateMutability\":\"nonpayable\",\"type\":\"fallback\"},{\"anonymous\":false,\"inputs\":[{\"indexed\":false,\"name\":\"\",\"type\":\"string\"}],\"name\":\"PrintLog\",\"type\":\"event\"},{\"anonymous\":false,\"inputs\":[{\"indexed\":false,\"name\":\"from\",\"type\":\"address\"},{\"indexed\":false,\"name\":\"to\",\"type\":\"address\"},{\"indexed\":false,\"name\":\"amount\",\"type\":\"uint256\"}],\"name\":\"Sent\",\"type\":\"event\"}];\n",
    "var _contract = web3.eth.contract(_abiArray);\n",
    "var bank = _contract.at(\"0x486d4a274e03639c2bd52369f38e15736d760ee0\");\n",
    "//var filter = bank.PrintLog(function (error, result) {\n",
    "//  if (!error)\n",
    "//    console.log(result);\n",
    "//});\n",
    "//console.log(bank.sendTo(0x778ea91cb0d0879c22ca20c5aea6fbf8cbeed480, 100,{from:web3.eth.accounts[0],gas:100000}));\n",
    "console.log(bank.queryBalance().toNumber());\n",
    "console.log(bank.deposit(111, {from:web3.eth.accounts[0], value:111}));\n",
    "console.log(bank.withdraw({from:web3.eth.accounts[0]}));\n",
    "console.log(bank.queryBalance().toNumber());"
   ]
  },
  {
   "cell_type": "code",
   "execution_count": 21,
   "metadata": {
    "collapsed": false,
    "slideshow": {
     "slide_type": "subslide"
    }
   },
   "outputs": [
    {
     "name": "stdout",
     "output_type": "stream",
     "text": [
      "Overwriting src/BankV3Use.js\n"
     ]
    }
   ],
   "source": [
    "%%writefile src/BankV3Use.js\n",
    "var Web3=require('web3');\n",
    "var web3 = new Web3(new Web3.providers.HttpProvider(\"http://117.16.44.45:8445\"));\n",
    "var _abiArray=[{\"constant\":true,\"inputs\":[],\"name\":\"queryBalance\",\"outputs\":[{\"name\":\"\",\"type\":\"uint256\"}],\"payable\":false,\"stateMutability\":\"view\",\"type\":\"function\"},{\"constant\":false,\"inputs\":[],\"name\":\"withdraw\",\"outputs\":[],\"payable\":false,\"stateMutability\":\"nonpayable\",\"type\":\"function\"},{\"constant\":false,\"inputs\":[{\"name\":\"amount\",\"type\":\"uint256\"}],\"name\":\"deposit\",\"outputs\":[],\"payable\":true,\"stateMutability\":\"payable\",\"type\":\"function\"},{\"constant\":false,\"inputs\":[{\"name\":\"_receiver\",\"type\":\"address\"}],\"name\":\"sendTo\",\"outputs\":[],\"payable\":true,\"stateMutability\":\"payable\",\"type\":\"function\"},{\"inputs\":[],\"payable\":false,\"stateMutability\":\"nonpayable\",\"type\":\"constructor\"},{\"payable\":false,\"stateMutability\":\"nonpayable\",\"type\":\"fallback\"},{\"anonymous\":false,\"inputs\":[{\"indexed\":false,\"name\":\"\",\"type\":\"string\"}],\"name\":\"PrintLog\",\"type\":\"event\"},{\"anonymous\":false,\"inputs\":[{\"indexed\":false,\"name\":\"from\",\"type\":\"address\"},{\"indexed\":false,\"name\":\"to\",\"type\":\"address\"},{\"indexed\":false,\"name\":\"amount\",\"type\":\"uint256\"}],\"name\":\"Sent\",\"type\":\"event\"}];\n",
    "var _contract = web3.eth.contract(_abiArray);\n",
    "var bank = _contract.at(\"0x486d4a274e03639c2bd52369f38e15736d760ee0\");\n",
    "//var filter = bank.PrintLog(function (error, result) {\n",
    "//  if (!error)\n",
    "//    console.log(result);\n",
    "//});\n",
    "//console.log(bank.sendTo(0x778ea91cb0d0879c22ca20c5aea6fbf8cbeed480, 100,{from:web3.eth.accounts[0],gas:100000}));\n",
    "console.log(bank.queryBalance().toNumber());\n",
    "console.log(bank.deposit(111, {from:web3.eth.accounts[0], value:111}));\n",
    "console.log(bank.withdraw({from:web3.eth.accounts[0]}));\n",
    "console.log(bank.deposit(100, {from:web3.eth.accounts[0], value:100}));\n",
    "console.log(bank.deposit(100, {from:web3.eth.accounts[0], value:100}));\n",
    "console.log(bank.queryBalance().toNumber());"
   ]
  },
  {
   "cell_type": "code",
   "execution_count": 22,
   "metadata": {
    "collapsed": false
   },
   "outputs": [
    {
     "name": "stdout",
     "output_type": "stream",
     "text": [
      "0xa39b02e2d17c858a48d2476ff0e8ddc40ae83caf20cafde7a5d9a59ffbb47fe1\n",
      "0x30dfc0af0e7980800dcb4e513b05a9b3e453c8742ac06d5d929f1f5437159816\n",
      "0xd6372b90ade93ed7d21b5c8374352a8498fb7f251e5a08b66fe3d500a774bf4e\n",
      "0x8997df1e38ffdec571a26040e69baf6880f1eab215671f4c627f15ed5a4613dc\n",
      "0\n"
     ]
    }
   ],
   "source": [
    "!node src/BankV3Use.js"
   ]
  },
  {
   "cell_type": "code",
   "execution_count": 23,
   "metadata": {
    "collapsed": false
   },
   "outputs": [
    {
     "name": "stdout",
     "output_type": "stream",
     "text": [
      "0x8a050d3bc20965e150e32d4d1514b8a507a701c082e821db774c3a54daddbbc5\n",
      "0x2d1a6ddb57dcc7f4ef5ed7958285ed925a602428814124a5cf247809eccbed4a\n",
      "0xd3f9486038cc655f88bee5fe956f594edc67828f4a28a90ce4896d29402f2143\n",
      "0x2646757448ff0d9f61732bca95c07927d3ffb4c0f51a8fff2a756e47a78173ab\n",
      "100\n"
     ]
    }
   ],
   "source": [
    "!node src/BankV3Use.js"
   ]
  },
  {
   "cell_type": "code",
   "execution_count": 24,
   "metadata": {
    "collapsed": false
   },
   "outputs": [
    {
     "name": "stdout",
     "output_type": "stream",
     "text": [
      "0xc61e70340e50db31a1154b5270f06ae3c6d1ee1e7244ae8b8cd5dee67c9d6c56\n",
      "0x704561d0842b158cd5bf680f0c5b7ca5064b4a8961ee31015f58559d599df760\n",
      "0x71849d0a0bcf8e86048d9274b2aa0ad15088e28b75ba87da57894651efb09010\n",
      "0x0982afc4c441632f96c60c6ffb69661c01ac61585d0329bcf252ed98d19368ba\n",
      "0\n"
     ]
    }
   ],
   "source": [
    "!node src/BankV3Use.js"
   ]
  },
  {
   "cell_type": "markdown",
   "metadata": {
    "slideshow": {
     "slide_type": "slide"
    }
   },
   "source": [
    "## 10.4 Events and logs\n",
    "<a id='S.3.5'></a>\n",
    "\n",
    "이벤트는 사용자가 마우스 또는 키보드에서 어떤 입력을 하거나, 센서로부터 발생할 수 있다.\n",
    "블록체인에서는 그 특성 상 마우스나 키보드의 이벤트가 발생할 수 없고, ```emit```명령어로 **특정 시점에 이벤트를 발생**하도록 프로그램한다.\n",
    "이벤트는 상속할 수 있어서, 부모가 정의한 이벤트를 자식이 물려받아 발생시킬 수 있다."
   ]
  },
  {
   "cell_type": "markdown",
   "metadata": {
    "slideshow": {
     "slide_type": "subslide"
    }
   },
   "source": [
    "* 이벤트는 우선 (1) 등록이 되어야 하고, 그 후 (2) 발생하면 호출된다.\n",
    "    * EVM의 로그 기능을 사용한다. 로그는 blockchain에 저장된다.\n",
    "    * 함수에 listener를 설정할 수 있다.\n",
    "    * JavaScript callbacks을 사용하여 이벤트가 호출되는지 리스닝한다.\n",
    "\n",
    "단계 | 설명\n",
    "-------|-------\n",
    "개발-컴파일 | event를 넣은 소스를 컴파일해서 abi, bin을 구한다.\n",
    "배포 | 마이닝하고 주소를 배정받기 기다린다.\n",
    "사용 | 이벤트 호출, ```_instance.MyLog()```, 인자가 있어도 생략할 수 있다.\n",
    "사용 | 이벤트를 가지고 있는 함수 호출, ```_instance.MyFunction()``` or ```_instance.MyEvent.watch()```\n",
    "\n",
    "* 오류\n",
    "    * \"invalid adress error\" default address가 설정되지 않으면, 누가 이벤트를 호출하는지 알 수 없다.\n",
    "```python\n",
    "> web3.eth.defaultAccount=web3.eth.accounts[1];\n",
    "```"
   ]
  },
  {
   "cell_type": "markdown",
   "metadata": {
    "slideshow": {
     "slide_type": "subslide"
    }
   },
   "source": [
    "#### 단계\n",
    "\n",
    "단계 1. 이벤트 설정\n",
    "CapWords 스타일로 단어 첫 글자를 대문자로 적어준다.\n",
    "인자를 넣어줄 수 있다.\n",
    "인자 3개까지 로그에서 인덱스로 사용할 수 있고,\n",
    "인자의 해시 값이 로그의 ```topic```으로 출력된다.\n",
    "```python\n",
    "event PrintLog()\n",
    "```\n",
    "\n",
    "단계 2. 함수를 호출할 때 이벤트가 발생하도록 연결한다. 이런 연결을 바인딩 **binding**이라고 한다.\n",
    "```python\n",
    "function fireEvent() {\n",
    "    emit PrintLog()\n",
    "    ...\n",
    "}\n",
    "```"
   ]
  },
  {
   "cell_type": "markdown",
   "metadata": {
    "slideshow": {
     "slide_type": "subslide"
    }
   },
   "source": [
    "단계 3. 이벤트의 발생을 callback 함수로 리스닝한다.\n",
    "```python\n",
    "1) 이벤트를 생성하고 리스닝한다.\n",
    "> var myEvent = myInstance.PrintLog({from: web3.eth.accounts[0]}, {\n",
    "    fromBlock: 0, \n",
    "    toBlock: 'latest'\n",
    "  });\n",
    "> myEvent.watch(function (error, result) {\n",
    "    if (!error) {\n",
    "        console.log(\"myEvent: event triggered ===> \",result);\n",
    "        process.exit(1);\n",
    "    }\n",
    "});\n",
    "또는 한 명령어로 합쳐서 다음과 같이 리스닝할 수 있다.\n",
    "var myEvent = myInstance.PrintLog(function(error, result) {\n",
    "    if (!error)\n",
    "        console.log(result);\n",
    "});\n",
    "```"
   ]
  },
  {
   "cell_type": "markdown",
   "metadata": {
    "slideshow": {
     "slide_type": "subslide"
    }
   },
   "source": [
    "단계 4. 함수호출로 이벤트 발생\n",
    "\n",
    "```python\n",
    "> myInstance.fireEvent();\n",
    "```\n",
    "\n",
    "단계 5. 이벤트 watch 중지\n",
    "```python\n",
    "> myEvent.stopWatching();\n",
    "```"
   ]
  },
  {
   "cell_type": "markdown",
   "metadata": {
    "collapsed": true,
    "slideshow": {
     "slide_type": "slide"
    }
   },
   "source": [
    "## 예제: 간단한 이벤트\n",
    "\n",
    "이벤트를 만들고 함수가 호출되는 시점에 발생하도록 해보자.\n",
    "이벤트는 발생하는 시점에 \"Hello World!\" 문자열이 출력되도록 한다.\n",
    "이벤트가 발생하는지는 클라이언트에서 리스닝해서 알아 낸다.\n",
    "이벤트가 발생하면 로그에 기록이 되고, 리스닝한다는 것은 이런 로그의 기록에 이벤트가 발생했는지를 확인하는 것이다."
   ]
  },
  {
   "cell_type": "markdown",
   "metadata": {
    "slideshow": {
     "slide_type": "subslide"
    }
   },
   "source": [
    "### 단계 1: 컨트랙 개발"
   ]
  },
  {
   "cell_type": "code",
   "execution_count": 6,
   "metadata": {
    "collapsed": false
   },
   "outputs": [
    {
     "name": "stdout",
     "output_type": "stream",
     "text": [
      "Overwriting src/testEvent.sol\n"
     ]
    }
   ],
   "source": [
    "%%writefile src/testEvent.sol\n",
    "pragma solidity ^0.5.0;\n",
    "contract testEvent {\n",
    "    event MyLog(string);\n",
    "    function MyFunction() public {\n",
    "        emit MyLog(\"Hello World!\");\n",
    "    }\n",
    "}"
   ]
  },
  {
   "cell_type": "markdown",
   "metadata": {
    "slideshow": {
     "slide_type": "subslide"
    }
   },
   "source": [
    "### 단계 2: 컴파일"
   ]
  },
  {
   "cell_type": "code",
   "execution_count": 7,
   "metadata": {
    "collapsed": false
   },
   "outputs": [
    {
     "name": "stdout",
     "output_type": "stream",
     "text": [
      "Warning: This is a pre-release compiler version, please do not use it in production.\r\n",
      "\r\n",
      "======= src/testEvent.sol:testEvent =======\r\n",
      "Contract JSON ABI \r\n",
      "[{\"constant\":false,\"inputs\":[],\"name\":\"MyFunction\",\"outputs\":[],\"payable\":false,\"stateMutability\":\"nonpayable\",\"type\":\"function\"},{\"anonymous\":false,\"inputs\":[{\"indexed\":false,\"name\":\"\",\"type\":\"string\"}],\"name\":\"MyLog\",\"type\":\"event\"}]\r\n"
     ]
    }
   ],
   "source": [
    "!solc --abi src/testEvent.sol"
   ]
  },
  {
   "cell_type": "code",
   "execution_count": 10,
   "metadata": {
    "collapsed": false
   },
   "outputs": [
    {
     "name": "stdout",
     "output_type": "stream",
     "text": [
      "Warning: This is a pre-release compiler version, please do not use it in production.\r\n",
      "\r\n",
      "======= src/testEvent.sol:testEvent =======\r\n",
      "Binary: \r\n",
      "6080604052348015600f57600080fd5b5060e88061001e6000396000f3fe6080604052348015600f57600080fd5b50600436106045576000357c010000000000000000000000000000000000000000000000000000000090048063ad6e81d214604a575b600080fd5b60506052565b005b7f5186edd9beca61d795526ca1f274260b3fc74be3e10e1f02e1be1552e14f137360405180806020018281038252600c8152602001807f48656c6c6f20576f726c6421000000000000000000000000000000000000000081525060200191505060405180910390a156fea165627a7a72305820da9dac7ab71e948c4150d99274d7b603a5877bd7f86eb48ce48f0f58aad0ba280029\r\n"
     ]
    }
   ],
   "source": [
    "!solc --bin src/testEvent.sol"
   ]
  },
  {
   "cell_type": "code",
   "execution_count": 11,
   "metadata": {
    "collapsed": false
   },
   "outputs": [
    {
     "name": "stdout",
     "output_type": "stream",
     "text": [
      "Warning: This is a pre-release compiler version, please do not use it in production.\r\n",
      "\r\n",
      "======= src/testEvent.sol:testEvent =======\r\n",
      "Gas estimation:\r\n",
      "construction:\r\n",
      "   99 + 46400 = 46499\r\n",
      "external:\r\n",
      "   MyFunction():\t1753\r\n"
     ]
    }
   ],
   "source": [
    "!solc --gas src/testEvent.sol"
   ]
  },
  {
   "cell_type": "markdown",
   "metadata": {
    "slideshow": {
     "slide_type": "subslide"
    }
   },
   "source": [
    "### 단계 3: 컨트랙 배포"
   ]
  },
  {
   "cell_type": "code",
   "execution_count": 29,
   "metadata": {
    "collapsed": false
   },
   "outputs": [
    {
     "name": "stdout",
     "output_type": "stream",
     "text": [
      "Overwriting src/testEvent1.js\n"
     ]
    }
   ],
   "source": [
    "%%writefile src/testEvent1.js\n",
    "var Web3=require('web3');\n",
    "var web3 = new Web3(new Web3.providers.HttpProvider(\"http://117.16.44.45:8445\"));\n",
    "//copy abi from '!solc --abi src/testEvent.sol'\n",
    "var _abiArray=[{\"constant\":false,\"inputs\":[],\"name\":\"MyFunction\",\"outputs\":[],\"payable\":false,\"stateMutability\":\"nonpayable\",\"type\":\"function\"},{\"anonymous\":false,\"inputs\":[{\"indexed\":false,\"name\":\"\",\"type\":\"string\"}],\"name\":\"MyLog\",\"type\":\"event\"}];\n",
    "//var _abiArray=JSON.parse(_abiStr);\n",
    "//copy bin from '!solc --bin src/testEvent.sol'\n",
    "var _bin=\"0x\"+\"6080604052348015600f57600080fd5b5060e88061001e6000396000f3fe6080604052348015600f57600080fd5b50600436106045576000357c010000000000000000000000000000000000000000000000000000000090048063ad6e81d214604a575b600080fd5b60506052565b005b7f5186edd9beca61d795526ca1f274260b3fc74be3e10e1f02e1be1552e14f137360405180806020018281038252600c8152602001807f48656c6c6f20576f726c6421000000000000000000000000000000000000000081525060200191505060405180910390a156fea165627a7a72305820da9dac7ab71e948c4150d99274d7b603a5877bd7f86eb48ce48f0f58aad0ba280029\";\n",
    "var _contract = web3.eth.contract(_abiArray);\n",
    "var _instance=_contract.new({data:_bin,from:web3.eth.accounts[0],gas:1000000}, function(err, contract) {\n",
    "  if (!err && contract.address)\n",
    "    console.log(\"contractAddress: \", contract.address);\n",
    "    console.log(\"transactionHash: \", contract.transactionHash);\n",
    "});\n",
    "console.log(\"after async - transactionHash: \",_instance.transactionHash)\n",
    "console.log(\"after async - contractAddress: \",_instance.address);"
   ]
  },
  {
   "cell_type": "markdown",
   "metadata": {
    "slideshow": {
     "slide_type": "subslide"
    }
   },
   "source": [
    "Asynch로 호출하기 때문에 ```after async```가 먼저 출력이 된다."
   ]
  },
  {
   "cell_type": "code",
   "execution_count": 30,
   "metadata": {
    "collapsed": false
   },
   "outputs": [
    {
     "name": "stdout",
     "output_type": "stream",
     "text": [
      "after async - transactionHash:  null\n",
      "after async - contractAddress:  undefined\n",
      "transactionHash:  0xd7fdf422500077d976984b65a8f3b7eac778c25822a2724c746ca0f7140e0451\n",
      "contractAddress:  0x40dc58fc998d6ed4a384e01d89ba297d5bea2863\n",
      "transactionHash:  0xd7fdf422500077d976984b65a8f3b7eac778c25822a2724c746ca0f7140e0451\n"
     ]
    }
   ],
   "source": [
    "!node src/testEvent1.js"
   ]
  },
  {
   "cell_type": "markdown",
   "metadata": {
    "slideshow": {
     "slide_type": "subslide"
    }
   },
   "source": [
    "* transactionHash를 가지고 contractAddress를 찾는다.\n",
    "\n",
    "* transactionHash:  0xd7fdf422500077d976984b65a8f3b7eac778c25822a2724c746ca0f7140e0451\n",
    "* contractAddress:  0x40dc58fc998d6ed4a384e01d89ba297d5bea2863\n"
   ]
  },
  {
   "cell_type": "code",
   "execution_count": 31,
   "metadata": {
    "collapsed": false
   },
   "outputs": [
    {
     "name": "stdout",
     "output_type": "stream",
     "text": [
      "{\r\n",
      "  blockHash: \u001b[32m\"0xf4f15ae4b0de41140d50dde6504fbade1e341e25ee018799384c334865e9fc3d\"\u001b[0m,\r\n",
      "  blockNumber: \u001b[31m100\u001b[0m,\r\n",
      "  contractAddress: \u001b[32m\"0x40dc58fc998d6ed4a384e01d89ba297d5bea2863\"\u001b[0m,\r\n",
      "  cumulativeGasUsed: \u001b[31m113667\u001b[0m,\r\n",
      "  from: \u001b[32m\"0x21c704354d07f804bab01894e8b4eb4e0eba7451\"\u001b[0m,\r\n",
      "  gasUsed: \u001b[31m113667\u001b[0m,\r\n",
      "  logs: [],\r\n",
      "  logsBloom: \u001b[32m\"0x00000000000000000000000000000000000000000000000000000000000000000000000000000000000000000000000000000000000000000000000000000000000000000000000000000000000000000000000000000000000000000000000000000000000000000000000000000000000000000000000000000000000000000000000000000000000000000000000000000000000000000000000000000000000000000000000000000000000000000000000000000000000000000000000000000000000000000000000000000000000000000000000000000000000000000000000000000000000000000000000000000000000000000000000000000000\"\u001b[0m,\r\n",
      "  root: \u001b[32m\"0xcf1d6bde9f770e85e3e42497056adfcb4f1e780f04f17bee2991007aa2c9b281\"\u001b[0m,\r\n",
      "  to: \u001b[1mnull\u001b[0m,\r\n",
      "  transactionHash: \u001b[32m\"0xd7fdf422500077d976984b65a8f3b7eac778c25822a2724c746ca0f7140e0451\"\u001b[0m,\r\n",
      "  transactionIndex: \u001b[31m0\u001b[0m\r\n",
      "}\r\n"
     ]
    }
   ],
   "source": [
    "!geth --exec 'eth.getTransactionReceipt(\"0xd7fdf422500077d976984b65a8f3b7eac778c25822a2724c746ca0f7140e0451\");' attach http://117.16.44.45:8445"
   ]
  },
  {
   "cell_type": "markdown",
   "metadata": {
    "slideshow": {
     "slide_type": "subslide"
    }
   },
   "source": [
    "### 단계 4: 사용\n"
   ]
  },
  {
   "cell_type": "code",
   "execution_count": 1,
   "metadata": {
    "collapsed": false
   },
   "outputs": [
    {
     "name": "stdout",
     "output_type": "stream",
     "text": [
      "Overwriting src/testEvent2.js\n"
     ]
    }
   ],
   "source": [
    "%%writefile src/testEvent2.js\n",
    "var Web3=require('web3');\n",
    "var web3 = new Web3(new Web3.providers.HttpProvider(\"http://117.16.44.45:8445\"));\n",
    "var _abiArray=[{\"constant\":false,\"inputs\":[],\"name\":\"MyFunction\",\"outputs\":[],\"payable\":false,\"stateMutability\":\"nonpayable\",\"type\":\"function\"},{\"anonymous\":false,\"inputs\":[{\"indexed\":false,\"name\":\"\",\"type\":\"string\"}],\"name\":\"MyLog\",\"type\":\"event\"}];\n",
    "var _contract=web3.eth.contract(_abiArray);\n",
    "var _address=\"0x40dc58fc998d6ed4a384e01d89ba297d5bea2863\";\n",
    "var _instance=web3.eth.contract(_abiArray).at(_address);\n",
    "var filter = _instance.MyLog(function (error, result) {\n",
    "  if (!error)\n",
    "    console.log(result);\n",
    "});\n",
    "_instance.MyFunction.sendTransaction({from:web3.eth.accounts[0]});"
   ]
  },
  {
   "cell_type": "code",
   "execution_count": null,
   "metadata": {
    "collapsed": false
   },
   "outputs": [
    {
     "name": "stdout",
     "output_type": "stream",
     "text": [
      "{ address: '0x40dc58fc998d6ed4a384e01d89ba297d5bea2863',\r\n",
      "  blockNumber: 103,\r\n",
      "  transactionHash: '0xc98b2b49f475eee6a590821e4c9b1c223fb8f8863b3ff075efb3d889a9f80f3b',\r\n",
      "  transactionIndex: 0,\r\n",
      "  blockHash: '0xaf60f519f7496773f8c841e7ef4772e2080126300f1a205cb95ce43b98c24a6a',\r\n",
      "  logIndex: 0,\r\n",
      "  removed: false,\r\n",
      "  event: 'MyLog',\r\n",
      "  args: { '': 'Hello World!' } }\r\n"
     ]
    }
   ],
   "source": [
    "!node src/testEvent2.js"
   ]
  },
  {
   "cell_type": "markdown",
   "metadata": {
    "slideshow": {
     "slide_type": "slide"
    }
   },
   "source": [
    "## 실습: Deposit"
   ]
  },
  {
   "cell_type": "markdown",
   "metadata": {
    "slideshow": {
     "slide_type": "subslide"
    }
   },
   "source": [
    "### 단계 1: 컨트랙 개발"
   ]
  },
  {
   "cell_type": "code",
   "execution_count": 5,
   "metadata": {
    "collapsed": false
   },
   "outputs": [
    {
     "name": "stdout",
     "output_type": "stream",
     "text": [
      "Overwriting src/e_testDeposit.sol\n"
     ]
    }
   ],
   "source": [
    "%%writefile src/e_testDeposit.sol\n",
    "pragma solidity ^0.5.0;\n",
    "\n",
    "contract e_testDeposit {\n",
    "    event Deposit(\n",
    "        address indexed _from,\n",
    "        bytes32 indexed _id,\n",
    "        uint _value\n",
    "    );\n",
    "    function deposit(bytes32 _id) public payable {\n",
    "        emit Deposit(msg.sender, _id, msg.value);\n",
    "    }\n",
    "}"
   ]
  },
  {
   "cell_type": "markdown",
   "metadata": {
    "slideshow": {
     "slide_type": "subslide"
    }
   },
   "source": [
    "### 단계 2: 컴파일"
   ]
  },
  {
   "cell_type": "code",
   "execution_count": 6,
   "metadata": {
    "collapsed": false
   },
   "outputs": [
    {
     "name": "stdout",
     "output_type": "stream",
     "text": [
      "Warning: This is a pre-release compiler version, please do not use it in production.\r\n",
      "\r\n",
      "======= src/e_testDeposit.sol:e_testDeposit =======\r\n",
      "Contract JSON ABI \r\n",
      "[{\"constant\":false,\"inputs\":[{\"name\":\"_id\",\"type\":\"bytes32\"}],\"name\":\"deposit\",\"outputs\":[],\"payable\":true,\"stateMutability\":\"payable\",\"type\":\"function\"},{\"anonymous\":false,\"inputs\":[{\"indexed\":true,\"name\":\"_from\",\"type\":\"address\"},{\"indexed\":true,\"name\":\"_id\",\"type\":\"bytes32\"},{\"indexed\":false,\"name\":\"_value\",\"type\":\"uint256\"}],\"name\":\"Deposit\",\"type\":\"event\"}]\r\n"
     ]
    }
   ],
   "source": [
    "!solc --abi src/e_testDeposit.sol"
   ]
  },
  {
   "cell_type": "code",
   "execution_count": 7,
   "metadata": {
    "collapsed": false
   },
   "outputs": [
    {
     "name": "stdout",
     "output_type": "stream",
     "text": [
      "Warning: This is a pre-release compiler version, please do not use it in production.\r\n",
      "\r\n",
      "======= src/e_testDeposit.sol:e_testDeposit =======\r\n",
      "Binary: \r\n",
      "6080604052348015600f57600080fd5b5060e78061001e6000396000f3fe6080604052600436106039576000357c010000000000000000000000000000000000000000000000000000000090048063b214faa514603e575b600080fd5b606760048036036020811015605257600080fd5b81019080803590602001909291905050506069565b005b803373ffffffffffffffffffffffffffffffffffffffff167f19dacbf83c5de6658e14cbf7bcae5c15eca2eedecf1c66fbca928e4d351bea0f346040518082815260200191505060405180910390a35056fea165627a7a72305820b8fc5d5b94e85b71dc3a6ce1672f4d4a7a24d46f3447825a14203c6f08f489a80029\r\n"
     ]
    }
   ],
   "source": [
    "!solc --bin src/e_testDeposit.sol"
   ]
  },
  {
   "cell_type": "code",
   "execution_count": 8,
   "metadata": {
    "collapsed": false
   },
   "outputs": [
    {
     "name": "stdout",
     "output_type": "stream",
     "text": [
      "Warning: This is a pre-release compiler version, please do not use it in production.\r\n",
      "\r\n",
      "======= src/e_testDeposit.sol:e_testDeposit =======\r\n",
      "Gas estimation:\r\n",
      "construction:\r\n",
      "   99 + 46200 = 46299\r\n",
      "external:\r\n",
      "   deposit(bytes32):\t2014\r\n"
     ]
    }
   ],
   "source": [
    "!solc --gas src/e_testDeposit.sol"
   ]
  },
  {
   "cell_type": "markdown",
   "metadata": {
    "slideshow": {
     "slide_type": "subslide"
    }
   },
   "source": [
    "### 단계 3: 컨트랙 배포\n",
    "\n",
    "* 위 abi, bin을 복사해서 사용\n",
    "* 아래는 eth를 사용해서 transactionHash, contractAddress 가져온다.\n",
    "    * transactionHash:\n",
    "\"0xdd9182988b54e6e5587295a3cf3c82567ac99050804b6353918055d5d22b95fc\"\n",
    "    * contractAddress:\n",
    "\"0xf957f93a7b95c28005af20b5f8f396ba8b6f18d0\"\n"
   ]
  },
  {
   "cell_type": "code",
   "execution_count": 11,
   "metadata": {
    "collapsed": false
   },
   "outputs": [
    {
     "name": "stdout",
     "output_type": "stream",
     "text": [
      "Overwriting src/e_testDeposit.js\n"
     ]
    }
   ],
   "source": [
    "%%writefile src/e_testDeposit.js\n",
    "var Web3=require('web3');\n",
    "var web3 = new Web3(new Web3.providers.HttpProvider(\"http://117.16.44.45:8445\"));\n",
    "var _abiArray=[{\"constant\":false,\"inputs\":[{\"name\":\"_id\",\"type\":\"bytes32\"}],\"name\":\"deposit\",\"outputs\":[],\"payable\":true,\"stateMutability\":\"payable\",\"type\":\"function\"},{\"anonymous\":false,\"inputs\":[{\"indexed\":true,\"name\":\"_from\",\"type\":\"address\"},{\"indexed\":true,\"name\":\"_id\",\"type\":\"bytes32\"},{\"indexed\":false,\"name\":\"_value\",\"type\":\"uint256\"}],\"name\":\"Deposit\",\"type\":\"event\"}];\n",
    "//var _abiArray=JSON.parse(_abiStr);\n",
    "var _bin=\"0x\"+\"6080604052348015600f57600080fd5b5060e78061001e6000396000f3fe6080604052600436106039576000357c010000000000000000000000000000000000000000000000000000000090048063b214faa514603e575b600080fd5b606760048036036020811015605257600080fd5b81019080803590602001909291905050506069565b005b803373ffffffffffffffffffffffffffffffffffffffff167f19dacbf83c5de6658e14cbf7bcae5c15eca2eedecf1c66fbca928e4d351bea0f346040518082815260200191505060405180910390a35056fea165627a7a72305820b8fc5d5b94e85b71dc3a6ce1672f4d4a7a24d46f3447825a14203c6f08f489a80029\";\n",
    "var _contract = web3.eth.contract(_abiArray);\n",
    "var _instance=_contract.new({data:_bin,from:web3.eth.accounts[0],gas:1000000}, function(err, contract) {\n",
    "  if (!err && contract.address)\n",
    "    console.log(\"contractAddress: \", contract.address);\n",
    "    console.log(\"transactionHash: \", contract.transactionHash);\n",
    "});\n",
    "console.log(\"after async - transactionHash: \",_instance.transactionHash)\n",
    "console.log(\"after async - contractAddress: \",_instance.address);"
   ]
  },
  {
   "cell_type": "code",
   "execution_count": 12,
   "metadata": {
    "collapsed": false
   },
   "outputs": [
    {
     "name": "stdout",
     "output_type": "stream",
     "text": [
      "after async - transactionHash:  null\n",
      "after async - contractAddress:  undefined\n",
      "transactionHash:  0x2c3250d1652bf0de46338aa6bcb17860bea29fa25a1c91f1a7ec64f261563183\n",
      "contractAddress:  0x5b037cd00a6be142cf669d0863d44e91a7e90d98\n",
      "transactionHash:  0x2c3250d1652bf0de46338aa6bcb17860bea29fa25a1c91f1a7ec64f261563183\n"
     ]
    }
   ],
   "source": [
    "!node src/e_testDeposit.js"
   ]
  },
  {
   "cell_type": "markdown",
   "metadata": {
    "slideshow": {
     "slide_type": "subslide"
    }
   },
   "source": [
    "### 단계 4: 사용\n",
    "\n",
    "* event는 async방식으로 호출되면 실행된다.\n",
    "* 호출한 클라이언트에 event의 argument를 받아볼 수 있다.\n",
    "    * 예: result.args._from은 주소\n",
    "\n",
    "currentProvider는 MetaMask, Mist와 같은 Wallet을 사용하는 경우 자동으로 설정된다."
   ]
  },
  {
   "cell_type": "code",
   "execution_count": 13,
   "metadata": {
    "collapsed": false
   },
   "outputs": [
    {
     "name": "stdout",
     "output_type": "stream",
     "text": [
      "Overwriting src/e_testDepositUse.js\n"
     ]
    }
   ],
   "source": [
    "%%writefile src/e_testDepositUse.js\n",
    "var Web3=require('web3');\n",
    "var web3;\n",
    "if (typeof web3 !== 'undefined') {\n",
    "    web3 = new Web3(web3.currentProvider);\n",
    "} else {\n",
    "    // set the provider you want from Web3.providers\n",
    "    web3 = new Web3(new Web3.providers.HttpProvider(\"http://117.16.44.45:8445\"));\n",
    "}\n",
    "//web3.isConnected;\n",
    "console.log(web3.eth.blockNumber);\n",
    "var _abiArray=[{\"constant\":false,\"inputs\":[{\"name\":\"_id\",\"type\":\"bytes32\"}],\"name\":\"deposit\",\"outputs\":[],\"payable\":true,\"stateMutability\":\"payable\",\"type\":\"function\"},{\"anonymous\":false,\"inputs\":[{\"indexed\":true,\"name\":\"_from\",\"type\":\"address\"},{\"indexed\":true,\"name\":\"_id\",\"type\":\"bytes32\"},{\"indexed\":false,\"name\":\"_value\",\"type\":\"uint256\"}],\"name\":\"Deposit\",\"type\":\"event\"}];\n",
    "//var _abiArray=JSON.parse(_abiStr);\n",
    "var _address = '0x5b037cd00a6be142cf669d0863d44e91a7e90d98';\n",
    "var _contract=web3.eth.contract(_abiArray);\n",
    "var _instance=_contract.at(_address);\n",
    "web3.eth.defaultAccount=web3.eth.accounts[0];\n",
    "var event = _instance.Deposit(function (error, result) {\n",
    "    if (!error) {\n",
    "        console.log(\"event deposit ===> \" + result.args._from + \n",
    "                    result.args._id + result.args._to);\n",
    "        console.log(\"result: \", result);\n",
    "        process.exit(1);\n",
    "    }\n",
    "});\n",
    "_instance.deposit.sendTransaction({from:web3.eth.accounts[0]});\n"
   ]
  },
  {
   "cell_type": "code",
   "execution_count": 14,
   "metadata": {
    "collapsed": false,
    "scrolled": true
   },
   "outputs": [
    {
     "name": "stdout",
     "output_type": "stream",
     "text": [
      "99\n",
      "event deposit ===> 0x21c704354d07f804bab01894e8b4eb4e0eba74510x7b2266726f6d223a223078323163373034333534643037663830346261623031undefined\n",
      "result:  { address: '0x5b037cd00a6be142cf669d0863d44e91a7e90d98',\n",
      "  blockNumber: 100,\n",
      "  transactionHash: '0x73d4a85338b84b673b93b035d6609c0ce0e3175cbfb0978a09fef4bae1fcb724',\n",
      "  transactionIndex: 0,\n",
      "  blockHash: '0x40841fbf25ae63a16d3f09d2d8bda3b8fbcb695c278cc8b5081be528c09b4e39',\n",
      "  logIndex: 0,\n",
      "  removed: false,\n",
      "  event: 'Deposit',\n",
      "  args: \n",
      "   { _from: '0x21c704354d07f804bab01894e8b4eb4e0eba7451',\n",
      "     _id: '0x7b2266726f6d223a223078323163373034333534643037663830346261623031',\n",
      "     _value: { [String: '0'] s: 1, e: 0, c: [Object] } } }\n"
     ]
    }
   ],
   "source": [
    "!node src/e_testDepositUse.js"
   ]
  },
  {
   "cell_type": "markdown",
   "metadata": {
    "slideshow": {
     "slide_type": "subslide"
    }
   },
   "source": [
    "## 실습 Multiply7\n",
    "\n",
    "앞서 Multiply7을 구현해 보았다. \n",
    "이벤트를 추가해서 multiply()를 실행해 보자.\n",
    "함수 내에서 변수 값을 확인하면서 디버깅 목적으로 **이벤트**가 사용되기도 한다."
   ]
  },
  {
   "cell_type": "markdown",
   "metadata": {
    "slideshow": {
     "slide_type": "subslide"
    }
   },
   "source": [
    "### 단계 1: 컨트랙 개발"
   ]
  },
  {
   "cell_type": "code",
   "execution_count": 90,
   "metadata": {
    "collapsed": false
   },
   "outputs": [
    {
     "name": "stdout",
     "output_type": "stream",
     "text": [
      "Overwriting src/Multiply7Event.sol\n"
     ]
    }
   ],
   "source": [
    "%%writefile src/Multiply7Event.sol\n",
    "pragma solidity ^0.5.0;\n",
    "contract Multiply7Event {\n",
    "    event Print(uint);\n",
    "    function multiply(uint input) public returns(uint) {\n",
    "        uint res=input*7;\n",
    "        emit Print(res);\n",
    "        return res;\n",
    "   }\n",
    "}"
   ]
  },
  {
   "cell_type": "markdown",
   "metadata": {
    "slideshow": {
     "slide_type": "subslide"
    }
   },
   "source": [
    "### 단계 2: 컴파일"
   ]
  },
  {
   "cell_type": "code",
   "execution_count": 91,
   "metadata": {
    "collapsed": false
   },
   "outputs": [
    {
     "name": "stdout",
     "output_type": "stream",
     "text": [
      "\r\n",
      "======= src/Multiply7Event.sol:Multiply7Event =======\r\n",
      "Gas estimation:\r\n",
      "construction:\r\n",
      "   99 + 50800 = 50899\r\n",
      "external:\r\n",
      "   multiply(uint256):\t1365\r\n",
      "Binary: \r\n",
      "608060405234801561001057600080fd5b5060fe8061001f6000396000f3fe6080604052348015600f57600080fd5b50600436106045576000357c010000000000000000000000000000000000000000000000000000000090048063c6888fa114604a575b600080fd5b607360048036036020811015605e57600080fd5b81019080803590602001909291905050506089565b6040518082815260200191505060405180910390f35b6000806007830290507f24abdb5865df5079dcc5ac590ff6f01d5c16edbc5fab4e195d9febd1114503da816040518082815260200191505060405180910390a18091505091905056fea165627a7a7230582046cff98a35c11661d6274a85a3b3cf0bb0a0cb33787b6fd675af2741a7009a130029\r\n",
      "Contract JSON ABI \r\n",
      "[{\"constant\":false,\"inputs\":[{\"name\":\"input\",\"type\":\"uint256\"}],\"name\":\"multiply\",\"outputs\":[{\"name\":\"\",\"type\":\"uint256\"}],\"payable\":false,\"stateMutability\":\"nonpayable\",\"type\":\"function\"},{\"anonymous\":false,\"inputs\":[{\"indexed\":false,\"name\":\"\",\"type\":\"uint256\"}],\"name\":\"Print\",\"type\":\"event\"}]\r\n"
     ]
    }
   ],
   "source": [
    "!solc --gas --abi --bin src/Multiply7Event.sol"
   ]
  },
  {
   "cell_type": "markdown",
   "metadata": {
    "slideshow": {
     "slide_type": "subslide"
    }
   },
   "source": [
    "### 단계 3: 컨트랙 배포\n",
    "* 위 abi, bin을 복사해서 붙여 넣는다."
   ]
  },
  {
   "cell_type": "code",
   "execution_count": 92,
   "metadata": {
    "collapsed": false
   },
   "outputs": [
    {
     "name": "stdout",
     "output_type": "stream",
     "text": [
      "Overwriting src/Multiply7EventDeploy.js\n"
     ]
    }
   ],
   "source": [
    "%%writefile src/Multiply7EventDeploy.js\n",
    "var Web3=require('web3');\n",
    "var web3;\n",
    "if (typeof web3 !== 'undefined') {\n",
    "    web3 = new Web3(web3.currentProvider);\n",
    "} else {\n",
    "    web3 = new Web3(new Web3.providers.HttpProvider(\"http://117.16.44.45:8445\"));\n",
    "}\n",
    "var _abiArray=[{\"constant\":false,\"inputs\":[{\"name\":\"input\",\"type\":\"uint256\"}],\"name\":\"multiply\",\"outputs\":[{\"name\":\"\",\"type\":\"uint256\"}],\"payable\":false,\"stateMutability\":\"nonpayable\",\"type\":\"function\"},{\"anonymous\":false,\"inputs\":[{\"indexed\":false,\"name\":\"\",\"type\":\"uint256\"}],\"name\":\"Print\",\"type\":\"event\"}];\n",
    "var _bin=\"608060405234801561001057600080fd5b5060fe8061001f6000396000f3fe6080604052348015600f57600080fd5b50600436106045576000357c010000000000000000000000000000000000000000000000000000000090048063c6888fa114604a575b600080fd5b607360048036036020811015605e57600080fd5b81019080803590602001909291905050506089565b6040518082815260200191505060405180910390f35b6000806007830290507f24abdb5865df5079dcc5ac590ff6f01d5c16edbc5fab4e195d9febd1114503da816040518082815260200191505060405180910390a18091505091905056fea165627a7a7230582046cff98a35c11661d6274a85a3b3cf0bb0a0cb33787b6fd675af2741a7009a130029\";\n",
    "var _contract = web3.eth.contract(_abiArray);\n",
    "//unlock the account with a password provided\n",
    "//web3.personal.unlockAccount(web3.eth.accounts[0],'password');\n",
    "var _instance=_contract.new({data:\"0x\"+_bin,from:web3.eth.accounts[0],gas:1000000}, function(err, contract) {\n",
    "    if (!err) {\n",
    "        console.log(\"contractAddress: \", contract.address);\n",
    "        console.log(\"transactionHash: \", contract.transactionHash);\n",
    "    }\n",
    "});"
   ]
  },
  {
   "cell_type": "code",
   "execution_count": 93,
   "metadata": {
    "collapsed": false
   },
   "outputs": [
    {
     "name": "stdout",
     "output_type": "stream",
     "text": [
      "contractAddress:  undefined\n",
      "transactionHash:  0xbab1ec9036f59e5f46a58365c320d2968a5dae30dffeae830146dc63c1cc137b\n",
      "contractAddress:  0xee7b78482383b57db71c9c311be3a7ec682042a7\n",
      "transactionHash:  0xbab1ec9036f59e5f46a58365c320d2968a5dae30dffeae830146dc63c1cc137b\n"
     ]
    }
   ],
   "source": [
    "!node src/Multiply7EventDeploy.js"
   ]
  },
  {
   "cell_type": "markdown",
   "metadata": {
    "slideshow": {
     "slide_type": "subslide"
    }
   },
   "source": [
    "### 단계 4: 사용\n",
    "\n",
    "```m7.Print(function (error, result)``` 명령문으로 이벤트를 리스닝하고, 이벤트가 발생하는 경우, 그 결과 ```result```를 출력하고 있다.\n",
    "이 이벤트는 ```multiply()``` 함수 내에서 발생되고 있다.\n",
    "그런 까닭에 **```multiply()``` 함수는 ```pure```로 선언할 수 있지만 ```event```를 발생하기 때문에 그렇지 못했다**.\n",
    "따라서 ```web3```에서 ```transaction```으로 호출해야 하지만. 아래 예제는 **```call()```로 호출**하였다.\n",
    "```call()``` 함수는 트랜잭션을 발생시키지 않으므로 결과는 알 수 있지만, **이벤트는 발생하지 않는다**."
   ]
  },
  {
   "cell_type": "code",
   "execution_count": 1,
   "metadata": {
    "collapsed": false
   },
   "outputs": [
    {
     "name": "stdout",
     "output_type": "stream",
     "text": [
      "Overwriting src/Multiply7EventUse.js\n"
     ]
    }
   ],
   "source": [
    "%%writefile src/Multiply7EventUse.js\n",
    "var Web3=require('web3');\n",
    "var web3 = new Web3(new Web3.providers.HttpProvider(\"http://117.16.44.45:8445\"));\n",
    "var _abiArray=[{\"constant\":false,\"inputs\":[{\"name\":\"input\",\"type\":\"uint256\"}],\"name\":\"multiply\",\"outputs\":[{\"name\":\"\",\"type\":\"uint256\"}],\"payable\":false,\"stateMutability\":\"nonpayable\",\"type\":\"function\"},{\"anonymous\":false,\"inputs\":[{\"indexed\":false,\"name\":\"\",\"type\":\"uint256\"}],\"name\":\"Print\",\"type\":\"event\"}];\n",
    "var _contract = web3.eth.contract(_abiArray);\n",
    "var m7 = _contract.at(\"0xee7b78482383b57db71c9c311be3a7ec682042a7\");\n",
    "var event = m7.Print(function (error, result) {\n",
    "    if (!error) {\n",
    "        console.log(\"event Print ===> \" + result.args.res);\n",
    "        console.log(\"result: \", result);\n",
    "        process.exit(1);\n",
    "    }\n",
    "});\n",
    "console.log(m7.multiply.call(8).toNumber());"
   ]
  },
  {
   "cell_type": "code",
   "execution_count": null,
   "metadata": {
    "collapsed": false
   },
   "outputs": [
    {
     "name": "stdout",
     "output_type": "stream",
     "text": [
      "56\r\n"
     ]
    }
   ],
   "source": [
    "!node src/Multiply7EventUse.js"
   ]
  },
  {
   "cell_type": "code",
   "execution_count": 2,
   "metadata": {
    "collapsed": false,
    "slideshow": {
     "slide_type": "subslide"
    }
   },
   "outputs": [
    {
     "name": "stdout",
     "output_type": "stream",
     "text": [
      "Overwriting src/Multiply7EventUse.js\n"
     ]
    }
   ],
   "source": [
    "%%writefile src/Multiply7EventUse.js\n",
    "var Web3=require('web3');\n",
    "var web3 = new Web3(new Web3.providers.HttpProvider(\"http://117.16.44.45:8445\"));\n",
    "var _abiArray=[{\"constant\":false,\"inputs\":[{\"name\":\"input\",\"type\":\"uint256\"}],\"name\":\"multiply\",\"outputs\":[{\"name\":\"\",\"type\":\"uint256\"}],\"payable\":false,\"stateMutability\":\"nonpayable\",\"type\":\"function\"},{\"anonymous\":false,\"inputs\":[{\"indexed\":false,\"name\":\"\",\"type\":\"uint256\"}],\"name\":\"Print\",\"type\":\"event\"}];\n",
    "var _contract = web3.eth.contract(_abiArray);\n",
    "var m7 = _contract.at(\"0xee7b78482383b57db71c9c311be3a7ec682042a7\");\n",
    "var event = m7.Print(function (error, result) {\n",
    "    if (!error) {\n",
    "        console.log(\"event Print ===> \" + result.args.res);\n",
    "        console.log(\"result: \", result);\n",
    "        process.exit(1);\n",
    "    }\n",
    "});\n",
    "console.log(m7.multiply.sendTransaction(8, {from:web3.eth.accounts[0]}));"
   ]
  },
  {
   "cell_type": "markdown",
   "metadata": {
    "slideshow": {
     "slide_type": "subslide"
    }
   },
   "source": [
    "```sendTransaction()``` 함수로 트랜잭션을 발생시켜야 블록체인에 기록이되고, 그 로그에서 이벤트가 발생이 된다."
   ]
  },
  {
   "cell_type": "code",
   "execution_count": 3,
   "metadata": {
    "collapsed": false
   },
   "outputs": [
    {
     "name": "stdout",
     "output_type": "stream",
     "text": [
      "0xb6d5172a1c18f77b3976fa30f24496c805502edb94ed9f564a61da7510b6316b\n",
      "event Print ===> undefined\n",
      "result:  { address: '0xee7b78482383b57db71c9c311be3a7ec682042a7',\n",
      "  blockNumber: 330,\n",
      "  transactionHash: '0xb6d5172a1c18f77b3976fa30f24496c805502edb94ed9f564a61da7510b6316b',\n",
      "  transactionIndex: 0,\n",
      "  blockHash: '0xdd521f6c48f0f95eea5f4b132fbb0de31f78e0e9049c320020ba0c26a0bf2b62',\n",
      "  logIndex: 0,\n",
      "  removed: false,\n",
      "  event: 'Print',\n",
      "  args: { '': { [String: '56'] s: 1, e: 1, c: [Object] } } }\n"
     ]
    }
   ],
   "source": [
    "!node src/Multiply7EventUse.js"
   ]
  },
  {
   "cell_type": "markdown",
   "metadata": {
    "slideshow": {
     "slide_type": "slide"
    }
   },
   "source": [
    "## 실습: 복수의 이벤트 사용하기\n",
    "<a id='e-11'></a>\n",
    "\n",
    "컨트랙에 이벤트를 여러 개 가질 수 있는지의 문제이다.\n",
    "이벤트 **오버로딩**도 가능한지 해보자."
   ]
  },
  {
   "cell_type": "markdown",
   "metadata": {
    "slideshow": {
     "slide_type": "subslide"
    }
   },
   "source": [
    "### 단계 1: 컨트랙 개발\n",
    "* 출처 Ethereum wiki\n",
    "\n",
    "```Test()```함수는 b를 변경하고\n",
    "그 변경된 값을 ```Event1()```, ```Event2()```함수에서 사용하였다.\n",
    "```Event1()```, ```Event2()```의 인자가 서로 다르게 설정되어 있다.\n",
    "변수 ```b```는 ```bytes16```으로 선언되어있다. 값을 입력할 경우 16진수라서 32자리를 넣었다."
   ]
  },
  {
   "cell_type": "code",
   "execution_count": 14,
   "metadata": {
    "collapsed": false
   },
   "outputs": [
    {
     "name": "stdout",
     "output_type": "stream",
     "text": [
      "Overwriting src/e_testEvent.sol\n"
     ]
    }
   ],
   "source": [
    "%%writefile src/e_testEvent.sol\n",
    "pragma solidity ^0.5.0;\n",
    "contract e_testEvent {\n",
    "    bytes16 b;\n",
    "    event Event();\n",
    "    event Event1(string a, bytes16 b);\n",
    "    event Event2(uint indexed a, bytes16 b);\n",
    "    function foo() public { emit Event(); }\n",
    "    function foo1(string memory a) public { emit Event1(a, b); }\n",
    "    function foo2(uint a) public { emit Event2(a, b); }\n",
    "    function Test() public { b = 0x12345678901234567890123456789012; }\n",
    "}"
   ]
  },
  {
   "cell_type": "markdown",
   "metadata": {
    "slideshow": {
     "slide_type": "subslide"
    }
   },
   "source": [
    "### 단계 2: 컴파일"
   ]
  },
  {
   "cell_type": "code",
   "execution_count": 15,
   "metadata": {
    "collapsed": false
   },
   "outputs": [
    {
     "name": "stdout",
     "output_type": "stream",
     "text": [
      "Warning: This is a pre-release compiler version, please do not use it in production.\r\n",
      "\r\n",
      "======= src/e_testEvent.sol:e_testEvent =======\r\n",
      "Contract JSON ABI \r\n",
      "[{\"constant\":false,\"inputs\":[{\"name\":\"a\",\"type\":\"string\"}],\"name\":\"foo1\",\"outputs\":[],\"payable\":false,\"stateMutability\":\"nonpayable\",\"type\":\"function\"},{\"constant\":false,\"inputs\":[{\"name\":\"a\",\"type\":\"uint256\"}],\"name\":\"foo2\",\"outputs\":[],\"payable\":false,\"stateMutability\":\"nonpayable\",\"type\":\"function\"},{\"constant\":false,\"inputs\":[],\"name\":\"Test\",\"outputs\":[],\"payable\":false,\"stateMutability\":\"nonpayable\",\"type\":\"function\"},{\"constant\":false,\"inputs\":[],\"name\":\"foo\",\"outputs\":[],\"payable\":false,\"stateMutability\":\"nonpayable\",\"type\":\"function\"},{\"anonymous\":false,\"inputs\":[],\"name\":\"Event\",\"type\":\"event\"},{\"anonymous\":false,\"inputs\":[{\"indexed\":false,\"name\":\"a\",\"type\":\"string\"},{\"indexed\":false,\"name\":\"b\",\"type\":\"bytes32\"}],\"name\":\"Event1\",\"type\":\"event\"},{\"anonymous\":false,\"inputs\":[{\"indexed\":true,\"name\":\"a\",\"type\":\"uint256\"},{\"indexed\":false,\"name\":\"b\",\"type\":\"bytes32\"}],\"name\":\"Event2\",\"type\":\"event\"}]\r\n"
     ]
    }
   ],
   "source": [
    "!solc --abi src/e_testEvent.sol"
   ]
  },
  {
   "cell_type": "code",
   "execution_count": 16,
   "metadata": {
    "collapsed": false
   },
   "outputs": [
    {
     "name": "stdout",
     "output_type": "stream",
     "text": [
      "Warning: This is a pre-release compiler version, please do not use it in production.\r\n",
      "\r\n",
      "======= src/e_testEvent.sol:e_testEvent =======\r\n",
      "Binary: \r\n",
      "608060405234801561001057600080fd5b50610368806100206000396000f3fe608060405234801561001057600080fd5b5060043610610069576000357c0100000000000000000000000000000000000000000000000000000000900480630d5a88e31461006e5780637d5f3b3514610129578063a163a62414610157578063c298557814610161575b600080fd5b6101276004803603602081101561008457600080fd5b81019080803590602001906401000000008111156100a157600080fd5b8201836020820111156100b357600080fd5b803590602001918460018302840111640100000000831117156100d557600080fd5b91908080601f016020809104026020016040519081016040528093929190818152602001838380828437600081840152601f19601f82011690508083019250505050505050919291929050505061016b565b005b6101556004803603602081101561013f57600080fd5b8101908080359060200190929190505050610243565b005b61015f6102af565b005b61016961030e565b005b7ff3834da63f48008a317a12dfb256979c1a39f02d84ae95367e84625468f4b580816000809054906101000a9004700100000000000000000000000000000000026040518080602001836fffffffffffffffffffffffffffffffff19168152602001828103825284818151815260200191508051906020019080838360005b838110156102055780820151818401526020810190506101ea565b50505050905090810190601f1680156102325780820380516001836020036101000a031916815260200191505b50935050505060405180910390a150565b807f672d1aedf347b9d9982314a48e91caa3aad54cb8964e7694eb445a88f9723d0b6000809054906101000a90047001000000000000000000000000000000000260405180826fffffffffffffffffffffffffffffffff1916815260200191505060405180910390a250565b6f12345678901234567890123456789012700100000000000000000000000000000000026000806101000a8154816fffffffffffffffffffffffffffffffff021916908370010000000000000000000000000000000090040217905550565b7f57050ab73f6b9ebdd9f76b8d4997793f48cf956e965ee070551b9ca0bb71584e60405160405180910390a156fea165627a7a72305820f76034aad17b1c0f27de86bc70cf18a82bd17b67ef52935d4ac6371ef5c8abb70029\r\n"
     ]
    }
   ],
   "source": [
    "!solc --bin src/e_testEvent.sol"
   ]
  },
  {
   "cell_type": "markdown",
   "metadata": {
    "slideshow": {
     "slide_type": "subslide"
    }
   },
   "source": [
    "### 단계 3: 컨트랙 배포\n",
    "\n",
    "* 위 abi, bin을 복사해서 넣는다.\n",
    "* 계정을 unlock해야 한다.\n",
    "\n",
    "```\n",
    "> personal.unlockAccount(eth.accounts[0]);\n",
    "Unlock account 0x21c704354d07f804bab01894e8b4eb4e0eba7451\n",
    "Passphrase: \n",
    "```"
   ]
  },
  {
   "cell_type": "code",
   "execution_count": 1,
   "metadata": {
    "collapsed": false
   },
   "outputs": [
    {
     "name": "stdout",
     "output_type": "stream",
     "text": [
      "Overwriting src/e_testEvent0.js\n"
     ]
    }
   ],
   "source": [
    "%%writefile src/e_testEvent0.js\n",
    "var Web3=require('web3');\n",
    "var web3 = new Web3(new Web3.providers.HttpProvider(\"http://117.16.44.45:8445\"));\n",
    "var _abiArray=[{\"constant\":false,\"inputs\":[{\"name\":\"a\",\"type\":\"string\"}],\"name\":\"foo1\",\"outputs\":[],\"payable\":false,\"stateMutability\":\"nonpayable\",\"type\":\"function\"},{\"constant\":false,\"inputs\":[{\"name\":\"a\",\"type\":\"uint256\"}],\"name\":\"foo2\",\"outputs\":[],\"payable\":false,\"stateMutability\":\"nonpayable\",\"type\":\"function\"},{\"constant\":false,\"inputs\":[],\"name\":\"Test\",\"outputs\":[],\"payable\":false,\"stateMutability\":\"nonpayable\",\"type\":\"function\"},{\"constant\":false,\"inputs\":[],\"name\":\"foo\",\"outputs\":[],\"payable\":false,\"stateMutability\":\"nonpayable\",\"type\":\"function\"},{\"anonymous\":false,\"inputs\":[],\"name\":\"Event\",\"type\":\"event\"},{\"anonymous\":false,\"inputs\":[{\"indexed\":false,\"name\":\"a\",\"type\":\"string\"},{\"indexed\":false,\"name\":\"b\",\"type\":\"bytes32\"}],\"name\":\"Event1\",\"type\":\"event\"},{\"anonymous\":false,\"inputs\":[{\"indexed\":true,\"name\":\"a\",\"type\":\"uint256\"},{\"indexed\":false,\"name\":\"b\",\"type\":\"bytes32\"}],\"name\":\"Event2\",\"type\":\"event\"}];\n",
    "//var _abiArray=JSON.parse(_abiStr);\n",
    "var _bin=\"0x\"+\"608060405234801561001057600080fd5b50610368806100206000396000f3fe608060405234801561001057600080fd5b5060043610610069576000357c0100000000000000000000000000000000000000000000000000000000900480630d5a88e31461006e5780637d5f3b3514610129578063a163a62414610157578063c298557814610161575b600080fd5b6101276004803603602081101561008457600080fd5b81019080803590602001906401000000008111156100a157600080fd5b8201836020820111156100b357600080fd5b803590602001918460018302840111640100000000831117156100d557600080fd5b91908080601f016020809104026020016040519081016040528093929190818152602001838380828437600081840152601f19601f82011690508083019250505050505050919291929050505061016b565b005b6101556004803603602081101561013f57600080fd5b8101908080359060200190929190505050610243565b005b61015f6102af565b005b61016961030e565b005b7ff3834da63f48008a317a12dfb256979c1a39f02d84ae95367e84625468f4b580816000809054906101000a9004700100000000000000000000000000000000026040518080602001836fffffffffffffffffffffffffffffffff19168152602001828103825284818151815260200191508051906020019080838360005b838110156102055780820151818401526020810190506101ea565b50505050905090810190601f1680156102325780820380516001836020036101000a031916815260200191505b50935050505060405180910390a150565b807f672d1aedf347b9d9982314a48e91caa3aad54cb8964e7694eb445a88f9723d0b6000809054906101000a90047001000000000000000000000000000000000260405180826fffffffffffffffffffffffffffffffff1916815260200191505060405180910390a250565b6f12345678901234567890123456789012700100000000000000000000000000000000026000806101000a8154816fffffffffffffffffffffffffffffffff021916908370010000000000000000000000000000000090040217905550565b7f57050ab73f6b9ebdd9f76b8d4997793f48cf956e965ee070551b9ca0bb71584e60405160405180910390a156fea165627a7a72305820f76034aad17b1c0f27de86bc70cf18a82bd17b67ef52935d4ac6371ef5c8abb70029\";\n",
    "var _contract = web3.eth.contract(_abiArray);\n",
    "var _instance=_contract.new({data:_bin,from:web3.eth.accounts[0],gas:1000000}, function(err, contract) {\n",
    "  if (!err && contract.address)\n",
    "    console.log(\"contractAddress: \", contract.address);\n",
    "    console.log(\"transactionHash: \", contract.transactionHash);\n",
    "});"
   ]
  },
  {
   "cell_type": "code",
   "execution_count": 2,
   "metadata": {
    "collapsed": false
   },
   "outputs": [
    {
     "name": "stdout",
     "output_type": "stream",
     "text": [
      "transactionHash:  0xa0c6668e78ce8d5c7636fd2e1d27124042d0f93db0258a4fe4e087ffb9acd2cd\n",
      "contractAddress:  0x96d8b65b4586b090840d6587c216d4a69071f405\n",
      "transactionHash:  0xa0c6668e78ce8d5c7636fd2e1d27124042d0f93db0258a4fe4e087ffb9acd2cd\n"
     ]
    }
   ],
   "source": [
    "!node src/e_testEvent0.js"
   ]
  },
  {
   "cell_type": "markdown",
   "metadata": {
    "slideshow": {
     "slide_type": "subslide"
    }
   },
   "source": [
    "* 위 ```transactionHash```를 가지고 ```contractAddress```를 찾는다.\n",
    "    _address=\"0x96d8b65b4586b090840d6587c216d4a69071f405\";"
   ]
  },
  {
   "cell_type": "code",
   "execution_count": 1,
   "metadata": {
    "collapsed": false
   },
   "outputs": [
    {
     "name": "stdout",
     "output_type": "stream",
     "text": [
      "{\r\n",
      "  blockHash: \u001b[32m\"0xfce7f2008aa67527c2058fe98e6ea6732b346859f369c79924fdd995ea02c217\"\u001b[0m,\r\n",
      "  blockNumber: \u001b[31m91\u001b[0m,\r\n",
      "  contractAddress: \u001b[32m\"0x96d8b65b4586b090840d6587c216d4a69071f405\"\u001b[0m,\r\n",
      "  cumulativeGasUsed: \u001b[31m280452\u001b[0m,\r\n",
      "  from: \u001b[32m\"0x21c704354d07f804bab01894e8b4eb4e0eba7451\"\u001b[0m,\r\n",
      "  gasUsed: \u001b[31m280452\u001b[0m,\r\n",
      "  logs: [],\r\n",
      "  logsBloom: \u001b[32m\"0x00000000000000000000000000000000000000000000000000000000000000000000000000000000000000000000000000000000000000000000000000000000000000000000000000000000000000000000000000000000000000000000000000000000000000000000000000000000000000000000000000000000000000000000000000000000000000000000000000000000000000000000000000000000000000000000000000000000000000000000000000000000000000000000000000000000000000000000000000000000000000000000000000000000000000000000000000000000000000000000000000000000000000000000000000000000\"\u001b[0m,\r\n",
      "  root: \u001b[32m\"0x9f04f01e8b9c37675ad32f479d063e7d7988b121ac6fcf5335ecd57dd470aa50\"\u001b[0m,\r\n",
      "  to: \u001b[1mnull\u001b[0m,\r\n",
      "  transactionHash: \u001b[32m\"0xa0c6668e78ce8d5c7636fd2e1d27124042d0f93db0258a4fe4e087ffb9acd2cd\"\u001b[0m,\r\n",
      "  transactionIndex: \u001b[31m0\u001b[0m\r\n",
      "}\r\n"
     ]
    }
   ],
   "source": [
    "!geth --exec \"eth.getTransactionReceipt('0xa0c6668e78ce8d5c7636fd2e1d27124042d0f93db0258a4fe4e087ffb9acd2cd')\" attach http://117.16.44.45:8445"
   ]
  },
  {
   "cell_type": "markdown",
   "metadata": {
    "collapsed": true,
    "slideshow": {
     "slide_type": "subslide"
    }
   },
   "source": [
    "### 단계 4: 사용"
   ]
  },
  {
   "cell_type": "code",
   "execution_count": 2,
   "metadata": {
    "collapsed": false
   },
   "outputs": [
    {
     "name": "stdout",
     "output_type": "stream",
     "text": [
      "Writing src/e_testEvent0Use.js\n"
     ]
    }
   ],
   "source": [
    "%%writefile src/e_testEvent0Use.js\n",
    "var Web3=require('web3');\n",
    "var web3 = new Web3(new Web3.providers.HttpProvider(\"http://117.16.44.45:8445\"));\n",
    "var _abiArray=[{\"constant\":false,\"inputs\":[{\"name\":\"a\",\"type\":\"string\"}],\"name\":\"foo1\",\"outputs\":[],\"payable\":false,\"stateMutability\":\"nonpayable\",\"type\":\"function\"},{\"constant\":false,\"inputs\":[{\"name\":\"a\",\"type\":\"uint256\"}],\"name\":\"foo2\",\"outputs\":[],\"payable\":false,\"stateMutability\":\"nonpayable\",\"type\":\"function\"},{\"constant\":false,\"inputs\":[],\"name\":\"Test\",\"outputs\":[],\"payable\":false,\"stateMutability\":\"nonpayable\",\"type\":\"function\"},{\"constant\":false,\"inputs\":[],\"name\":\"foo\",\"outputs\":[],\"payable\":false,\"stateMutability\":\"nonpayable\",\"type\":\"function\"},{\"anonymous\":false,\"inputs\":[],\"name\":\"Event\",\"type\":\"event\"},{\"anonymous\":false,\"inputs\":[{\"indexed\":false,\"name\":\"a\",\"type\":\"string\"},{\"indexed\":false,\"name\":\"b\",\"type\":\"bytes32\"}],\"name\":\"Event1\",\"type\":\"event\"},{\"anonymous\":false,\"inputs\":[{\"indexed\":true,\"name\":\"a\",\"type\":\"uint256\"},{\"indexed\":false,\"name\":\"b\",\"type\":\"bytes32\"}],\"name\":\"Event2\",\"type\":\"event\"}];\n",
    "var e_testContract = web3.eth.contract(_abiArray);\n",
    "//                              0x96d8b65b4586b090840d6587c216d4a69071f405\n",
    "var e_test = e_testContract.at(\"0x96d8b65b4586b090840d6587c216d4a69071f405\");\n",
    "var event = e_test.Event(function (error, result) {\n",
    "    if (!error) {\n",
    "        console.log(\"e_test: event triggered =====> \",result);\n",
    "        process.exit(1);\n",
    "    }\n",
    "});\n",
    "console.log(e_test.foo({from:web3.eth.accounts[0],gas:100000}));"
   ]
  },
  {
   "cell_type": "code",
   "execution_count": 4,
   "metadata": {
    "collapsed": false,
    "scrolled": true,
    "slideshow": {
     "slide_type": "subslide"
    }
   },
   "outputs": [
    {
     "name": "stdout",
     "output_type": "stream",
     "text": [
      "0x4cf293174217fb0235d27ae32bea25b2bb14e94a0a4a2ffa0842270d02a43e97\n",
      "e_test: event triggered =====>  { address: '0x96d8b65b4586b090840d6587c216d4a69071f405',\n",
      "  blockNumber: 92,\n",
      "  transactionHash: '0x4cf293174217fb0235d27ae32bea25b2bb14e94a0a4a2ffa0842270d02a43e97',\n",
      "  transactionIndex: 0,\n",
      "  blockHash: '0x58cb83818b9e079b487d50f814c4ffd550c8a990e595c681528407d299d1945f',\n",
      "  logIndex: 0,\n",
      "  removed: false,\n",
      "  event: 'Event',\n",
      "  args: {} }\n"
     ]
    }
   ],
   "source": [
    "!node src/e_testEvent0Use.js"
   ]
  },
  {
   "cell_type": "markdown",
   "metadata": {
    "slideshow": {
     "slide_type": "subslide"
    }
   },
   "source": [
    "event가 발생하려면, 로그에 기록이 되어야 하므로 ```sendTransaction()``` 함수를 사용한다 \n",
    "\n",
    "아래 callback 함수 ```Event```, ```Event1``` 2개를 하나의 프로그램에서 호출하면 1개만 실행되어 주의가 필요하다.\n",
    "```Event1```은 인자가 있지만 callback 함수는 변경이 없다. 즉 인자를 넣어서 이벤트 callback을 하지 않는다.\n"
   ]
  },
  {
   "cell_type": "code",
   "execution_count": 10,
   "metadata": {
    "collapsed": false
   },
   "outputs": [
    {
     "name": "stdout",
     "output_type": "stream",
     "text": [
      "Overwriting src/e_testEvent0Use1.js\n"
     ]
    }
   ],
   "source": [
    "%%writefile src/e_testEvent0Use1.js\n",
    "var Web3=require('web3');\n",
    "var web3 = new Web3(new Web3.providers.HttpProvider(\"http://117.16.44.45:8445\"));\n",
    "var _abiArray=[{\"constant\":false,\"inputs\":[{\"name\":\"a\",\"type\":\"string\"}],\"name\":\"foo1\",\"outputs\":[],\"payable\":false,\"stateMutability\":\"nonpayable\",\"type\":\"function\"},{\"constant\":false,\"inputs\":[{\"name\":\"a\",\"type\":\"uint256\"}],\"name\":\"foo2\",\"outputs\":[],\"payable\":false,\"stateMutability\":\"nonpayable\",\"type\":\"function\"},{\"constant\":false,\"inputs\":[],\"name\":\"Test\",\"outputs\":[],\"payable\":false,\"stateMutability\":\"nonpayable\",\"type\":\"function\"},{\"constant\":false,\"inputs\":[],\"name\":\"foo\",\"outputs\":[],\"payable\":false,\"stateMutability\":\"nonpayable\",\"type\":\"function\"},{\"anonymous\":false,\"inputs\":[],\"name\":\"Event\",\"type\":\"event\"},{\"anonymous\":false,\"inputs\":[{\"indexed\":false,\"name\":\"a\",\"type\":\"string\"},{\"indexed\":false,\"name\":\"b\",\"type\":\"bytes32\"}],\"name\":\"Event1\",\"type\":\"event\"},{\"anonymous\":false,\"inputs\":[{\"indexed\":true,\"name\":\"a\",\"type\":\"uint256\"},{\"indexed\":false,\"name\":\"b\",\"type\":\"bytes32\"}],\"name\":\"Event2\",\"type\":\"event\"}];\n",
    "var e_testContract = web3.eth.contract(_abiArray);\n",
    "//                              0x96d8b65b4586b090840d6587c216d4a69071f405\n",
    "var e_test = e_testContract.at(\"0x96d8b65b4586b090840d6587c216d4a69071f405\");\n",
    "/*var event = e_test.Event(function (error, result) {\n",
    "    if (!error) {\n",
    "        console.log(\"e_test: event triggered =====> \",result);\n",
    "        process.exit(1);\n",
    "    }\n",
    "});\n",
    "console.log(e_test.foo.sendTransaction({from:web3.eth.accounts[0],gas:100000}));*/\n",
    "var event = e_test.Event1(function (error, result) {\n",
    "    if (!error) {\n",
    "        console.log(\"e_test: event1 triggered =====> \",result);\n",
    "        process.exit(1);\n",
    "    }\n",
    "});\n",
    "console.log(e_test.Test.sendTransaction({from:web3.eth.accounts[0],gas:100000}));\n",
    "console.log(e_test.foo1.sendTransaction(\"hello from foo1\",{from:web3.eth.accounts[0],gas:100000}));\n"
   ]
  },
  {
   "cell_type": "code",
   "execution_count": 11,
   "metadata": {
    "collapsed": false
   },
   "outputs": [
    {
     "name": "stdout",
     "output_type": "stream",
     "text": [
      "0x349832b21cdf5a95d1ef18e6028a6df015464588d206f3f63ee9971f73e09051\n",
      "0x745c2618f76bd60d5ddc6e7d3bb43f476f5116defef9b409f65bec0ad2896f5b\n",
      "e_test: event1 triggered =====>  { address: '0x96d8b65b4586b090840d6587c216d4a69071f405',\n",
      "  blockNumber: 97,\n",
      "  transactionHash: '0xa10b90425d8c78a8aa7feca94af1ee12517b2c589ba9e01840eb0cce268b864e',\n",
      "  transactionIndex: 2,\n",
      "  blockHash: '0xe258501df975bdb75a583ebef130f879e3717503f0d06e59f6f2861d942542da',\n",
      "  logIndex: 1,\n",
      "  removed: false,\n",
      "  event: 'Event1',\n",
      "  args: \n",
      "   { a: 'hello from foo1',\n",
      "     b: '0x1234567890123456789012345678901200000000000000000000000000000000' } }\n"
     ]
    }
   ],
   "source": [
    "!node src/e_testEvent0Use1.js"
   ]
  },
  {
   "cell_type": "markdown",
   "metadata": {
    "slideshow": {
     "slide_type": "slide"
    }
   },
   "source": [
    "## 10.5 fallback\n",
    "<a id='S.3.4'></a>\n",
    "\n",
    "fallback() 함수는 보통 함수와는 다른 기능을 가진다.\n",
    "사용자가 호출하지 않는다. 따라서 **이름, 인자와 반환 값이 없는 함수**이다.\n",
    "또한 컨트랙에 **하나의 fallback 함수**만 존재할 수 있다.\n",
    "\n",
    "fallback함수가 없으면 **예외**가 발생하게 된다. \n",
    "fallback이 호출되는 경우는:\n",
    "* 사용자가 호출한 함수가 **존재하지 않을 경우**에 호출된다.\n",
    "아래에서 callA() 함수를 호출해야 하는데 잘 못하여 callB()를 호출했다고 하자.\n",
    "그러면 존재하지 않는 callB()를 실행하지 못하고 fallback()을 실행한다.\n",
    "* 또한 ether를 **송금했는데 데이터를 비워서 호출**하게 되면 fallback()이 호출된다.\n",
    "\n"
   ]
  },
  {
   "cell_type": "markdown",
   "metadata": {
    "slideshow": {
     "slide_type": "slide"
    }
   },
   "source": [
    "## 실습: fallback\n",
    "\n",
    "존재하지 않는 함수를 호출해서 강제적으로 fallback 함수를 실행해 본다."
   ]
  },
  {
   "cell_type": "markdown",
   "metadata": {
    "slideshow": {
     "slide_type": "subslide"
    }
   },
   "source": [
    "### 단계 1: 컨트랙 개발"
   ]
  },
  {
   "cell_type": "code",
   "execution_count": 1,
   "metadata": {
    "collapsed": false
   },
   "outputs": [
    {
     "name": "stdout",
     "output_type": "stream",
     "text": [
      "Writing src/FallbackTest.sol\n"
     ]
    }
   ],
   "source": [
    "%%writefile src/FallbackTest.sol\n",
    "pragma solidity ^0.5.0;\n",
    "contract FallbackTest {\n",
    "    event PrintLog(string);\n",
    "    function callA () pure public returns(string memory){\n",
    "        return \"doing callA\";\n",
    "    }\n",
    "    function() external {\n",
    "        emit PrintLog(\"fallback called\");\n",
    "    }\n",
    "}"
   ]
  },
  {
   "cell_type": "markdown",
   "metadata": {
    "slideshow": {
     "slide_type": "subslide"
    }
   },
   "source": [
    "### 단계 2: 컴파일"
   ]
  },
  {
   "cell_type": "code",
   "execution_count": 3,
   "metadata": {
    "collapsed": false,
    "scrolled": true
   },
   "outputs": [
    {
     "name": "stdout",
     "output_type": "stream",
     "text": [
      "\r\n",
      "======= src/FallbackTest.sol:FallbackTest =======\r\n",
      "Gas estimation:\r\n",
      "construction:\r\n",
      "   129 + 82800 = 82929\r\n",
      "external:\r\n",
      "   fallback:\t1729\r\n",
      "   callA():\tinfinite\r\n",
      "Binary: \r\n",
      "608060405234801561001057600080fd5b5061019e806100206000396000f3fe608060405234801561001057600080fd5b5060043610610048576000357c010000000000000000000000000000000000000000000000000000000090048063e7f09e05146100b2575b7f968f0302429ff0e5bd56a45ce3ba1f4fa79f4b822857e438616435f00c3b59fd60405180806020018281038252600f8152602001807f66616c6c6261636b2063616c6c6564000000000000000000000000000000000081525060200191505060405180910390a1005b6100ba610135565b6040518080602001828103825283818151815260200191508051906020019080838360005b838110156100fa5780820151818401526020810190506100df565b50505050905090810190601f1680156101275780820380516001836020036101000a031916815260200191505b509250505060405180910390f35b60606040805190810160405280600b81526020017f646f696e672063616c6c4100000000000000000000000000000000000000000081525090509056fea165627a7a72305820eebb5fe6a9199558a5ae72300540824638cef5eb55bc15bba28146b1b2477f830029\r\n",
      "Contract JSON ABI \r\n",
      "[{\"constant\":true,\"inputs\":[],\"name\":\"callA\",\"outputs\":[{\"name\":\"\",\"type\":\"string\"}],\"payable\":false,\"stateMutability\":\"pure\",\"type\":\"function\"},{\"payable\":false,\"stateMutability\":\"nonpayable\",\"type\":\"fallback\"},{\"anonymous\":false,\"inputs\":[{\"indexed\":false,\"name\":\"\",\"type\":\"string\"}],\"name\":\"PrintLog\",\"type\":\"event\"}]\r\n"
     ]
    }
   ],
   "source": [
    "!solc --gas --abi --bin -- src/FallbackTest.sol"
   ]
  },
  {
   "cell_type": "markdown",
   "metadata": {
    "slideshow": {
     "slide_type": "subslide"
    }
   },
   "source": [
    "### 단계 3: 컨트랙 배포"
   ]
  },
  {
   "cell_type": "code",
   "execution_count": 4,
   "metadata": {
    "collapsed": false
   },
   "outputs": [
    {
     "name": "stdout",
     "output_type": "stream",
     "text": [
      "Writing src/FallbackTestDeploy.js\n"
     ]
    }
   ],
   "source": [
    "%%writefile src/FallbackTestDeploy.js\n",
    "var Web3=require('web3');\n",
    "var web3;\n",
    "if (typeof web3 !== 'undefined') {\n",
    "    web3 = new Web3(web3.currentProvider);\n",
    "} else {\n",
    "    web3 = new Web3(new Web3.providers.HttpProvider(\"http://117.16.44.45:8445\"));\n",
    "}\n",
    "var _abiArray=[{\"constant\":true,\"inputs\":[],\"name\":\"callA\",\"outputs\":[{\"name\":\"\",\"type\":\"string\"}],\"payable\":false,\"stateMutability\":\"pure\",\"type\":\"function\"},{\"payable\":false,\"stateMutability\":\"nonpayable\",\"type\":\"fallback\"},{\"anonymous\":false,\"inputs\":[{\"indexed\":false,\"name\":\"\",\"type\":\"string\"}],\"name\":\"PrintLog\",\"type\":\"event\"}];\n",
    "var _bin=\"608060405234801561001057600080fd5b5061019e806100206000396000f3fe608060405234801561001057600080fd5b5060043610610048576000357c010000000000000000000000000000000000000000000000000000000090048063e7f09e05146100b2575b7f968f0302429ff0e5bd56a45ce3ba1f4fa79f4b822857e438616435f00c3b59fd60405180806020018281038252600f8152602001807f66616c6c6261636b2063616c6c6564000000000000000000000000000000000081525060200191505060405180910390a1005b6100ba610135565b6040518080602001828103825283818151815260200191508051906020019080838360005b838110156100fa5780820151818401526020810190506100df565b50505050905090810190601f1680156101275780820380516001836020036101000a031916815260200191505b509250505060405180910390f35b60606040805190810160405280600b81526020017f646f696e672063616c6c4100000000000000000000000000000000000000000081525090509056fea165627a7a72305820eebb5fe6a9199558a5ae72300540824638cef5eb55bc15bba28146b1b2477f830029\";\n",
    "var _contract = web3.eth.contract(_abiArray);\n",
    "//unlock the account with a password provided\n",
    "//web3.personal.unlockAccount(web3.eth.accounts[0],'password');\n",
    "var _instance=_contract.new({data:\"0x\"+_bin,from:web3.eth.accounts[0]}, function(err, contract) {\n",
    "    if (!err) {\n",
    "        console.log(\"contractAddress: \", contract.address);\n",
    "        console.log(\"transactionHash: \", contract.transactionHash);\n",
    "    }\n",
    "});"
   ]
  },
  {
   "cell_type": "code",
   "execution_count": 5,
   "metadata": {
    "collapsed": false
   },
   "outputs": [
    {
     "name": "stdout",
     "output_type": "stream",
     "text": [
      "contractAddress:  undefined\n",
      "transactionHash:  0xdb494cdded3d974b673855f6443744b5a03a893c9f94e5b216e8e57d895a3126\n",
      "contractAddress:  0x3ab1841c257571342e04b0fc898d2e63050585b2\n",
      "transactionHash:  0xdb494cdded3d974b673855f6443744b5a03a893c9f94e5b216e8e57d895a3126\n"
     ]
    }
   ],
   "source": [
    "!node src/FallbackTestDeploy.js"
   ]
  },
  {
   "cell_type": "markdown",
   "metadata": {
    "slideshow": {
     "slide_type": "subslide"
    }
   },
   "source": [
    "### 단계 4: 배포"
   ]
  },
  {
   "cell_type": "code",
   "execution_count": 3,
   "metadata": {
    "collapsed": false
   },
   "outputs": [
    {
     "name": "stdout",
     "output_type": "stream",
     "text": [
      "Overwriting src/FallbackTestUse.js\n"
     ]
    }
   ],
   "source": [
    "%%writefile src/FallbackTestUse.js\n",
    "var Web3=require('web3');\n",
    "var web3 = new Web3(new Web3.providers.HttpProvider(\"http://117.16.44.45:8445\"));\n",
    "var _abiArray=[{\"constant\":true,\"inputs\":[],\"name\":\"callA\",\"outputs\":[{\"name\":\"\",\"type\":\"string\"}],\"payable\":false,\"stateMutability\":\"pure\",\"type\":\"function\"},{\"payable\":false,\"stateMutability\":\"nonpayable\",\"type\":\"fallback\"},{\"anonymous\":false,\"inputs\":[{\"indexed\":false,\"name\":\"\",\"type\":\"string\"}],\"name\":\"PrintLog\",\"type\":\"event\"}];\n",
    "var _contract = web3.eth.contract(_abiArray);\n",
    "var fallback = _contract.at(\"0x3ab1841c257571342e04b0fc898d2e63050585b2\");\n",
    "var filter = fallback.PrintLog(function (error, result) {\n",
    "  if (!error)\n",
    "    console.log(result);\n",
    "});\n",
    "web3.eth.sendTransaction({from:web3.eth.accounts[0], to:\"0x3ab1841c257571342e04b0fc898d2e63050585b2\"});"
   ]
  },
  {
   "cell_type": "markdown",
   "metadata": {
    "slideshow": {
     "slide_type": "subslide"
    }
   },
   "source": [
    "#### 존재하지 않는 function selector\n",
    "\n",
    "**존재하지 않는 함수를 호출**하면 fallback함수가 호출된다.\n",
    "클라이언트에서 web3를 사용하면, 존재하지 않는 함수를 호출할 수 있는 방법은 없다.\n",
    "가능한 방법은 ```web3.eth.sendTransaction()```의 ```data```, 즉 ```msg.data```를 수정하면 된다. 앞서 설명한 **function selector** (호출할 함수시그니처의 sha3 해시값으로 만들고, 앞 4바이트)가 존재하지 않도록 수정해야 한다.\n",
    "```python\n",
    "<address>.call(bytes4(bytes32(sha3(\"baz(uint32,bool)\")))\n",
    "```\n",
    "\n",
    "아쉬운대로 다음과 같이 **함수명을 생략하여 강제적으로 존재하지 않는 함수**를 호출한다.\n",
    "즉 컨트랙 주소로 그냥 트랜잭션을 전송하여 없는 함수가 호출된 것처럼 한다.\n",
    "\n",
    "```python\n",
    "web3.eth.sendTransaction({from:web3.eth.accounts[0], to:<<contract address>>});\n",
    "```"
   ]
  },
  {
   "cell_type": "code",
   "execution_count": null,
   "metadata": {
    "collapsed": false
   },
   "outputs": [
    {
     "name": "stdout",
     "output_type": "stream",
     "text": [
      "{ address: '0x3ab1841c257571342e04b0fc898d2e63050585b2',\r\n",
      "  blockNumber: 45484,\r\n",
      "  transactionHash: '0x5725425ea888cfcad16298c2e4a1d3fd71cbb2880230b82762ac5be12fee7def',\r\n",
      "  transactionIndex: 0,\r\n",
      "  blockHash: '0xe4e9f371bb90f67279e9284c17451cba53b5eb850ed416249fe32b64f801e20c',\r\n",
      "  logIndex: 0,\r\n",
      "  removed: false,\r\n",
      "  event: 'PrintLog',\r\n",
      "  args: { '': 'fallback called' } }\r\n"
     ]
    }
   ],
   "source": [
    "!node src/FallbackTestUse.js"
   ]
  },
  {
   "cell_type": "markdown",
   "metadata": {
    "slideshow": {
     "slide_type": "subslide"
    }
   },
   "source": [
    "## 실습: payable fallback\n",
    "\n",
    "앞서 존재하지 않는 함수를 호출하는 경우, ```fallback```함수가 호출되었다.\n",
    "또한 금액없이 송금을 하여도 ```fallback```함수가 호출된다.\n",
    "\n",
    "송금을 하면서 오류가 발생하여 ```fallback```이 호출된다 하더라도 송금액은 받을 수 없다.\n",
    "단, ```payable fabllback```으로 선언하면 송금액을 받을 수 있다.\n",
    "\n",
    "```python\n",
    "function () payable {}\n",
    "```\n"
   ]
  },
  {
   "cell_type": "markdown",
   "metadata": {
    "slideshow": {
     "slide_type": "subslide"
    }
   },
   "source": [
    "### 단계 1: 컨트랙 개발"
   ]
  },
  {
   "cell_type": "code",
   "execution_count": 37,
   "metadata": {
    "collapsed": false
   },
   "outputs": [
    {
     "name": "stdout",
     "output_type": "stream",
     "text": [
      "Writing src/MathMultiply7.sol\n"
     ]
    }
   ],
   "source": [
    "%%writefile src/MathMultiply7.sol\n",
    "pragma solidity 0.4.21;\n",
    "\n",
    "contract Multiply7 {\n",
    "   event Print(uint);\n",
    "   function () payable {}\n",
    "   function multiply(uint input) public view returns (uint) {\n",
    "      Print(input * 7);\n",
    "      return input * 7;\n",
    "   }\n",
    "}\n",
    "\n",
    "contract Math {\n",
    "    Multiply7 m7=new Multiply7();\n",
    "    function deposit(uint amount) payable public {\n",
    "        require(msg.value==amount);\n",
    "    }\n",
    "    function m7set(address _addr) { m7 = Multiply7(_addr); }\n",
    "    function multiply() public view returns(uint) {\n",
    "        uint res=m7.multiply(8);\n",
    "        //this.send11(); It does not send value.\n",
    "        return res;\n",
    "    }\n",
    "    function send11() public returns(uint) {\n",
    "        //m7.multiply.value(11)(9);\n",
    "        m7.call.value(11)();\n",
    "    }\n",
    "    function queryBalance() public view returns(uint) {\n",
    "        return address(this).balance;\n",
    "    }\n",
    "    function queryBalanceM7() public view returns(uint) {\n",
    "        return address(m7).balance;\n",
    "    }\n",
    "}"
   ]
  },
  {
   "cell_type": "markdown",
   "metadata": {
    "slideshow": {
     "slide_type": "subslide"
    }
   },
   "source": [
    "### 단계 2: 컴파일\n",
    "\n",
    "설치된 컴파일러 버전과 다른 0.4.21을 사용하기 위해 REMIX를 사용한다."
   ]
  },
  {
   "cell_type": "markdown",
   "metadata": {
    "slideshow": {
     "slide_type": "subslide"
    }
   },
   "source": [
    "### 단계 3: 컨트랙 배포"
   ]
  },
  {
   "cell_type": "code",
   "execution_count": 45,
   "metadata": {
    "collapsed": false
   },
   "outputs": [
    {
     "name": "stdout",
     "output_type": "stream",
     "text": [
      "Overwriting src/MathMultiply7Deploy.js\n"
     ]
    }
   ],
   "source": [
    "%%writefile src/MathMultiply7Deploy.js\n",
    "var Web3=require('web3');\n",
    "var web3;\n",
    "if (typeof web3 !== 'undefined') {\n",
    "    web3 = new Web3(web3.currentProvider);\n",
    "} else {\n",
    "    web3 = new Web3(new Web3.providers.HttpProvider(\"http://117.16.44.45:8445\"));\n",
    "}\n",
    "//taken from REMIX from here\n",
    "var mathContract = web3.eth.contract([{\"constant\":true,\"inputs\":[],\"name\":\"queryBalance\",\"outputs\":[{\"name\":\"\",\"type\":\"uint256\"}],\"payable\":false,\"stateMutability\":\"view\",\"type\":\"function\"},{\"constant\":false,\"inputs\":[],\"name\":\"send11\",\"outputs\":[{\"name\":\"\",\"type\":\"uint256\"}],\"payable\":false,\"stateMutability\":\"nonpayable\",\"type\":\"function\"},{\"constant\":false,\"inputs\":[{\"name\":\"amount\",\"type\":\"uint256\"}],\"name\":\"deposit\",\"outputs\":[],\"payable\":true,\"stateMutability\":\"payable\",\"type\":\"function\"},{\"constant\":true,\"inputs\":[],\"name\":\"queryBalanceM7\",\"outputs\":[{\"name\":\"\",\"type\":\"uint256\"}],\"payable\":false,\"stateMutability\":\"view\",\"type\":\"function\"},{\"constant\":true,\"inputs\":[],\"name\":\"multiply\",\"outputs\":[{\"name\":\"\",\"type\":\"uint256\"}],\"payable\":false,\"stateMutability\":\"view\",\"type\":\"function\"},{\"constant\":false,\"inputs\":[{\"name\":\"_addr\",\"type\":\"address\"}],\"name\":\"m7set\",\"outputs\":[],\"payable\":false,\"stateMutability\":\"nonpayable\",\"type\":\"function\"}]);\n",
    "var math = mathContract.new(\n",
    "   {\n",
    "     from: web3.eth.accounts[0], \n",
    "     data: '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', \n",
    "     gas: '4700000'\n",
    "   }, function (e, contract){\n",
    "    //console.log(e, contract);\n",
    "    if (typeof contract.address !== 'undefined') {\n",
    "         console.log('Contract mined! address: ' + contract.address + ' transactionHash: ' + contract.transactionHash);\n",
    "    }\n",
    " })"
   ]
  },
  {
   "cell_type": "code",
   "execution_count": 46,
   "metadata": {
    "collapsed": false
   },
   "outputs": [
    {
     "name": "stdout",
     "output_type": "stream",
     "text": [
      "Contract mined! address: 0xf803dac95ea40f03736060114dfb9cca9ee7d514 transactionHash: 0x9551f9ea5a47180048c2ffd069586a934bb1c29e616712b944b228228c941966\r\n"
     ]
    }
   ],
   "source": [
    "!node src/MathMultiply7Deploy.js"
   ]
  },
  {
   "cell_type": "markdown",
   "metadata": {
    "slideshow": {
     "slide_type": "subslide"
    }
   },
   "source": [
    "### 단계 4: 사용\n",
    "\n",
    "9를 곱하면서 ```11 wei```를 송금하려면 ```m7.multiply.value(11)(9)```로 호출할 수 있다.\n",
    "송금하면서 ```payable fabllback```를 호출되게 하기 위해 의도적으로 아래와 같이 존재하지 않는 함수를 호출하였다.\n",
    "\n",
    "```python\n",
    "call.value()();\n",
    "```\n",
    "\n",
    "송금하려면 물론 ```deposit()```을 먼저해야 한다.\n",
    "\n",
    "1. ```deposit(123)```\n",
    "value를 반드시 함수인자와 동일하게 입력해야 한다.\n",
    "REMIX에서 할 경우에도 마찬가지이다. ```Run``` 탭 상단의 ```value```, ```Deployed Contracts``` 함수의 인자 두 필드에 동일한 금액을 넣어준다.\n",
    "2. ```queryBalance()``` --> 123 입금하고 난 후의 잔고\n",
    "3. ```queryBalanceM7()``` ---> 0\n",
    "4. ```send11()```\n",
    "존재하지 않는 함수를 호출하여 ```m7.call.value(11)()```,\n",
    "다른 컨트랙 ```Multiply7```의 ```payable fallback``` 함수를 호출하여 ```11 Wei```를 송금한다.\n",
    "5. ```queryBalance()``` ---> 112\n",
    "6. ```queryBalanceM7()``` ---> 11 ```payable fallback``` **존재하지 않는 함수를 호출하는 오류에도 불구하고 11 wei 송금 성공**\n",
    "\n",
    "```python\n",
    "> var math = mathContract.at(\"0xf803dac95ea40f03736060114dfb9cca9ee7d514\");\n",
    "undefined\n",
    "> math.deposit.sendTransaction(123,{from:web3.eth.accounts[0], value:123});   value와 인자를 동일하게 123으로 입금\n",
    "'0x9aa405b5780c999755ae85c3bc852a1e3b09a7d29b6fea20cdfb1af2ac4da19d'          REMIX에서도 마찬가지로 value와 인자를 일치시킴.\n",
    "> //miner.start(1);admin.sleepBlocks(1);miner.stop();\n",
    "undefined\n",
    "> math.queryBalance.call().toNumber();                                        마이닝하고 나면 잔고 123\n",
    "123\n",
    "> math.queryBalanceM7.call().toNumber();                                      Multiply7 잔고는 0\n",
    "0\n",
    "> math.send11({from:web3.eth.accounts[0]});                                   call.value(11)로 송금\n",
    "'0x9c497939df2a5d37cc7f9bf29b0f149831b82bfb841c2163badd360cba5f3360'\n",
    "> //miner.start(1);admin.sleepBlocks(1);miner.stop();\n",
    "undefined\n",
    "> math.queryBalance.call().toNumber();                                        마이닝하고 나면 잔고 112=123-11\n",
    "112\n",
    "> math.queryBalanceM7.call().toNumber();                                      Multiply7 잔고는 11증가\n",
    "11\n",
    "> math.multiply.call().toNumber();                                            함수내 8은 이미 입력되어 있으므로 56 = 8 x 7\n",
    "56\n",
    "```"
   ]
  },
  {
   "cell_type": "code",
   "execution_count": 4,
   "metadata": {
    "collapsed": false,
    "slideshow": {
     "slide_type": "subslide"
    }
   },
   "outputs": [
    {
     "name": "stdout",
     "output_type": "stream",
     "text": [
      "Overwriting src/MathMultiply7Use.js\n"
     ]
    }
   ],
   "source": [
    "%%writefile src/MathMultiply7Use.js\n",
    "var Web3=require('web3');\n",
    "var web3 = new Web3(new Web3.providers.HttpProvider(\"http://117.16.44.45:8445\"));\n",
    "var mathContract = web3.eth.contract([{\"constant\":true,\"inputs\":[],\"name\":\"queryBalance\",\"outputs\":[{\"name\":\"\",\"type\":\"uint256\"}],\"payable\":false,\"stateMutability\":\"view\",\"type\":\"function\"},{\"constant\":false,\"inputs\":[],\"name\":\"send11\",\"outputs\":[{\"name\":\"\",\"type\":\"uint256\"}],\"payable\":false,\"stateMutability\":\"nonpayable\",\"type\":\"function\"},{\"constant\":false,\"inputs\":[{\"name\":\"amount\",\"type\":\"uint256\"}],\"name\":\"deposit\",\"outputs\":[],\"payable\":true,\"stateMutability\":\"payable\",\"type\":\"function\"},{\"constant\":true,\"inputs\":[],\"name\":\"queryBalanceM7\",\"outputs\":[{\"name\":\"\",\"type\":\"uint256\"}],\"payable\":false,\"stateMutability\":\"view\",\"type\":\"function\"},{\"constant\":true,\"inputs\":[],\"name\":\"multiply\",\"outputs\":[{\"name\":\"\",\"type\":\"uint256\"}],\"payable\":false,\"stateMutability\":\"view\",\"type\":\"function\"},{\"constant\":false,\"inputs\":[{\"name\":\"_addr\",\"type\":\"address\"}],\"name\":\"m7set\",\"outputs\":[],\"payable\":false,\"stateMutability\":\"nonpayable\",\"type\":\"function\"}]);\n",
    "var math = mathContract.at(\"0xf803dac95ea40f03736060114dfb9cca9ee7d514\");\n",
    "console.log(\"deposit 123...\"+math.deposit.sendTransaction(123,{from:web3.eth.accounts[0], value:123}));\n",
    "console.log(\"math balance: \"+math.queryBalance.call().toNumber());\n",
    "math.send11({from:web3.eth.accounts[0]});\n",
    "console.log(\"math balance: \"+math.queryBalance.call().toNumber());\n",
    "console.log(\"m7 balance: \"+math.queryBalanceM7.call().toNumber());\n",
    "math.multiply.call().toNumber();"
   ]
  },
  {
   "cell_type": "code",
   "execution_count": 5,
   "metadata": {
    "collapsed": false
   },
   "outputs": [
    {
     "name": "stdout",
     "output_type": "stream",
     "text": [
      "deposit 123...0x3302ab96350ac6847fd7720470d3fb8f33b1635e1a7360d6c3fa14435acfc79d\n",
      "math balance: 224\n",
      "math balance: 224\n",
      "m7 balance: 22\n"
     ]
    }
   ],
   "source": [
    "!node src/MathMultiply7Use.js"
   ]
  },
  {
   "cell_type": "markdown",
   "metadata": {
    "slideshow": {
     "slide_type": "subslide"
    }
   },
   "source": [
    "비동기 방식이라 마이닝을 하지 않으면 잔고조회가 올바르지 않을 수 있다.\n",
    "node로 한 줄씩 실행하고 마이닝을 해가면서 결과를 확인해야 한다."
   ]
  },
  {
   "cell_type": "code",
   "execution_count": 6,
   "metadata": {
    "collapsed": false,
    "scrolled": false
   },
   "outputs": [
    {
     "name": "stdout",
     "output_type": "stream",
     "text": [
      "deposit 123...0x9fb715bff96730b3ec4e5d0be39bc4b299495e36bdb2b05a318e55495f1fc6b7\n",
      "math balance: 336\n",
      "math balance: 336\n",
      "m7 balance: 33\n"
     ]
    }
   ],
   "source": [
    "!node src/MathMultiply7Use.js"
   ]
  },
  {
   "cell_type": "code",
   "execution_count": null,
   "metadata": {
    "collapsed": true
   },
   "outputs": [],
   "source": []
  }
 ],
 "metadata": {
  "celltoolbar": "Slideshow",
  "kernelspec": {
   "display_name": "Python 2",
   "language": "python",
   "name": "python2"
  },
  "language_info": {
   "codemirror_mode": {
    "name": "ipython",
    "version": 2
   },
   "file_extension": ".py",
   "mimetype": "text/x-python",
   "name": "python",
   "nbconvert_exporter": "python",
   "pygments_lexer": "ipython2",
   "version": "2.7.12"
  }
 },
 "nbformat": 4,
 "nbformat_minor": 0
}
