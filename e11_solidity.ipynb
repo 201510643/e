{
 "cells": [
  {
   "cell_type": "markdown",
   "metadata": {
    "slideshow": {
     "slide_type": "slide"
    }
   },
   "source": [
    "#  11. Solidity 제어, 데이터구조\n",
    "\n",
    "* Last Updated 20190605WEB1200 20190120SUN0000 20180707SAT1300 20170112\n",
    "* todo: 1) ```watch``` 2) library ```myLib+StringUtils``` 3) 계정에서 발생한 거래의 목록? 4) registry\n",
    "\n",
    "## 9.1 학습내용\n",
    "\n",
    "### 9.1.1 목표\n",
    " \n",
    "* solidity 배우기"
   ]
  },
  {
   "cell_type": "markdown",
   "metadata": {
    "slideshow": {
     "slide_type": "slide"
    }
   },
   "source": [
    "### 9.1.2 목차\n",
    "\n",
    "* 9.6 [제어](#9.6)\n",
    "    * 문제 Hello World Contract - 이름정하고, 헬로우 할 때 알아내기\n",
    "* 9.7 데이터구조\n",
    "    * 9.7.1 Array\n",
    "    * 9.7.2 [mapping](#S.5.2)\n",
    "    * 실습 Members\n",
    "    * 실습 BankV4\n",
    "* 9.8 [Exception](#9.6)\n"
   ]
  },
  {
   "cell_type": "markdown",
   "metadata": {
    "slideshow": {
     "slide_type": "slide"
    }
   },
   "source": [
    "## 9.6 제어\n",
    "<a id='11.4'></a>\n",
    "\n",
    "\n",
    "### 9.6.1 반복문\n",
    "\n",
    "반복마다 비용이 소요된다.\n",
    "무한반복은 사용하면 안된다. gas가 반복마다 소비되고 한도 gasLimit를 초과하게 되면 실행이 중지된다.\n",
    "\n",
    "* for문\n",
    "```python\n",
    "function getSum() public returns(uint) {\n",
    "    uint sum=0;\n",
    "    for(uint i=0;i<10;i++)\n",
    "        sum+=i;\n",
    "    return sum;\n",
    "}\n",
    "```\n",
    "\n",
    "* while문\n",
    "```python\n",
    "function getSum() public returns(uint) {\n",
    "    uint sum=0;\n",
    "    uint i=0;\n",
    "    do {\n",
    "        sum+=i;\n",
    "        i++;\n",
    "    } while(i<10);\n",
    "    return sum;\n",
    "}\n",
    "```"
   ]
  },
  {
   "cell_type": "markdown",
   "metadata": {
    "slideshow": {
     "slide_type": "subslide"
    }
   },
   "source": [
    "* switch and goto를 제외하고, 다른 언어에서 제공하는 if, else, while, do, for, break, continue, return, ?\n",
    "\n",
    "```python\n",
    "if(condition) {\n",
    "    ...\n",
    "} else if {\n",
    "    ...\n",
    "}\n",
    "```"
   ]
  },
  {
   "cell_type": "markdown",
   "metadata": {
    "slideshow": {
     "slide_type": "subslide"
    }
   },
   "source": [
    "Operation name | Gas Cost | Function\n",
    "-----|-----|-----\n",
    "step\t| 1\t| Default amount of gas to pay for an execution cycle.\n",
    "stop \t| 0\t| Nothing paid for the SUICIDE operation.\n",
    "sha3 \t| 20 \t| Paid for a SHA3 operation.\n",
    "sload \t| 20 \t| Paid for a SLOAD operation.\n",
    "sstore \t| 100 \t| Paid for a normal SSTORE operation (doubled or waived sometimes).\n",
    "balance \t| 20 \t| Paid for a BALANCE operation\n",
    "create \t| 100 \t| Paid for a CREATE operation\n",
    "call \t| 20 \t| Paid for a CALL operation.\n",
    "memory \t| 1\t| Paid for every additional word when expanding memory\n",
    "txdata \t| 5 \t| Paid for every byte of data or code for a transaction\n",
    "transaction \t| 500 \t| Paid for every transaction"
   ]
  },
  {
   "cell_type": "markdown",
   "metadata": {
    "slideshow": {
     "slide_type": "slide"
    }
   },
   "source": [
    "## 실습: Hello World Contract - 이름정하고, 헬로우 할 때 알아내기 \n",
    "\n",
    "* \"Hello world!\"를 출력하는 프로그램.\n",
    "* 로컬에서 command line으로 컴파일하기 - 속성, 생성자, 함수를 갖추어 본다."
   ]
  },
  {
   "cell_type": "markdown",
   "metadata": {
    "slideshow": {
     "slide_type": "subslide"
    }
   },
   "source": [
    "###  단계 1: 컨트랙 개발\n",
    "\n",
    "Line | 설명\n",
    "-----|-----\n",
    "1 | major version 5 이상 최신으로 컴파일\n",
    "2 | contract 명. 파일명과 반드시 일치할 필요가 없다.\n",
    "3 | 속성 hello. 누구나사용할 수 있도록 public\n",
    "4 | 속성 address. private으로 자신만 사용할 수 있게 선언.\n",
    "6 | event로서 문자열 인자를 출력한다. Solidity에는 print문이 별도로 없다. 문자열을 반환하거나 event문으로 출력할 수 있다.\n",
    "7 | 생성자로서 외부에서 인자를 받아 속성을 초기화. constructor는 public 또는 internal로 선언해야 한다.\n",
    "8 ~ 9 | 속성 값을 넣어준다. msg는 전역변수로서 msg.sender는 전송자의 계정주소를 말한다. 생성자의 msg.sender를 컨트랙의 소유주owner로 등록한다.\n",
    "11 ~ 13 | sayHello() 함수는 속성 값을 읽는다. 따라서 view로 선언한다. 인자는 함수 내에서만 잠시 사용하므로 memory로 선언\n",
    "14 ~ 17 | modifier 함수. msg.sender와 owner가 일치하지 않으면 예외처리한다. 아니면 계속 실행.\n",
    "20 ~ 30 | printOwner() 함수는 event함수를 가지고 있으므로 view로 선언하지 않는다. view와 event는 같이 사용할 수 없다. event는 상태를 변경하기 때문이다.\n",
    "\n",
    "> event\n",
    "> event는 상태를 변경하는 함수이다. 따라서 transaction에서만 사용할 수 있다.\n",
    "transaction 함수는 마이닝이 되어야 하는 함수이므로 즉시 값을 반환하는 return을 사용하는 것이 의미가 없다.\n",
    "반면에 call함수는 마이닝없이 즉시 실행되는 함수이므로 event를 발생시키는 것 역시 \n",
    "\n",
    "* public 속성은 다음과 같이 볼 수 있다.\n",
    "> h.owner.call();\n",
    "'0x2e49e21e708b7d83746ec676a4afda47f1a0d693'"
   ]
  },
  {
   "cell_type": "code",
   "execution_count": 13,
   "metadata": {
    "collapsed": false,
    "slideshow": {
     "slide_type": "subslide"
    }
   },
   "outputs": [
    {
     "name": "stdout",
     "output_type": "stream",
     "text": [
      "Overwriting src/sHello1.sol\n"
     ]
    }
   ],
   "source": [
    "%%writefile src/sHello1.sol\n",
    "pragma solidity ^0.5.0;\n",
    "contract sHelloV1 {\n",
    "    string public hello;\n",
    "    address private owner;\n",
    "    //event printLog(address _addr); BigNumber error in printing address\n",
    "    event printLog(string s);\n",
    "    constructor(string memory _hello) public {\n",
    "        hello=_hello;\n",
    "        owner=msg.sender;\n",
    "    }\n",
    "    function sayHello() view public returns(string memory) {\n",
    "        return hello;\n",
    "    }\n",
    "    modifier isOwner() {\n",
    "        if (msg.sender != owner) {\n",
    "            revert();\n",
    "        }\n",
    "        _; //continue executing rest of method body\n",
    "    }\n",
    "    function printOwner() isOwner public returns(string memory) {\n",
    "        string memory s=\"\";\n",
    "        if (msg.sender==owner) {\n",
    "            s=\"msg.sender is the same as the owner\";\n",
    "            emit printLog(s);\n",
    "        } else {\n",
    "            s=\"msg.sender is different from the owner\";\n",
    "            emit printLog(s);\n",
    "        }\n",
    "        return s;\n",
    "    }\n",
    "}"
   ]
  },
  {
   "cell_type": "markdown",
   "metadata": {
    "slideshow": {
     "slide_type": "subslide"
    }
   },
   "source": [
    "### 단계 2: 컴파일\n",
    "* solc를 사용해서 abi, bin을 구한다.\n",
    "* abi는 ABI Application Binary Interface. ABI는 컴파일 시점에 생성되고, 런타임 동적으로 호출된다."
   ]
  },
  {
   "cell_type": "code",
   "execution_count": 15,
   "metadata": {
    "collapsed": false,
    "scrolled": true
   },
   "outputs": [
    {
     "name": "stdout",
     "output_type": "stream",
     "text": [
      "Warning: This is a pre-release compiler version, please do not use it in production.\r\n",
      "\r\n",
      "======= src/sHello1.sol:sHelloV1 =======\r\n",
      "Contract JSON ABI \r\n",
      "[{\"constant\":true,\"inputs\":[],\"name\":\"hello\",\"outputs\":[{\"name\":\"\",\"type\":\"string\"}],\"payable\":false,\"stateMutability\":\"view\",\"type\":\"function\"},{\"constant\":false,\"inputs\":[],\"name\":\"printOwner\",\"outputs\":[{\"name\":\"\",\"type\":\"string\"}],\"payable\":false,\"stateMutability\":\"nonpayable\",\"type\":\"function\"},{\"constant\":true,\"inputs\":[],\"name\":\"sayHello\",\"outputs\":[{\"name\":\"\",\"type\":\"string\"}],\"payable\":false,\"stateMutability\":\"view\",\"type\":\"function\"},{\"inputs\":[{\"name\":\"_hello\",\"type\":\"string\"}],\"payable\":false,\"stateMutability\":\"nonpayable\",\"type\":\"constructor\"},{\"anonymous\":false,\"inputs\":[{\"indexed\":false,\"name\":\"s\",\"type\":\"string\"}],\"name\":\"printLog\",\"type\":\"event\"}]\r\n"
     ]
    }
   ],
   "source": [
    "!solc --abi src/sHello1.sol"
   ]
  },
  {
   "cell_type": "code",
   "execution_count": null,
   "metadata": {
    "collapsed": true
   },
   "outputs": [],
   "source": [
    "!solc --bin src/sHello1.sol"
   ]
  },
  {
   "cell_type": "markdown",
   "metadata": {
    "slideshow": {
     "slide_type": "subslide"
    }
   },
   "source": [
    "### 단계 3: 배포\n",
    "\n",
    "* bin앞에 0x를 붙여준다.\n",
    "* constructor 인자를 new()에 넣어준다.\n",
    "\n",
    "* gas를 지급해야 하는 등 비용이 발생하는 경우에는 반드시 web3.personal.unlockAccount()를 해주어야 한다.\n",
    "* browser-solidity를 사용하면, Web3 deploy를 복사해서 사용할 수 있다. abi, bin을 넣은 javascript명령문을 발견할 수 있다."
   ]
  },
  {
   "cell_type": "code",
   "execution_count": 17,
   "metadata": {
    "collapsed": false
   },
   "outputs": [
    {
     "name": "stdout",
     "output_type": "stream",
     "text": [
      "Overwriting src/sHello1.js\n"
     ]
    }
   ],
   "source": [
    "%%writefile src/sHello1.js\n",
    "var Web3=require('web3');\n",
    "var web3;\n",
    "if (typeof web3 !== 'undefined') {\n",
    "    web3 = new Web3(web3.currentProvider);\n",
    "} else {\n",
    "    // set the provider you want from Web3.providers\n",
    "    web3 = new Web3(new Web3.providers.HttpProvider(\"http://117.16.44.45:8445\"));\n",
    "}\n",
    "//var web3 = new Web3(new Web3.providers.HttpProvider(\"http://117.16.44.45:8445\"));\n",
    "var _abiArray=[{\"constant\":true,\"inputs\":[],\"name\":\"hello\",\"outputs\":[{\"name\":\"\",\"type\":\"string\"}],\"payable\":false,\"stateMutability\":\"view\",\"type\":\"function\"},{\"constant\":false,\"inputs\":[],\"name\":\"printOwner\",\"outputs\":[{\"name\":\"\",\"type\":\"string\"}],\"payable\":false,\"stateMutability\":\"nonpayable\",\"type\":\"function\"},{\"constant\":true,\"inputs\":[],\"name\":\"sayHello\",\"outputs\":[{\"name\":\"\",\"type\":\"string\"}],\"payable\":false,\"stateMutability\":\"view\",\"type\":\"function\"},{\"inputs\":[{\"name\":\"_hello\",\"type\":\"string\"}],\"payable\":false,\"stateMutability\":\"nonpayable\",\"type\":\"constructor\"},{\"anonymous\":false,\"inputs\":[{\"indexed\":false,\"name\":\"s\",\"type\":\"string\"}],\"name\":\"printLog\",\"type\":\"event\"}];\n",
    "//convert string to json\n",
    "//var _abiArray=JSON.parse(_abiStr);\n",
    "var _bin=\"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\";\n",
    "var _contract = web3.eth.contract(_abiArray);\n",
    "//unlock the account with a password provided\n",
    "//web3.personal.unlockAccount(web3.eth.accounts[0],'password');\n",
    "var _instance=_contract.new(\"hello world\",{data:'0x'+_bin,from:web3.eth.accounts[0],gas:1000000}, function(err, contract) {\n",
    "    if (!err) {\n",
    "        console.log(\"contractAddress: \", contract.address);\n",
    "        console.log(\"transactionHash: \", contract.transactionHash);\n",
    "    }\n",
    "});\n"
   ]
  },
  {
   "cell_type": "code",
   "execution_count": 18,
   "metadata": {
    "collapsed": false,
    "slideshow": {
     "slide_type": "subslide"
    }
   },
   "outputs": [
    {
     "name": "stdout",
     "output_type": "stream",
     "text": [
      "contractAddress:  undefined\n",
      "transactionHash:  0x2ef00671e310f594dca636acbc352ce61463e78110e8098b0d483c8374643248\n",
      "contractAddress:  0x96d8b65b4586b090840d6587c216d4a69071f405\n",
      "transactionHash:  0x2ef00671e310f594dca636acbc352ce61463e78110e8098b0d483c8374643248\n"
     ]
    }
   ],
   "source": [
    "!node src/sHello1.js"
   ]
  },
  {
   "cell_type": "markdown",
   "metadata": {
    "slideshow": {
     "slide_type": "subslide"
    }
   },
   "source": [
    "* node로 sHello1.js를 실행하면 화면좌측에 보이듯이 transaction이 생성되고 그 hash값 이 주어진다.\n",
    "\n",
    "우측 geth 단말에서 보듯이 대기중 transaction hash 값이 서로 일치한다.\n",
    "마이닝을 하고 나면 contract 주소가 주어진다.\n",
    "\n",
    "```\n",
    "INFO [01-08|11:37:07.548] Submitted contract creation\n",
    "fullhash=0x2ef00671e310f594dca636acbc352ce61463e78110e8098b0d483c8374643248\n",
    "contract=0x96d8b65B4586B090840d6587C216D4A69071F405\n",
    "```\n",
    "\n",
    "![alt text](figures/sol_helloV1Web3DeployMining.png \"deploy hello.sol using web3 with mining\")"
   ]
  },
  {
   "cell_type": "markdown",
   "metadata": {
    "slideshow": {
     "slide_type": "subslide"
    }
   },
   "source": [
    "### 단계 4: 사용"
   ]
  },
  {
   "cell_type": "code",
   "execution_count": 2,
   "metadata": {
    "collapsed": false
   },
   "outputs": [
    {
     "name": "stdout",
     "output_type": "stream",
     "text": [
      "Overwriting src/sHello1Use.js\n"
     ]
    }
   ],
   "source": [
    "%%writefile src/sHello1Use.js\n",
    "var Web3=require('web3');\n",
    "var web3 = new Web3(new Web3.providers.HttpProvider(\"http://117.16.44.45:8445\"));\n",
    "var _abiArray=[{\"constant\":true,\"inputs\":[],\"name\":\"hello\",\"outputs\":[{\"name\":\"\",\"type\":\"string\"}],\"payable\":false,\"stateMutability\":\"view\",\"type\":\"function\"},{\"constant\":false,\"inputs\":[],\"name\":\"printOwner\",\"outputs\":[{\"name\":\"\",\"type\":\"string\"}],\"payable\":false,\"stateMutability\":\"nonpayable\",\"type\":\"function\"},{\"constant\":true,\"inputs\":[],\"name\":\"sayHello\",\"outputs\":[{\"name\":\"\",\"type\":\"string\"}],\"payable\":false,\"stateMutability\":\"view\",\"type\":\"function\"},{\"inputs\":[{\"name\":\"_hello\",\"type\":\"string\"}],\"payable\":false,\"stateMutability\":\"nonpayable\",\"type\":\"constructor\"},{\"anonymous\":false,\"inputs\":[{\"indexed\":false,\"name\":\"s\",\"type\":\"string\"}],\"name\":\"printLog\",\"type\":\"event\"}];\n",
    "//var _abiArray=JSON.parse(_abiArray);\n",
    "var shelloContract = web3.eth.contract(_abiArray);\n",
    "var shello = shelloContract.at(\"0x96d8b65b4586b090840d6587c216d4a69071f405\");\n",
    "var event = shello.printLog(function (error, result) {\n",
    "    if (!error) {\n",
    "        console.log(\"sHello1: event triggered =====> \",result);\n",
    "        process.exit(1);\n",
    "    }\n",
    "});\n",
    "//console.log(shello.printOwner.call());\n",
    "console.log(shello.printOwner({from:web3.eth.accounts[0],gas:100000}));"
   ]
  },
  {
   "cell_type": "markdown",
   "metadata": {
    "slideshow": {
     "slide_type": "subslide"
    }
   },
   "source": [
    "event의 인자는 transaction log에 저장이 된다.\n",
    "이벤트는 거래가 마이닝되어 블럭에 포함되어야만 발생된다.\n",
    "트랙잭션이 pending되어 완료가 되지 않으면, 로그에 포함되지 않기 때문에 여기서 event가 발생하는지 지켜보는 경우  기다리게 된다.\n",
    "단 이벤트가 발생하는 순서는 지켜진다.\n",
    "\n",
    "단순하게 블록체인의 transaction이 아닌 ```call()```은 이벤트를 발생하지 않게 된다.\n",
    "```python\n",
    "shello.printOwner.call()\n",
    "```"
   ]
  },
  {
   "cell_type": "code",
   "execution_count": 3,
   "metadata": {
    "collapsed": false
   },
   "outputs": [
    {
     "name": "stdout",
     "output_type": "stream",
     "text": [
      "0xf2641af8884e1d49e650da2f6cf11e996145b8d656d9bf507c3bf83a72b98527\n",
      "sHello1: event triggered =====>  { address: '0x96d8b65b4586b090840d6587c216d4a69071f405',\n",
      "  blockNumber: 88,\n",
      "  transactionHash: '0xf2641af8884e1d49e650da2f6cf11e996145b8d656d9bf507c3bf83a72b98527',\n",
      "  transactionIndex: 0,\n",
      "  blockHash: '0xa525a09ae60c39b1b57ee1077169ef0362d564fc953b122caf904da4b20454d6',\n",
      "  logIndex: 0,\n",
      "  removed: false,\n",
      "  event: 'printLog',\n",
      "  args: { s: 'msg.sender is the same as the owner' } }\n"
     ]
    }
   ],
   "source": [
    "!node src/sHello1Use.js"
   ]
  },
  {
   "cell_type": "markdown",
   "metadata": {
    "slideshow": {
     "slide_type": "subslide"
    }
   },
   "source": [
    "이벤트 로그 event log in REMIX web3 deploy\n",
    "0.5.0으로 컴파일\n",
    "* Environment를 Javascript VM으로\n",
    "* Deploy버튼 옆에 생성자 함수를 호출하기 위해 문자열 \"hello jsl\"을 넣는다. 문자열에 따옴표를 잊지 않는다.\n",
    "* Deploy버튼을 누르면 \"Deployed Contracts\" 아래, sHello 객체가 나타난다. 괄호안 메모리는 실제 블록체인에 배포되지 않았다는 의미 (Javascript VM이므로)\n",
    "* 속성 및 함수 버튼들을 눌러 결과가 출력되는지 보자.\n",
    "* printOwner함수 버튼을 누르면 화면 우측 하단을 잘 살펴보자. 특히 굵은 글씨 \"logs\"를 누르면 하단에 표가 펼쳐지고 이벤트 로그를 볼 수 있다.\n",
    "\n",
    "![alt text](figures/sol_eventREMIX.png \"geth download page\")"
   ]
  },
  {
   "cell_type": "markdown",
   "metadata": {
    "slideshow": {
     "slide_type": "subslide"
    }
   },
   "source": [
    "### 조금 고쳐서 블록체인으로 올려서 사용하기\n",
    "\n",
    "* string을 합치는 함수는 없다. 인자를 출력하는 함수로 고쳤다.\n",
    "hello + world와 같이 할 수 없다.\n",
    "* kill()함수를 만들었다. selfdestruct()를 사용하여 생성자가 컨트랙을 삭제할 수 있다. 컨트랙은 Read Only로서, 만들어지면 영구히 남게된다."
   ]
  },
  {
   "cell_type": "code",
   "execution_count": 29,
   "metadata": {
    "collapsed": false
   },
   "outputs": [
    {
     "name": "stdout",
     "output_type": "stream",
     "text": [
      "Overwriting src/sHello2.sol\n"
     ]
    }
   ],
   "source": [
    "%%writefile src/sHello2.sol\n",
    "pragma solidity ^0.4.0;\n",
    "contract sHello2 {\n",
    "    address owner;\n",
    "    event printLog(string _s);\n",
    "    function sHello2() {\n",
    "        owner=msg.sender;\n",
    "    }\n",
    "    function sayHello(string _hello) constant returns(string) {\n",
    "        printLog(_hello);\n",
    "        return _hello;\n",
    "    }\n",
    "    function kill() { if (msg.sender == owner) selfdestruct(owner); }\n",
    "}\n",
    "\n",
    "\n"
   ]
  },
  {
   "cell_type": "markdown",
   "metadata": {
    "slideshow": {
     "slide_type": "subslide"
    }
   },
   "source": [
    "* 위 컨트랙을 컴파일하였다.\n",
    "컴파일 바이너리 code는 동일한 contract이지만 공백과 같은 whitespace를 포함하면 달라질 수 있다.\n",
    "따라서 배포할 경우 컴파일 code와 동일하도록 유의해야 한다.\n",
    "컴파일은 solc로, 배포할 경우 Browser Solidity로 다르게 하면  \n",
    "* 컴파일된 컨트랙을 실행하려면, evm이 필요하다.\n",
    "    * 네트워크를 올리고, 블록체인을 준비한다.\n",
    "    * 거기에 byte code를 올려서\n",
    "    * 블록체인의 주소를 통해 사용한다."
   ]
  },
  {
   "cell_type": "code",
   "execution_count": 1,
   "metadata": {
    "collapsed": false
   },
   "outputs": [
    {
     "name": "stdout",
     "output_type": "stream",
     "text": [
      "Warning: This is a pre-release compiler version, please do not use it in production.\r\n",
      "src/sHello2.sol:5:5: Warning: Defining constructors as functions with the same name as the contract is deprecated. Use \"constructor(...) { ... }\" instead.\r\n",
      "    function sHello2() {\r\n",
      "    ^ (Relevant source part starts here and spans across multiple lines).\r\n",
      "src/sHello2.sol:9:9: Warning: Invoking events without \"emit\" prefix is deprecated.\r\n",
      "        printLog(_hello);\r\n",
      "        ^--------------^\r\n",
      "src/sHello2.sol:5:5: Warning: No visibility specified. Defaulting to \"public\". \r\n",
      "    function sHello2() {\r\n",
      "    ^ (Relevant source part starts here and spans across multiple lines).\r\n",
      "src/sHello2.sol:8:5: Warning: No visibility specified. Defaulting to \"public\". \r\n",
      "    function sayHello(string _hello) constant returns(string) {\r\n",
      "    ^ (Relevant source part starts here and spans across multiple lines).\r\n",
      "src/sHello2.sol:12:5: Warning: No visibility specified. Defaulting to \"public\". \r\n",
      "    function kill() { if (msg.sender == owner) selfdestruct(owner); }\r\n",
      "    ^---------------------------------------------------------------^\r\n",
      "src/sHello2.sol:9:9: Warning: Function declared as view, but this expression (potentially) modifies the state and thus requires non-payable (the default) or payable.\r\n",
      "        printLog(_hello);\r\n",
      "        ^--------------^\r\n"
     ]
    }
   ],
   "source": [
    "!solc src/sHello2.sol --combined-json abi,bin > src/sHello2.json"
   ]
  },
  {
   "cell_type": "code",
   "execution_count": 2,
   "metadata": {
    "collapsed": false
   },
   "outputs": [
    {
     "name": "stdout",
     "output_type": "stream",
     "text": [
      "{\"contracts\":{\"sHello2\":{\"abi\":\"[{\\\"constant\\\":false,\\\"inputs\\\":[],\\\"name\\\":\\\"kill\\\",\\\"outputs\\\":[],\\\"payable\\\":false,\\\"type\\\":\\\"function\\\"},{\\\"constant\\\":true,\\\"inputs\\\":[{\\\"name\\\":\\\"_hello\\\",\\\"type\\\":\\\"string\\\"}],\\\"name\\\":\\\"sayHello\\\",\\\"outputs\\\":[{\\\"name\\\":\\\"\\\",\\\"type\\\":\\\"string\\\"}],\\\"payable\\\":false,\\\"type\\\":\\\"function\\\"},{\\\"inputs\\\":[],\\\"payable\\\":false,\\\"type\\\":\\\"constructor\\\"},{\\\"anonymous\\\":false,\\\"inputs\\\":[{\\\"indexed\\\":false,\\\"name\\\":\\\"_s\\\",\\\"type\\\":\\\"string\\\"}],\\\"name\\\":\\\"printLog\\\",\\\"type\\\":\\\"event\\\"}]\",\"bin\":\"606060405234610000575b33600060006101000a81548173ffffffffffffffffffffffffffffffffffffffff021916908373ffffffffffffffffffffffffffffffffffffffff1602179055505b5b6102ba8061005c6000396000f30060606040526000357c0100000000000000000000000000000000000000000000000000000000900463ffffffff16806341c0e1b514610049578063c3a9b1c514610058575b610000565b3461000057610056610136565b005b34610000576100ad600480803590602001908201803590602001908080601f016020809104026020016040519081016040528093929190818152602001838380828437820191505050505050919050506101ca565b60405180806020018281038252838181518152602001915080519060200190808383600083146100fc575b8051825260208311156100fc576020820191506020810190506020830392506100d8565b505050905090810190601f1680156101285780820380516001836020036101000a031916815260200191505b509250505060405180910390f35b600060009054906101000a900473ffffffffffffffffffffffffffffffffffffffff1673ffffffffffffffffffffffffffffffffffffffff163373ffffffffffffffffffffffffffffffffffffffff1614156101c757600060009054906101000a900473ffffffffffffffffffffffffffffffffffffffff1673ffffffffffffffffffffffffffffffffffffffff16ff5b5b565b60206040519081016040528060008152507f68d255efcaa062895d3889d0e53f99389409361c6f0735ef9542be5ca11d134382604051808060200182810382528381815181526020019150805190602001908083836000831461024c575b80518252602083111561024c57602082019150602081019050602083039250610228565b505050905090810190601f1680156102785780820380516001836020036101000a031916815260200191505b509250505060405180910390a18190505b9190505600a165627a7a723058208043b74680c91693c93934ad41970a0f4c2fabe56988e6717a217402da70c1ff0029\"}},\"version\":\"0.4.8+commit.60cc1668.Linux.g++\"}\r\n"
     ]
    }
   ],
   "source": [
    "!cat src/sHello2.json"
   ]
  },
  {
   "cell_type": "markdown",
   "metadata": {
    "slideshow": {
     "slide_type": "subslide"
    }
   },
   "source": [
    "\n",
    "contractName=Object.keys(_json.contracts) 으로 contract명을 구함 (상대적 경로를 가진)\n",
    "```python\n",
    "> contractName=Object.keys(_json.contracts)\n",
    "[ 'src/sHello2.sol:sHello2' ]\n",
    "> _json.contracts[contractName].abi\n",
    "'[{\"constant\":false,\"inputs\":[],\"name\":\"kill\",\"outputs\":[],\"payable\":false,\"stateMutability\":\"nonpayable\",\"type\":\"function\"},{\"constant\":true,\"inputs\":[{\"name\":\"_hello\",\"type\":\"string\"}],\"name\":\"sayHello\",\"outputs\":[{\"name\":\"\",\"type\":\"string\"}],\"payable\":false,\"stateMutability\":\"view\",\"type\":\"function\"},{\"inputs\":[],\"payable\":false,\"stateMutability\":\"nonpayable\",\"type\":\"constructor\"},{\"anonymous\":false,\"inputs\":[{\"indexed\":false,\"name\":\"_s\",\"type\":\"string\"}],\"name\":\"printLog\",\"type\":\"event\"}]'\n",
    "> JSON.parse(_json.contracts[contractName].abi);\n",
    "[ { constant: false,\n",
    "    inputs: [],\n",
    "    name: 'kill',\n",
    "    outputs: [],\n",
    "    payable: false,\n",
    "    stateMutability: 'nonpayable',\n",
    "    type: 'function' },\n",
    "  { constant: true,\n",
    "    inputs: [ [Object] ],\n",
    "    name: 'sayHello',\n",
    "    outputs: [ [Object] ],\n",
    "    payable: false,\n",
    "    stateMutability: 'view',\n",
    "    type: 'function' },\n",
    "  { inputs: [],\n",
    "    payable: false,\n",
    "    stateMutability: 'nonpayable',\n",
    "    type: 'constructor' },\n",
    "  { anonymous: false,\n",
    "    inputs: [ [Object] ],\n",
    "    name: 'printLog',\n",
    "    type: 'event' } ]\n",
    "```"
   ]
  },
  {
   "cell_type": "code",
   "execution_count": 2,
   "metadata": {
    "collapsed": false,
    "slideshow": {
     "slide_type": "subslide"
    }
   },
   "outputs": [
    {
     "name": "stdout",
     "output_type": "stream",
     "text": [
      "Overwriting src/sHello2.js\n"
     ]
    }
   ],
   "source": [
    "%%writefile src/sHello2.js\n",
    "var Web3=require('web3');\n",
    "var web3=new Web3(new Web3.providers.HttpProvider(\"http://117.16.44.45:8445\"));\n",
    "var fs=require('fs');\n",
    "var _str = fs.readFileSync(\"src/sHello2.json\");\n",
    "var _json=JSON.parse(_str);\n",
    "var _abiArray=JSON.parse(_json.contracts.sHello2.abi);\n",
    "var _bin=_json.contracts.sHello2.bin;\n",
    "var _contract = web3.eth.contract(_abiArray);\n",
    "var _instance=_contract.new({data:'0x'+_bin,from:web3.eth.accounts[0],gas:1000000}, function(err, contract) {\n",
    "    if (!err && contract.address) {\n",
    "        console.log(\"contractAddress: \", contract.address);\n",
    "        console.log(\"transactionHash: \", contract.transactionHash);\n",
    "    }\n",
    "});\n",
    "\n",
    "\n"
   ]
  },
  {
   "cell_type": "code",
   "execution_count": 3,
   "metadata": {
    "collapsed": false
   },
   "outputs": [
    {
     "name": "stdout",
     "output_type": "stream",
     "text": [
      "/home/jsl/Code/git/bb/jsl/bitcoin/src/sHello2.js:6\r\n",
      "var _abiArray=JSON.parse(_json.contracts.sHello2.abi);\r\n",
      "                                                ^\r\n",
      "\r\n",
      "TypeError: Cannot read property 'abi' of undefined\r\n",
      "    at Object.<anonymous> (/home/jsl/Code/git/bb/jsl/bitcoin/src/sHello2.js:6:49)\r\n",
      "    at Module._compile (module.js:410:26)\r\n",
      "    at Object.Module._extensions..js (module.js:417:10)\r\n",
      "    at Module.load (module.js:344:32)\r\n",
      "    at Function.Module._load (module.js:301:12)\r\n",
      "    at Function.Module.runMain (module.js:442:10)\r\n",
      "    at startup (node.js:136:18)\r\n",
      "    at node.js:966:3\r\n"
     ]
    }
   ],
   "source": [
    "!node src/sHello2.js"
   ]
  },
  {
   "cell_type": "code",
   "execution_count": 13,
   "metadata": {
    "collapsed": false,
    "slideshow": {
     "slide_type": "subslide"
    }
   },
   "outputs": [
    {
     "name": "stdout",
     "output_type": "stream",
     "text": [
      "Overwriting src/sHello2Use.js\n"
     ]
    }
   ],
   "source": [
    "%%writefile src/sHello2Use.js\n",
    "var Web3=require('web3');\n",
    "var web3 = new Web3(new Web3.providers.HttpProvider(\"http://117.16.44.45:8445\"));\n",
    "var fs=require('fs');\n",
    "var _str = fs.readFileSync(\"src/sHello2.json\");\n",
    "var _json=JSON.parse(_str);\n",
    "var _abiArray=JSON.parse(_json.contracts.sHello2.abi);\n",
    "var _contract = web3.eth.contract(_abiArray);\n",
    "var sHello2 = _contract.at(\"0xf22a4ada3e5968646efe489c07d1499530e58dda\");\n",
    "console.log(sHello2.sayHello.call(\"hello world!\"));"
   ]
  },
  {
   "cell_type": "code",
   "execution_count": 14,
   "metadata": {
    "collapsed": false
   },
   "outputs": [
    {
     "name": "stdout",
     "output_type": "stream",
     "text": [
      "hello world!\r\n"
     ]
    }
   ],
   "source": [
    "!node src/sHello2Use.js"
   ]
  },
  {
   "cell_type": "markdown",
   "metadata": {
    "slideshow": {
     "slide_type": "slide"
    }
   },
   "source": [
    "## 9.7 데이터구조\n",
    "\n",
    "### 9.7.1 array\n",
    "\n",
    "* 배열은 순서가 있는 데이터로서 인덱스를 사용한다.\n",
    "\n",
    "* 고정배열\n",
    "\n",
    "고정배열은 배열이 저장하는 데이터의 개수를 사전에 정할 수 있는 경우에 사용한다.\n",
    "\n",
    "```python\n",
    "string[3] cities1=[\"Seoul\", \"Sydney\", \"Tokyo\"];\n",
    "```\n",
    "\n",
    "괄호 안에 개수를 적어서 초기화할 수 있다.\n",
    "```python\n",
    "int[] memory num=new int[](3);\n",
    "```"
   ]
  },
  {
   "cell_type": "markdown",
   "metadata": {
    "slideshow": {
     "slide_type": "subslide"
    }
   },
   "source": [
    "* 동적배열\n",
    "\n",
    "저장하는 데이터의 개수를 미리 정할 수 없고 나중에 정해진다.\n",
    "```string```은 그 자체로 동적배열이다.\n",
    "동적배열은 storage함수에만 사용할 수 있고, memory 변수에는 사용할 수 없다.\n",
    "Storage 배열에는 push() 함수를 사용하여 데이터를 추가할 수 있다.\n",
    "\n",
    "```python\n",
    "string[] cities2;\n",
    "cities2.push(\"New York\");\n",
    "cities2.push(\"Beijing\");\n",
    "```"
   ]
  },
  {
   "cell_type": "markdown",
   "metadata": {
    "slideshow": {
     "slide_type": "subslide"
    }
   },
   "source": [
    "* 다차원배열\n",
    "\n",
    "정수의 동적 2차원배열이다.\n",
    "앞의 3은 요소의 개수를, 뒤는 배열의 개수를 의미한다.\n",
    "다음 예는 3개의 요소를 가진 배열이 2개라는 선언이다.\n",
    "\n",
    "```python\n",
    "uint[3][] marks=[[100, 80, 95],[20,30,40]];\n",
    "```"
   ]
  },
  {
   "cell_type": "markdown",
   "metadata": {
    "slideshow": {
     "slide_type": "subslide"
    }
   },
   "source": [
    "* 배열의 반환\n",
    "    * 상태변수는 반환을 할 수 있다.\n",
    "    * **동적 배열은 그 크기를 알 수 없으므로 반환을 할 수 없다**. 배열을 반환하는 경우 사전에  크기를 알아야 한다.\n",
    "    * array memory 반환 pragma experimental ABIEncoderV2;\n",
    "\n",
    "* stat var를 변경하는 경우에는 ```view```라고 정의해서는 안된다.\n",
    "* 삭제\n",
    "```python\n",
    "delete array[index];\n",
    "```\n",
    "// If we have data = [11, 12, 13, 14]\n",
    "delete data[2];\n",
    "// After deleting we have data = [11, 12, 0, 14]\n",
    "\n",
    "\n",
    "* ```length```를 사용하여 배열 크기를 알 수 있다.\n",
    "* ```push```는 ```storage``` 배열에만 사용하고 (즉 상태변수의 배열), ```memory``` 배열에는 사용할 수 없다."
   ]
  },
  {
   "cell_type": "markdown",
   "metadata": {
    "slideshow": {
     "slide_type": "subslide"
    }
   },
   "source": [
    "## 실습 배열\n",
    "\n",
    "* 아래 ```getMathAbove70()```는 REMIX에서는 실행되어 결과가 올바르게 출력되나, 배포한 후 함수를 호출하면 빈 배열만 출력된다.\n",
    "* ```getCities()```는 동적배열을 반환하는 함수이다 (string의 배열이므로 동적 배열). 동적배열은 반환할 수 없다."
   ]
  },
  {
   "cell_type": "code",
   "execution_count": 1,
   "metadata": {
    "collapsed": false,
    "slideshow": {
     "slide_type": "subslide"
    }
   },
   "outputs": [
    {
     "name": "stdout",
     "output_type": "stream",
     "text": [
      "Writing src/ArrayTest.sol\n"
     ]
    }
   ],
   "source": [
    "%%writefile src/ArrayTest.sol\n",
    "pragma solidity ^0.5.0;\n",
    "pragma experimental ABIEncoderV2;\n",
    "\n",
    "contract ArrayTest {\n",
    "    int[5] mathMarks;\n",
    "    uint[3][] marks=[[100, 80, 95],[20,30,40]];\n",
    "    string[3] cities1=[\"Seoul\", \"Sydney\", \"Tokyo\"];\n",
    "    string[] cities2=new string[](2);\n",
    "    string[] cities3;\n",
    "    function setMathMarks() public {\n",
    "        mathMarks=[100,60,95,50,80];\n",
    "    }\n",
    "    //run setMathMarks() beforehand\n",
    "    function getMathAbove70() view public returns(int[] memory) {\n",
    "        //compute lengthOfMathAbove70\n",
    "        uint8 counter=0;\n",
    "        uint8 lengthOfMathAbove70=0;\n",
    "        for(uint8 i=0;i<mathMarks.length;i++)\n",
    "            if(mathMarks[i]>70) counter++;\n",
    "        lengthOfMathAbove70=counter;\n",
    "        //move math marks above 70\n",
    "        int[] memory mathAbove70=new int[](lengthOfMathAbove70);\n",
    "        counter=0;\n",
    "        for(uint i=0;i<mathMarks.length;i++) {\n",
    "            if(mathMarks[i]>70) {\n",
    "                mathAbove70[counter]=mathMarks[i];\n",
    "                counter++;\n",
    "            }\n",
    "        }\n",
    "        return mathAbove70;\n",
    "    }\n",
    "    function updateMarks() public returns(uint[3][] memory){\n",
    "        marks[0][0]=90;\n",
    "        return marks;\n",
    "    }\n",
    "    function setCities() public {\n",
    "        cities2[0]=\"New York\";\n",
    "        cities2.push(\"Busan\");\n",
    "        cities3.push(\"New York\");\n",
    "        cities3.push(\"Beijing\");\n",
    "    }\n",
    "    //dynamic array return needs \"pragma experimental ABIEncoderV2;\"\n",
    "    function getCities() view public returns(string[] memory){\n",
    "        return cities2;\n",
    "    }\n",
    "    function getMarksArr() view public returns(uint[3][] memory) {\n",
    "        return marks;\n",
    "    }\n",
    "    function getMarksLength() view public returns(uint) {\n",
    "        return marks.length;\n",
    "    }\n",
    "    function getArrMemory() pure public returns(uint[] memory) {\n",
    "        uint[] memory num=new uint[](3);\n",
    "        for (uint i=0; i<num.length; i++)\n",
    "            num[i]=i;       //push() not allowed for array memeory\n",
    "        return num;\n",
    "    }\n",
    "    //string is a dynamic array itself, which can not be returned.\n",
    "    //function setArrMemory() view public returns(string[] memory) {\n",
    "    function getDynamicArrMemory() view public {\n",
    "        //arr storage in memory not allowed\n",
    "        //error: string[2] places = [\"9000\", \"Sydney\"];\n",
    "        string[2] memory places = [\"9000\", \"Sydney\"];\n",
    "        //array memory push not allowed\n",
    "        //places.push(\"Seoul\");\n",
    "        places[0]=\"Seoul\";\n",
    "        //return places;\n",
    "    }\n",
    "}"
   ]
  },
  {
   "cell_type": "code",
   "execution_count": 2,
   "metadata": {
    "collapsed": false,
    "scrolled": true
   },
   "outputs": [
    {
     "name": "stdout",
     "output_type": "stream",
     "text": [
      "\r\n",
      "======= src/ArrayTest.sol:ArrayTest =======\r\n",
      "Binary: \r\n",
      "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\r\n",
      "Contract JSON ABI \r\n",
      "[{\"constant\":true,\"inputs\":[],\"name\":\"getMarksArr\",\"outputs\":[{\"name\":\"\",\"type\":\"uint256[3][]\"}],\"payable\":false,\"stateMutability\":\"view\",\"type\":\"function\"},{\"constant\":true,\"inputs\":[],\"name\":\"getMathAbove70\",\"outputs\":[{\"name\":\"\",\"type\":\"int256[]\"}],\"payable\":false,\"stateMutability\":\"view\",\"type\":\"function\"},{\"constant\":true,\"inputs\":[],\"name\":\"getArrMemory\",\"outputs\":[{\"name\":\"\",\"type\":\"uint256[]\"}],\"payable\":false,\"stateMutability\":\"pure\",\"type\":\"function\"},{\"constant\":true,\"inputs\":[],\"name\":\"getCities\",\"outputs\":[{\"name\":\"\",\"type\":\"string\"}],\"payable\":false,\"stateMutability\":\"view\",\"type\":\"function\"},{\"constant\":false,\"inputs\":[],\"name\":\"setCities\",\"outputs\":[],\"payable\":false,\"stateMutability\":\"nonpayable\",\"type\":\"function\"},{\"constant\":true,\"inputs\":[],\"name\":\"getMarksLength\",\"outputs\":[{\"name\":\"\",\"type\":\"uint256\"}],\"payable\":false,\"stateMutability\":\"view\",\"type\":\"function\"},{\"constant\":false,\"inputs\":[],\"name\":\"setMathMarks\",\"outputs\":[],\"payable\":false,\"stateMutability\":\"nonpayable\",\"type\":\"function\"},{\"constant\":false,\"inputs\":[],\"name\":\"updateMarks\",\"outputs\":[{\"name\":\"\",\"type\":\"uint256[3][]\"}],\"payable\":false,\"stateMutability\":\"nonpayable\",\"type\":\"function\"},{\"constant\":true,\"inputs\":[],\"name\":\"getDynamicArrMemory\",\"outputs\":[],\"payable\":false,\"stateMutability\":\"pure\",\"type\":\"function\"}]\r\n"
     ]
    }
   ],
   "source": [
    "!solc --abi --bin src/ArrayTest.sol"
   ]
  },
  {
   "cell_type": "code",
   "execution_count": 3,
   "metadata": {
    "collapsed": false
   },
   "outputs": [
    {
     "name": "stdout",
     "output_type": "stream",
     "text": [
      "Overwriting src/ArrayTestDeploy.js\n"
     ]
    }
   ],
   "source": [
    "%%writefile src/ArrayTestDeploy.js\n",
    "var Web3=require('web3');\n",
    "var web3;\n",
    "if (typeof web3 !== 'undefined') {\n",
    "    web3 = new Web3(web3.currentProvider);\n",
    "} else {\n",
    "    web3 = new Web3(new Web3.providers.HttpProvider(\"http://117.16.44.45:8445\"));\n",
    "}\n",
    "var _abiArray=[{\"constant\":true,\"inputs\":[],\"name\":\"getMarksArr\",\"outputs\":[{\"name\":\"\",\"type\":\"uint256[3][]\"}],\"payable\":false,\"stateMutability\":\"view\",\"type\":\"function\"},{\"constant\":true,\"inputs\":[],\"name\":\"getMathAbove70\",\"outputs\":[{\"name\":\"\",\"type\":\"int256[]\"}],\"payable\":false,\"stateMutability\":\"view\",\"type\":\"function\"},{\"constant\":true,\"inputs\":[],\"name\":\"getArrMemory\",\"outputs\":[{\"name\":\"\",\"type\":\"uint256[]\"}],\"payable\":false,\"stateMutability\":\"pure\",\"type\":\"function\"},{\"constant\":true,\"inputs\":[],\"name\":\"getCities\",\"outputs\":[{\"name\":\"\",\"type\":\"string\"}],\"payable\":false,\"stateMutability\":\"view\",\"type\":\"function\"},{\"constant\":false,\"inputs\":[],\"name\":\"setCities\",\"outputs\":[],\"payable\":false,\"stateMutability\":\"nonpayable\",\"type\":\"function\"},{\"constant\":true,\"inputs\":[],\"name\":\"getMarksLength\",\"outputs\":[{\"name\":\"\",\"type\":\"uint256\"}],\"payable\":false,\"stateMutability\":\"view\",\"type\":\"function\"},{\"constant\":false,\"inputs\":[],\"name\":\"setMathMarks\",\"outputs\":[],\"payable\":false,\"stateMutability\":\"nonpayable\",\"type\":\"function\"},{\"constant\":false,\"inputs\":[],\"name\":\"updateMarks\",\"outputs\":[{\"name\":\"\",\"type\":\"uint256[3][]\"}],\"payable\":false,\"stateMutability\":\"nonpayable\",\"type\":\"function\"},{\"constant\":true,\"inputs\":[],\"name\":\"getDynamicArrMemory\",\"outputs\":[],\"payable\":false,\"stateMutability\":\"pure\",\"type\":\"function\"}];\n",
    "var _bin=\"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\";\n",
    "var _contract = web3.eth.contract(_abiArray);\n",
    "//unlock the account with a password provided\n",
    "//web3.personal.unlockAccount(web3.eth.accounts[0],'password');\n",
    "var _instance=_contract.new({data:\"0x\"+_bin,from:web3.eth.accounts[0],gas:1000000}, function(err, contract) {\n",
    "    if (!err) {\n",
    "        console.log(\"contractAddress: \", contract.address);\n",
    "        console.log(\"transactionHash: \", contract.transactionHash);\n",
    "    }\n",
    "});"
   ]
  },
  {
   "cell_type": "code",
   "execution_count": null,
   "metadata": {
    "collapsed": false
   },
   "outputs": [
    {
     "name": "stdout",
     "output_type": "stream",
     "text": [
      "contractAddress:  undefined\r\n",
      "transactionHash:  0x95b919d8fbd439ddcdbd6d0ddcedcb7a811d6ebce30cd03e05c09f618b41687b\r\n"
     ]
    }
   ],
   "source": [
    "!node src/ArrayTestDeploy.js"
   ]
  },
  {
   "cell_type": "markdown",
   "metadata": {
    "slideshow": {
     "slide_type": "subslide"
    }
   },
   "source": [
    "### arraytest use\n",
    "\n",
    "* ```getMathAbove70()``` 함수는 빈 배열을 출력하고 있어 문제가 있다."
   ]
  },
  {
   "cell_type": "code",
   "execution_count": null,
   "metadata": {
    "collapsed": true
   },
   "outputs": [],
   "source": [
    "%%writefile src/ArrayTestUse.js\n",
    "var Web3=require('web3');\n",
    "var web3 = new Web3(new Web3.providers.HttpProvider(\"http://localhost:8545\"));\n",
    "var arraytestContract = web3.eth.contract([{\"constant\":true,\"inputs\":[],\"name\":\"getMarksArr\",\"outputs\":[{\"name\":\"\",\"type\":\"uint256[3][]\"}],\"payable\":false,\"stateMutability\":\"view\",\"type\":\"function\"},{\"constant\":true,\"inputs\":[],\"name\":\"getMathAbove70\",\"outputs\":[{\"name\":\"\",\"type\":\"int256[]\"}],\"payable\":false,\"stateMutability\":\"view\",\"type\":\"function\"},{\"constant\":true,\"inputs\":[],\"name\":\"getArrMemory\",\"outputs\":[{\"name\":\"\",\"type\":\"uint256[]\"}],\"payable\":false,\"stateMutability\":\"pure\",\"type\":\"function\"},{\"constant\":true,\"inputs\":[],\"name\":\"getCities\",\"outputs\":[{\"name\":\"\",\"type\":\"string\"}],\"payable\":false,\"stateMutability\":\"view\",\"type\":\"function\"},{\"constant\":false,\"inputs\":[],\"name\":\"setCities\",\"outputs\":[],\"payable\":false,\"stateMutability\":\"nonpayable\",\"type\":\"function\"},{\"constant\":true,\"inputs\":[],\"name\":\"getMarksLength\",\"outputs\":[{\"name\":\"\",\"type\":\"uint256\"}],\"payable\":false,\"stateMutability\":\"view\",\"type\":\"function\"},{\"constant\":false,\"inputs\":[],\"name\":\"setMathMarks\",\"outputs\":[],\"payable\":false,\"stateMutability\":\"nonpayable\",\"type\":\"function\"},{\"constant\":false,\"inputs\":[],\"name\":\"updateMarks\",\"outputs\":[{\"name\":\"\",\"type\":\"uint256[3][]\"}],\"payable\":false,\"stateMutability\":\"nonpayable\",\"type\":\"function\"},{\"constant\":true,\"inputs\":[],\"name\":\"getDynamicArrMemory\",\"outputs\":[],\"payable\":false,\"stateMutability\":\"pure\",\"type\":\"function\"}]);\n",
    "var arraytest = arraytestContract.at(\"0xc5a134071d8d9d64f582d88ece87d384ab1fe68b\");\n",
    "console.log(arraytest.setMathMarks({from:web3.eth.accounts[0]}));\n",
    "console.log(arraytest.getMathAbove70());\n",
    "console.log(arraytest.getArrMemory().toString());\n",
    "console.log(arraytest.getMarksArr().toString());"
   ]
  },
  {
   "cell_type": "code",
   "execution_count": null,
   "metadata": {
    "collapsed": true
   },
   "outputs": [],
   "source": [
    "```\n",
    "0x9e05bb4d68e98b728f2acfb9eeb22b1101687b92e1dfa410ddbc0cbeb27a4fcb\n",
    "[]\n",
    "0,1,2\n",
    "100,80,95,20,30,40\n",
    "```"
   ]
  },
  {
   "cell_type": "markdown",
   "metadata": {
    "slideshow": {
     "slide_type": "subslide"
    }
   },
   "source": [
    "> arraytest.getMarksArr()                      출력하기 위해서는 toString()\n",
    "[ [ BigNumber { s: 1, e: 2, c: [Array] },\n",
    "    BigNumber { s: 1, e: 1, c: [Array] },\n",
    "    BigNumber { s: 1, e: 1, c: [Array] } ],\n",
    "  [ BigNumber { s: 1, e: 1, c: [Array] },\n",
    "    BigNumber { s: 1, e: 1, c: [Array] },\n",
    "    BigNumber { s: 1, e: 1, c: [Array] } ] ]\n",
    "> arraytest.getMarksLength()\n",
    "BigNumber { s: 1, e: 0, c: [ 2 ] }\n",
    "> arraytest.getMarksLength().toString()\n",
    "'2'\n",
    "> arraytest.getMarksArr().toString()\n",
    "'100,80,95,20,30,40'\n",
    "> arraytest.getArrMemory();\n",
    "[ BigNumber { s: 1, e: 0, c: [ 0 ] },\n",
    "  BigNumber { s: 1, e: 0, c: [ 1 ] },\n",
    "  BigNumber { s: 1, e: 0, c: [ 2 ] } ]\n",
    "> arraytest.getArrMemory().toString();\n",
    "'0,1,2'\n",
    "> arraytest.getArrMemory().pop().toString()\n",
    "'2'"
   ]
  },
  {
   "cell_type": "markdown",
   "metadata": {
    "slideshow": {
     "slide_type": "subslide"
    }
   },
   "source": [
    "배열을 검색하는 것은 비용이 많이 발생한다. \n",
    "mapping을 사용하거나, 클라이언트 측에서 배열 데이터를 검색하는 편으로 하자.\n",
    "\n",
    "문자열 비교 '=='는 사용할 수 없다. ```keccak256()``` 해싱을 한 후 비교해야 한다."
   ]
  },
  {
   "cell_type": "code",
   "execution_count": 2,
   "metadata": {
    "collapsed": false,
    "slideshow": {
     "slide_type": "-"
    }
   },
   "outputs": [
    {
     "name": "stdout",
     "output_type": "stream",
     "text": [
      "Writing src/Members.sol\n"
     ]
    }
   ],
   "source": [
    "%%writefile src/Members.sol\n",
    "pragma solidity ^0.5.0;\n",
    "contract Members{\n",
    "    address owner;\n",
    "    event printAddr(address arg);\n",
    "    struct Member{\n",
    "        uint id;\n",
    "        string name;\n",
    "    }\n",
    "    Member[] public memberArr;\n",
    "    constructor() public {\n",
    "        owner=msg.sender;\n",
    "    }\n",
    "    function del() public {\n",
    "        delete memberArr;\n",
    "    }\n",
    "    function delOne(uint i) public{\n",
    "        delete memberArr[i];\n",
    "    }\n",
    "    function add(uint id,string memory name) public {\n",
    "        memberArr.push(Member(id,name));\n",
    "    }\n",
    "    //return Member\n",
    "    function getMember(string memory who) view public returns(uint, string memory) {\n",
    "        uint _id;\n",
    "        string memory _name;\n",
    "        for(uint i=0;i<memberArr.length;i++) {\n",
    "            _name=memberArr[i].name;\n",
    "            if(keccak256(abi.encodePacked(_name))==keccak256(abi.encodePacked(who))) {\n",
    "                _id=memberArr[i].id;\n",
    "                _name=memberArr[i].name;\n",
    "            }\n",
    "        }\n",
    "        return (_id,_name);\n",
    "    }\n",
    "    function compareStr(string memory s1, string memory s2) pure public returns(bool) {\n",
    "        return keccak256(abi.encodePacked(s1))==keccak256(abi.encodePacked(s2));\n",
    "    }\n",
    "    function compareBytes(bytes memory b1, bytes memory b2) pure public returns(bool) {\n",
    "        return keccak256(b1) == keccak256(b2);\n",
    "    }\n",
    "    function getLength() view public returns(uint) {\n",
    "        return memberArr.length;\n",
    "    }\n",
    "}"
   ]
  },
  {
   "cell_type": "markdown",
   "metadata": {
    "slideshow": {
     "slide_type": "subslide"
    }
   },
   "source": [
    "### 9.7.2 mapping\n",
    "<a id='S.5.2'></a>\n",
    "\n",
    "```mapping```은 `키`와 키에 해당하는 `값`을 쌍으로 저장한다. ```=>``` 기호를 사용하여, 좌측에 키를 오른쪽에 값을 적어준다.\n",
    "아래는 (이름, 잔고)를 저장하는 mapping이다.\n",
    "\n",
    "```python\n",
    "mapping (string => uint) public balances;\n",
    "balances[\"jsl\"] = 100;\n",
    "```"
   ]
  },
  {
   "cell_type": "markdown",
   "metadata": {
    "slideshow": {
     "slide_type": "slide"
    }
   },
   "source": [
    "## 실습: 은행\n",
    "\n",
    "앞서 은행에서는 한 계정에서의 입금, 출금을 실행해 보았다.\n",
    "여러 계정이 있는 경우, mapping을 이용해 잔고를 관리할 수 있다.\n",
    "\n",
    "```mapping(address=>uint) balanceOf;``` 라고 선언하고\n",
    "```balanceOf[<address>]=amount;```로 잔고를 저장할 수 있다.\n",
    "\n",
    "증액, 감액을 하려면:\n",
    "```python\n",
    "uint balanceToAdd=111;\n",
    "balanceOf[<address>] += balanceToAdd;\n",
    "```\n",
    "\n",
    "* adddress 자신의 주소를 따옴표 없이, 금액도 따옴표 없이 정수"
   ]
  },
  {
   "cell_type": "code",
   "execution_count": 1,
   "metadata": {
    "collapsed": false,
    "slideshow": {
     "slide_type": "subslide"
    }
   },
   "outputs": [
    {
     "name": "stdout",
     "output_type": "stream",
     "text": [
      "Writing src/BankV4.sol\n"
     ]
    }
   ],
   "source": [
    "%%writefile src/BankV4.sol\n",
    "//check for Coin.sol (ch12) and BankV3.sol 201906\n",
    "pragma solidity ^0.5.0;\n",
    "contract BankV3 {\n",
    "    address minter;\n",
    "    mapping (address => uint) balanceOf;\n",
    "    constructor() public {\n",
    "        minter = msg.sender;\n",
    "    }\n",
    "    function mint(address owner, uint amount) public {\n",
    "        require(msg.sender == minter);\n",
    "        balanceOf[owner] += amount;\n",
    "    }\n",
    "    function send(address receiver, uint amount) public {\n",
    "        require(balanceOf[msg.sender]>=_value);\n",
    "        balanceOf[msg.sender] -= amount; // Subtract from the sender\n",
    "        balanceOf[receiver] += amount;   // Add the same to the recipient\n",
    "    }\n",
    "    function queryBalance(address addr) public view returns (uint) {\n",
    "        return balanceOf[addr];\n",
    "    }\n",
    "}\n"
   ]
  },
  {
   "cell_type": "markdown",
   "metadata": {
    "slideshow": {
     "slide_type": "subslide"
    }
   },
   "source": [
    "* 중복키 확인\n",
    "\n",
    "맵은 그 특성상 중복키는 허용되지 않는다. 동일한 키로 당연히 데이터를 입력할 수가 없다.\n",
    "맵에 이미 키가 존재하는지 확인할 수 있는 ```containsKey()```와 같은 지원 함수가 없다.\n",
    "필드 ```isMember```를 설정해놓고 그 값을 확인하는 방법으로 하자.\n",
    "```\n",
    "mapping(address=>Member) memberMap;\n",
    "struct Member {\n",
    "\tuint id;\n",
    "\tstring name;\n",
    "\tbool isMember;\n",
    "}\n",
    "if (memberMap(<address>).isMember) 중복키 존재함\n",
    "```"
   ]
  },
  {
   "cell_type": "markdown",
   "metadata": {
    "slideshow": {
     "slide_type": "subslide"
    }
   },
   "source": [
    "* 삭제\n",
    "\n",
    "키삭제는 쉽지 않다. 다른 언어에서는 ```remove()```함수가 지원되어, 간편하게 키를 지울 수 있는 것과 비교된다.\n",
    "\n",
    "```\n",
    "delete pendingAccessRequest[key];\n",
    "```"
   ]
  },
  {
   "cell_type": "markdown",
   "metadata": {
    "slideshow": {
     "slide_type": "subslide"
    }
   },
   "source": [
    "#### bidirectional map\n",
    "\n",
    "주소에 대해 회원(아이디, 이름)을 저장하는 ```map```이다.\n",
    "이 경우 '이름'으로 '주소'를 검색하는 기능은 ```bidiretional map```으로 구현하였다.\n",
    "\n",
    "줄 | 설명\n",
    "-----|-----\n",
    "9 | 주소의  ```Member strcut ```을 조회하는 map\n",
    "10 | 이름의 주소를 조회하는 map\n",
    "11~16 ```addMember() ``` |  ```Member struct```을 추가하고 ```getMemberByName()``` 함수에서 이름을 입력하면 주소를 조회할 수 있도록 저장\n",
    "17~19 ```getMemberByName()``` | bidirectional map에서 이름에 해당하는 주소를 조회\n",
    "20~23 ```getMember()``` | 주소에 해당하는 ```Member struct```을 조회"
   ]
  },
  {
   "cell_type": "code",
   "execution_count": 1,
   "metadata": {
    "collapsed": false,
    "slideshow": {
     "slide_type": "subslide"
    }
   },
   "outputs": [
    {
     "name": "stdout",
     "output_type": "stream",
     "text": [
      "Writing src/MembersMap.sol\n"
     ]
    }
   ],
   "source": [
    "%%writefile src/MembersMap.sol\n",
    "pragma solidity ^0.5.0;\n",
    "\n",
    "contract MembersMap {\n",
    "    struct Member {\n",
    "        uint id;\n",
    "        string name;\n",
    "    }\n",
    "    //bidrectional map\n",
    "    mapping(address=>Member) memberMap;\n",
    "    mapping(string=>address) addressByName;\n",
    "    function addMember (uint _id, string memory _name) public {\n",
    "       Member memory m=Member(_id, _name);\n",
    "       memberMap[msg.sender]=m;\n",
    "       //saving into a bidiretional map to get address by name\n",
    "       addressByName[_name]=msg.sender;\n",
    "    }\n",
    "    function getMemberByName(string memory _name) public view returns(address) {\n",
    "        return addressByName[_name];\n",
    "    }\n",
    "    function getMember(address addr) view public returns (uint, string memory) {\n",
    "        Member memory m=memberMap[addr];\n",
    "        return (m.id, m.name);\n",
    "    }\n",
    "}"
   ]
  },
  {
   "cell_type": "markdown",
   "metadata": {
    "slideshow": {
     "slide_type": "slide"
    }
   },
   "source": [
    "## 9.8 Exception\n",
    "<a id='S.6'></a>\n",
    "\n",
    "오류는 발생하기 마련이다. 컴파일 오류는 수정하기 비교적 용이하다. 그러나 실행시점에 발생하는 오류는 잡아내기 어렵다.\n",
    "다른 언어에서 보통 제공하는 ```try..catch``` 구문도 제공되지 않는다.\n",
    "버전 4.10 이전에는 ```throw``` 명령문이 사용되었지만 문제가 있었다.\n",
    "지급한 gas를 다 소비하고 오류발생 이전의 상태로 돌려놓았다.\n",
    "\n",
    "```python\n",
    "if (msg.sender != owner) { throw; }\n",
    "```\n",
    "\n",
    "버전 4.10이후에는 ```throw```구문은 더 이상 사용되지 않고 다음 구문이 사용된다.\n"
   ]
  },
  {
   "cell_type": "markdown",
   "metadata": {
    "slideshow": {
     "slide_type": "subslide"
    }
   },
   "source": [
    "예외는 배열이 범위를 넘어서는 경우와 같이 실행되면서 발생할 수 있다.\n",
    "반면에 ```out-of-gas errors```, ```divide by zero```와 같이 어떤 특정 조건에서 예외를 발생시킬 수 있다.\n",
    "이 경우 실행이 중지되고, 원상복구 (상태변수와 잔고)된다.\n",
    "\n",
    "* ```assert()``` 미사용 gas는 반환되지 않고, 모두 소모된다. 상태는 원래대로 복원된다.\n",
    "* ```require()``` | ```true```, ```false```로 반환된다. ```false```인 경우 예외가 발생하고 실행이 중지된다. 미사용 gas를 호출자에게 반환하고 상태를 원래대로 복원한다.\n",
    "* ```revert()```  ```require()``` 함수와 동일한 의미이지만, 어떤 평가를 하지 않는다는 점이 다르다. 즉, ```revert`` 명령문은 미사용 gas를 호출자에게 반환하고 상태를 원래대로 복원한다.\n",
    "\n",
    "명령문 | gas 반환 | 원복 | 사용하는 경우\n",
    "-----|-----|-----|-----\n",
    "```assert()``` | NO | YES | overflow/underflow, invariants 등 어떤 오류가 발생하는 것을 예방하는 경우\n",
    "```revert()``` | YES | YES | ```require()```는 참, 거짓을 평가하지만 조건문 없이 수행되기 때문에 이진비교 이상을 하는 경우\n",
    "```require()``` | YES | YES | 사용자 입력 , 상태변수 값, 반환 값 등 조건을 검증하는 경우"
   ]
  },
  {
   "cell_type": "code",
   "execution_count": 3,
   "metadata": {
    "collapsed": false,
    "slideshow": {
     "slide_type": "subslide"
    }
   },
   "outputs": [
    {
     "name": "stdout",
     "output_type": "stream",
     "text": [
      "Overwriting src/ExceptionTest.sol\n"
     ]
    }
   ],
   "source": [
    "%%writefile src/ExceptionTest.sol\n",
    "pragma solidity *0.5.0;\n",
    "\n",
    "contract ExceptionTest {\n",
    "    address owner;\n",
    "    constructor() public {\n",
    "        owner=msg.sender;\n",
    "    }\n",
    "    function requireException() view public returns(string memory) {\n",
    "        //if (msg.sender != owner) { throw; }\n",
    "        require(msg.sender != owner, \"Sorry! You are NOT owner. Require failed...\");\n",
    "        return \"asserted\";\n",
    "    }\n",
    "    function assertException() view public returns(string memory) {\n",
    "        assert(msg.sender == owner);\n",
    "        return \"asserted\";\n",
    "    }\n",
    "    function revertException() view public returns(string memory) {\n",
    "        if(msg.sender != owner) {\n",
    "            revert(\"Sorry! You are NOT owner. Reverted...\");\n",
    "            return \"reverted\";\n",
    "        } else {\n",
    "            return \"not reverted\";\n",
    "        }\n",
    "    }\n",
    "    function raiseException() view public {\n",
    "        int x=0;\n",
    "        int y=0;\n",
    "        x/y;    //divide by zero\n",
    "    }\n",
    "}"
   ]
  },
  {
   "cell_type": "code",
   "execution_count": null,
   "metadata": {
    "collapsed": true
   },
   "outputs": [],
   "source": []
  }
 ],
 "metadata": {
  "celltoolbar": "Slideshow",
  "kernelspec": {
   "display_name": "Python 2",
   "language": "python",
   "name": "python2"
  },
  "language_info": {
   "codemirror_mode": {
    "name": "ipython",
    "version": 2
   },
   "file_extension": ".py",
   "mimetype": "text/x-python",
   "name": "python",
   "nbconvert_exporter": "python",
   "pygments_lexer": "ipython2",
   "version": "2.7.12"
  }
 },
 "nbformat": 4,
 "nbformat_minor": 0
}
